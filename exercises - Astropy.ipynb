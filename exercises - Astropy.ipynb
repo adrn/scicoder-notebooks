{
 "metadata": {
  "name": "exercises - Astropy_no-answers"
 },
 "nbformat": 3,
 "nbformat_minor": 0,
 "worksheets": [
  {
   "cells": [
    {
     "cell_type": "markdown",
     "metadata": {},
     "source": [
      "__1)__ Write a function to evaluate your favorite equation with units! Make sure the inputs are `Quantity`-like objects and throw an exception if not.\n",
      "\n",
      "_hint: use the `hasattr()` function to check if the input objects have a `.unit` property_"
     ]
    },
    {
     "cell_type": "code",
     "collapsed": false,
     "input": [],
     "language": "python",
     "metadata": {},
     "outputs": []
    },
    {
     "cell_type": "code",
     "collapsed": false,
     "input": [],
     "language": "python",
     "metadata": {},
     "outputs": []
    },
    {
     "cell_type": "markdown",
     "metadata": {},
     "source": [
      "__2)__ Write the same function without using `astropy.units`, assuming something about the units of the input values. How much slower is using the function with units on the same input?"
     ]
    },
    {
     "cell_type": "code",
     "collapsed": false,
     "input": [],
     "language": "python",
     "metadata": {},
     "outputs": []
    },
    {
     "cell_type": "code",
     "collapsed": false,
     "input": [],
     "language": "python",
     "metadata": {},
     "outputs": []
    },
    {
     "cell_type": "markdown",
     "metadata": {},
     "source": [
      "__3.1)__ Read in the same data table from the example notebook (../data/borkova2002.tsv)"
     ]
    },
    {
     "cell_type": "code",
     "collapsed": false,
     "input": [],
     "language": "python",
     "metadata": {},
     "outputs": []
    },
    {
     "cell_type": "markdown",
     "metadata": {},
     "source": [
      "__3.2)__ Rename the column 'Ra' (the apogalactic radius, very misleading name) to something like 'apocenter'."
     ]
    },
    {
     "cell_type": "code",
     "collapsed": false,
     "input": [],
     "language": "python",
     "metadata": {},
     "outputs": []
    },
    {
     "cell_type": "markdown",
     "metadata": {},
     "source": [
      "__3.3)__ Add a new column named `pericenter`, and compute the values using the eccentricity column (`e`) and renamed apocenter column."
     ]
    },
    {
     "cell_type": "code",
     "collapsed": false,
     "input": [],
     "language": "python",
     "metadata": {},
     "outputs": []
    },
    {
     "cell_type": "code",
     "collapsed": false,
     "input": [],
     "language": "python",
     "metadata": {},
     "outputs": []
    },
    {
     "cell_type": "markdown",
     "metadata": {},
     "source": [
      "__3.4)__ Write out a Latex table with just the coordinates RA, Dec, apocenter, and pericenter for all of the stars."
     ]
    },
    {
     "cell_type": "code",
     "collapsed": false,
     "input": [],
     "language": "python",
     "metadata": {},
     "outputs": []
    },
    {
     "cell_type": "markdown",
     "metadata": {},
     "source": [
      "__4)__ Go to the [arXiv](http://arxiv.org/list/astro-ph/new) and find a paper with a data table with equatorial coordinates. Read / parse in the table, then construct a list of the same coordinates in the Galactic system."
     ]
    },
    {
     "cell_type": "code",
     "collapsed": false,
     "input": [],
     "language": "python",
     "metadata": {},
     "outputs": []
    }
   ],
   "metadata": {}
  }
 ]
}