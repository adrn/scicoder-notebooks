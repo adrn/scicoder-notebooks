{
 "metadata": {
  "name": "Scicoder - project - SEGUE"
 },
 "nbformat": 3,
 "nbformat_minor": 0,
 "worksheets": [
  {
   "cells": [
    {
     "cell_type": "code",
     "collapsed": false,
     "input": [
      "from astropy.io import fits, ascii\n",
      "import astropy.coordinates as coord\n",
      "from matplotlib import rcParams"
     ],
     "language": "python",
     "metadata": {},
     "outputs": []
    },
    {
     "cell_type": "markdown",
     "metadata": {},
     "source": [
      "We'll start by modifying our plot defaults so we don't have to set as many parameters below:"
     ]
    },
    {
     "cell_type": "code",
     "collapsed": false,
     "input": [
      "rcParams['lines.marker'] = '.' # set the marker to a point\n",
      "rcParams['lines.markersize'] = 4 # make the point small!\n",
      "rcParams['lines.linestyle'] = 'none' # we're going to make a lot of scatter plots"
     ],
     "language": "python",
     "metadata": {},
     "outputs": []
    },
    {
     "cell_type": "markdown",
     "metadata": {},
     "source": [
      "First we'll open the SSPP (SEGUE data pipeline) data file, containing derived spectral parameters for 1843200 stars in SDSS. Each row represents data for one star. The file is a bit large, so we use `memmap=True` to use the memory-mapping feature, which handles large files better."
     ]
    },
    {
     "cell_type": "code",
     "collapsed": false,
     "input": [
      "hdulist = fits.open(\"../data/ssppOut-dr9.fits\", memmap=True)\n",
      "hdulist.info()"
     ],
     "language": "python",
     "metadata": {},
     "outputs": []
    },
    {
     "cell_type": "markdown",
     "metadata": {},
     "source": [
      "As you can see from the info, there are two HDU's: HDU0 is an empty image HDU, and HDU1 is a table. The table has 239 columns and 1843200 rows. That's our data! If your computer has enough RAM, you should be able to load this into an array like this:"
     ]
    },
    {
     "cell_type": "code",
     "collapsed": false,
     "input": [
      "all_data = hdulist[1].data"
     ],
     "language": "python",
     "metadata": {},
     "outputs": []
    },
    {
     "cell_type": "markdown",
     "metadata": {},
     "source": [
      "Now we can take a look at the column names:"
     ]
    },
    {
     "cell_type": "code",
     "collapsed": false,
     "input": [
      "all_data.dtype.names"
     ],
     "language": "python",
     "metadata": {},
     "outputs": []
    },
    {
     "cell_type": "markdown",
     "metadata": {},
     "source": [
      "The first group of columns are SDSS bit flags and survey info about the targets. Starting around __SPECTYPE_HAMMER__, they start to get interesting. __SPECTYPE_HAMMER__ and __SPECTYPE_SUBCLASS__ are attempts to classify the spectrum of the star. A little further down, notice there are a ton of columns starting with __TEFF__. These are different methods for measuring the effective temperature of the star. Similarly, __LOGG__ (surface gravity) and __FEH__ (metallicity) have a bunch of measurements as well. We're going to stick to using the adopted values, __TEFF_ADOP__, __LOGG_ADOP__, and __FEH_ADOP__."
     ]
    },
    {
     "cell_type": "code",
     "collapsed": false,
     "input": [
      "unq_spectral_types = np.unique(all_data['SPECTYPE_HAMMER'])\n",
      "print unq_spectral_types"
     ],
     "language": "python",
     "metadata": {},
     "outputs": []
    },
    {
     "cell_type": "markdown",
     "metadata": {},
     "source": [
      "---"
     ]
    },
    {
     "cell_type": "markdown",
     "metadata": {},
     "source": [
      "Now we'll use the SDSS API to pull down 100 spectra of each spectral type, interpolate onto the same wavelength grid, and coadd. The API requires a Plate ID, MJD date of observation, and a Fiber ID and returns as JSON spectrum."
     ]
    },
    {
     "cell_type": "code",
     "collapsed": false,
     "input": [
      "from scipy import interpolate"
     ],
     "language": "python",
     "metadata": {},
     "outputs": []
    },
    {
     "cell_type": "code",
     "collapsed": false,
     "input": [
      "import requests\n",
      "api_url = \"http://api.sdss3.org/spectrum\"\n",
      "\n",
      "def spectra_for_type(spectype, N=10):\n",
      "    spectype_data = best_data[best_data['SPECTYPE_HAMMER'] == spectype]\n",
      "    \n",
      "    wvlns = []\n",
      "    fluxs = []\n",
      "    for ii in np.random.randint(len(spectype_data), size=N):\n",
      "        params = dict(plate=spectype_data[ii]['PLATE'],\n",
      "                      fiber=spectype_data[ii]['FIBER'],\n",
      "                      mjd=spectype_data[ii]['MJD'],\n",
      "                      format='json')\n",
      "        r = requests.get(api_url, params=params)\n",
      "        resp = r.json()\n",
      "        wvlns.append(resp['wavelengths'])\n",
      "        fluxs.append(resp['flux'])\n",
      "    \n",
      "    return wvlns, fluxs"
     ],
     "language": "python",
     "metadata": {},
     "outputs": []
    },
    {
     "cell_type": "code",
     "collapsed": false,
     "input": [
      "wvlns,fluxs = spectra_for_type('F0', N=20)"
     ],
     "language": "python",
     "metadata": {},
     "outputs": []
    },
    {
     "cell_type": "code",
     "collapsed": false,
     "input": [
      "new_fluxs = []\n",
      "for w,f in zip(wvlns[1:], fluxs[1:]):\n",
      "    interp_func = interpolate.interp1d(w, f, kind='linear', bounds_error=False)\n",
      "    new_fluxs.append(interp_func(wvlns[0]))"
     ],
     "language": "python",
     "metadata": {},
     "outputs": []
    },
    {
     "cell_type": "code",
     "collapsed": false,
     "input": [
      "ff = fluxs[0]\n",
      "for fx in new_fluxs:\n",
      "    ff += fx"
     ],
     "language": "python",
     "metadata": {},
     "outputs": []
    },
    {
     "cell_type": "code",
     "collapsed": false,
     "input": [
      "fig,axes = subplots(2,1,figsize=(15,12))\n",
      "splpt = 1800\n",
      "axes[0].plot(wvlns[0][:splpt], ff[:splpt], linestyle='-', marker=None, drawstyle='step')\n",
      "axes[1].plot(wvlns[0][splpt:], ff[splpt:], linestyle='-', marker=None, drawstyle='step')\n",
      "axes[0].set_xlim(min(wvlns[0][:splpt]), max(wvlns[0][:splpt]))\n",
      "axes[1].set_xlim(min(wvlns[0][splpt:]), max(wvlns[0][splpt:]))"
     ],
     "language": "python",
     "metadata": {},
     "outputs": []
    },
    {
     "cell_type": "markdown",
     "metadata": {},
     "source": [
      "---"
     ]
    },
    {
     "cell_type": "markdown",
     "metadata": {},
     "source": [
      "The best data are the spectra for which no flags are triggered. These have the __FLAG__ keyword set to 'nnnnn'. We're going to first look at the radial velocities, metallicities, and distances to these 'best' stars. An additional check for bad data is to mask out any values set to -9999, which SDSS uses to mean 'bad' (FYI, that was a really bad choice!)."
     ]
    },
    {
     "cell_type": "code",
     "collapsed": false,
     "input": [
      "best_data = all_data[all_data['FLAG'] == 'nnnnn']\n",
      "best_data = best_data[(best_data['RV_ADOP'] != -9999) & \\\n",
      "                      (best_data['FEH_ADOP'] != -9999) & \\\n",
      "                      (best_data['DIST_AP'] != -9999)]"
     ],
     "language": "python",
     "metadata": {},
     "outputs": []
    },
    {
     "cell_type": "markdown",
     "metadata": {},
     "source": [
      "Let's look at a histogram of the radial velocities, metallicities, and distances for these best data:"
     ]
    },
    {
     "cell_type": "code",
     "collapsed": false,
     "input": [
      "figure(figsize=(12,5))\n",
      "\n",
      "subplot(131)\n",
      "x = hist(best_data['RV_ADOP'], bins=100)\n",
      "xlim(-500, 500)\n",
      "xlabel(\"RV [km/s]\")\n",
      "\n",
      "subplot(132)\n",
      "x = hist(best_data['FEH_ADOP'], bins=100)\n",
      "xlabel(\"[Fe/H]\")\n",
      "\n",
      "subplot(133)\n",
      "x = hist(best_data['DIST_AP'], bins=np.linspace(0., 50, 100))\n",
      "xlabel(\"$D_\\odot$ [kpc]\")"
     ],
     "language": "python",
     "metadata": {},
     "outputs": []
    },
    {
     "cell_type": "markdown",
     "metadata": {},
     "source": [
      "Now let's select all stars with a metallicity < -1, and color them differently:"
     ]
    },
    {
     "cell_type": "code",
     "collapsed": false,
     "input": [
      "idx = best_data['FEH_ADOP'] < -1\n",
      "metal_cut_stars = best_data[idx]\n",
      "other_stars = best_data[np.logical_not(idx)]\n",
      "\n",
      "figure(figsize=(12,5))\n",
      "\n",
      "subplot(131)\n",
      "h,bins = np.histogram(best_data['RV_ADOP'], bins=100)\n",
      "x = hist(other_stars['RV_ADOP'], bins=bins, color='k', alpha=0.5)\n",
      "x = hist(metal_cut_stars['RV_ADOP'], bins=bins, color='r', alpha=0.5)\n",
      "xlim(-500, 500)\n",
      "xlabel(\"RV [km/s]\")\n",
      "\n",
      "subplot(132)\n",
      "h,bins = np.histogram(best_data['FEH_ADOP'], bins=100)\n",
      "x = hist(other_stars['FEH_ADOP'], bins=bins, color='k', alpha=0.5)\n",
      "x = hist(metal_cut_stars['FEH_ADOP'], bins=bins, color='r', alpha=0.5)\n",
      "xlabel(\"[Fe/H]\")\n",
      "\n",
      "subplot(133)\n",
      "bins = np.linspace(0., 50, 100)\n",
      "x = hist(other_stars['DIST_AP'], bins=bins, color='k', alpha=0.5)\n",
      "x = hist(metal_cut_stars['DIST_AP'], bins=bins, color='r', alpha=0.5)\n",
      "xlabel(\"$D_\\odot$ [kpc]\")"
     ],
     "language": "python",
     "metadata": {},
     "outputs": []
    },
    {
     "cell_type": "markdown",
     "metadata": {},
     "source": [
      "Cool! The low metallicity stars have a larger velocity dispersion, and go to much larger distances -- consistent with our understanding of the Galactic halo."
     ]
    },
    {
     "cell_type": "markdown",
     "metadata": {},
     "source": [
      "Another thing we can do is look at Color-Color plots for these 'best' data. We'll first look at $u-g$ vs. $g-r$, then see if any of these colors correlate with stellar parameters like $T_{eff}$ or $\\log(g)$. Before that, let's make sure the data we plot has color values by masking out -9999 in the colors:"
     ]
    },
    {
     "cell_type": "code",
     "collapsed": false,
     "input": [
      "# note: UG stands for u-g\n",
      "best_data = best_data[(best_data['UG'] != -9999) & \\\n",
      "                      (best_data['GR'] != -9999) & \\\n",
      "                      (best_data['RI'] != -9999) & \\\n",
      "                      (best_data['IZ'] != -9999)]"
     ],
     "language": "python",
     "metadata": {},
     "outputs": []
    },
    {
     "cell_type": "code",
     "collapsed": false,
     "input": [
      "figure(figsize=(5,5))\n",
      "plot(best_data['UG'], best_data['GR'], alpha=0.1)\n",
      "xlim(-0.5, 3.5)\n",
      "ylim(-0.5, 2.)\n",
      "xlabel(r'$u-g$')\n",
      "ylabel(r'$g-r$')"
     ],
     "language": "python",
     "metadata": {},
     "outputs": []
    },
    {
     "cell_type": "markdown",
     "metadata": {},
     "source": [
      "Nice! But now let's make a few more projections of the data:"
     ]
    },
    {
     "cell_type": "code",
     "collapsed": false,
     "input": [
      "fig,axes = subplots(2,2,figsize=(8,8), sharex=True, sharey=True)\n",
      "axes[0,0].plot(best_data['UG'], best_data['GR'], alpha=0.1)\n",
      "axes[1,0].plot(best_data['UG'], best_data['RI'], alpha=0.1)\n",
      "axes[1,1].plot(best_data['GR'], best_data['RI'], alpha=0.1)\n",
      "axes[0,1].set_visible(False)\n",
      "\n",
      "# we have to set the labels manually\n",
      "axes[0,0].set_ylabel(\"$g-r$\")\n",
      "axes[1,0].set_xlabel(\"$u-g$\")\n",
      "axes[1,0].set_ylabel(\"$r-i$\")\n",
      "axes[1,1].set_xlabel(\"$g-r$\")\n",
      "\n",
      "# the plots share axes, so we only have to set these for one \n",
      "axes[1,1].set_xlim(-1., 3.5)\n",
      "axes[1,1].set_ylim(-.5, 1.5)\n",
      "\n",
      "# adjust the spacing so the subplots are closer\n",
      "fig.subplots_adjust(wspace=0.1, hspace=0.1)"
     ],
     "language": "python",
     "metadata": {},
     "outputs": []
    },
    {
     "cell_type": "markdown",
     "metadata": {},
     "source": [
      "Let's say we want to plot, like before, a subset of points in a different color. We could copy and paste all of those plot commands, but instead we could write a function that accepts a list of data objects, and a list of style argument dictionaries and plots them in sequence. Let's also add the 4th color dimension here ($i-z$)."
     ]
    },
    {
     "cell_type": "code",
     "collapsed": false,
     "input": [
      "def color_color(data_list, style_list, xlim=(-1., 3.5), ylim=(-.5, 1.5)):\n",
      "    \"\"\" Given a list of data, and a list of style dictionaries, make \n",
      "        color-color plots but overplot all of the data on the same figure.\n",
      "    \"\"\"\n",
      "    colors = ['UG', 'GR', 'RI', 'IZ']\n",
      "    \n",
      "    fig,axes = subplots(len(colors),len(colors),figsize=(12,12))\n",
      "    \n",
      "    for data,style in zip(data_list, style_list):\n",
      "        for ii,color1 in enumerate(colors):\n",
      "            for jj,color2 in enumerate(colors):\n",
      "                if jj > ii:\n",
      "                    # duplicate plots - we only want the lower 'tringle' of plots\n",
      "                    axes[ii,jj].set_visible(False)\n",
      "                    continue\n",
      "                elif ii == jj:\n",
      "                    # plotting color vs. color - make a histogram instead\n",
      "                    bins = np.linspace(xlim[0], xlim[1], 100)\n",
      "                    axes[ii,jj].hist(data[color1], bins=bins, **style)\n",
      "                    axes[ii,jj].set_xticklabels([])\n",
      "                    axes[ii,jj].set_yticklabels([])\n",
      "                    continue\n",
      "                \n",
      "                axes[ii,jj].plot(data[color2], data[color1], **style)\n",
      "                \n",
      "                # the first column, so we want ylabels\n",
      "                if jj == 0:\n",
      "                    axes[ii,jj].set_ylabel(\"${0[0]}-{0[1]}$\".format(color1.lower()))\n",
      "                else:\n",
      "                    axes[ii,jj].set_yticklabels([])\n",
      "                \n",
      "                # the last row, so we want xlabels\n",
      "                if ii == (len(colors)-1):\n",
      "                    axes[ii,jj].set_xlabel(\"${0[0]}-{0[1]}$\".format(color2.lower()))\n",
      "                else:\n",
      "                    axes[ii,jj].set_xticklabels([])\n",
      "\n",
      "                axes[ii,jj].set_xlim(xlim)\n",
      "                axes[ii,jj].set_ylim(ylim)\n",
      "\n",
      "    # adjust the spacing so the subplots are closer\n",
      "    fig.subplots_adjust(wspace=0.1, hspace=0.1)\n",
      "    \n",
      "    return fig, axes"
     ],
     "language": "python",
     "metadata": {},
     "outputs": []
    },
    {
     "cell_type": "code",
     "collapsed": false,
     "input": [
      "idx = best_data['FEH_ADOP'] < -1\n",
      "metal_cut_stars = best_data[idx]\n",
      "other_stars = best_data[np.logical_not(idx)]\n",
      "\n",
      "f,a = color_color([other_stars[::10], metal_cut_stars[::10]], \n",
      "                  [dict(alpha=0.1, color='k'),dict(alpha=0.1, color='r')])"
     ],
     "language": "python",
     "metadata": {},
     "outputs": []
    },
    {
     "cell_type": "code",
     "collapsed": false,
     "input": [],
     "language": "python",
     "metadata": {},
     "outputs": []
    },
    {
     "cell_type": "code",
     "collapsed": false,
     "input": [],
     "language": "python",
     "metadata": {},
     "outputs": []
    },
    {
     "cell_type": "code",
     "collapsed": false,
     "input": [],
     "language": "python",
     "metadata": {},
     "outputs": []
    },
    {
     "cell_type": "code",
     "collapsed": false,
     "input": [],
     "language": "python",
     "metadata": {},
     "outputs": []
    },
    {
     "cell_type": "code",
     "collapsed": false,
     "input": [],
     "language": "python",
     "metadata": {},
     "outputs": []
    },
    {
     "cell_type": "code",
     "collapsed": false,
     "input": [
      "stars_with_rv = all_data[(all_data['RV_ADOP'] > -999) & (all_data['RV_ADOP'] < 999) & (all_data['RV_ADOP'] != 0.)]\n",
      "stars_with_d = all_data[(all_data['DIST_AP'] > -999)]"
     ],
     "language": "python",
     "metadata": {},
     "outputs": []
    },
    {
     "cell_type": "code",
     "collapsed": false,
     "input": [
      "hist(stars_with_rv['RV_ADOP'], bins=50)"
     ],
     "language": "python",
     "metadata": {},
     "outputs": []
    },
    {
     "cell_type": "code",
     "collapsed": false,
     "input": [
      "stars = stars_with_rv[(np.abs(stars_with_rv['RV_ADOP']) < 250) & (np.abs(stars_with_rv['RV_ADOP']) > 50)]\n",
      "\n",
      "fig = figure(figsize=(14,12))\n",
      "ax = fig.add_subplot(111, projection=\"mollweide\")\n",
      "\n",
      "lon = stars['L']\n",
      "#lon = -(lon-180)\n",
      "lon[lon > 180] = -(360 - lon[lon > 180])\n",
      "lon = lon*u.degree\n",
      "lat = stars['B']*u.degree\n",
      "sc = ax.scatter(lon.radian, lat.radian, marker='.', \n",
      "                c=stars['RV_ADOP'], edgecolor='none', cmap=cm.brg,\n",
      "                alpha=0.25, s=4)\n",
      "colorbar(sc)"
     ],
     "language": "python",
     "metadata": {},
     "outputs": []
    },
    {
     "cell_type": "code",
     "collapsed": false,
     "input": [
      "L = (stars_with_d['L']*u.degree).radian\n",
      "B = (stars_with_d['B']*u.degree).radian\n",
      "R = stars_with_d['DIST_AP']\n",
      "\n",
      "x = R*np.sin(B)*np.cos(L) - 8.\n",
      "y = R*np.sin(B)*np.sin(L)\n",
      "z = R*np.cos(B)\n",
      "R_gc = np.sqrt(x**2 + y**2 + z**2)\n",
      "stars = stars_with_d[R_gc > 25]\n",
      "print len(stars), \"stars\"\n",
      "\n",
      "L = stars['L']\n",
      "L[L > 180] = -(360 - L[L > 180])\n",
      "L = (L*u.degree).radian\n",
      "B = (stars['B']*u.degree).radian"
     ],
     "language": "python",
     "metadata": {},
     "outputs": []
    },
    {
     "cell_type": "code",
     "collapsed": false,
     "input": [
      "figsize(8,5)\n",
      "x = hist(stars['RV_ADOP'][stars['RV_ADOP'] > 200], bins=100)"
     ],
     "language": "python",
     "metadata": {},
     "outputs": []
    },
    {
     "cell_type": "code",
     "collapsed": false,
     "input": [
      "frac_err = stars_with_rv['RV_ADOP_UNC'] / stars_with_rv['RV_ADOP']\n",
      "hv_stars = stars_with_rv[(np.fabs(stars_with_rv['RV_ADOP']) > 350) & (frac_err < 0.05)]\n",
      "len(hv_stars)"
     ],
     "language": "python",
     "metadata": {},
     "outputs": []
    },
    {
     "cell_type": "code",
     "collapsed": false,
     "input": [
      "fig = figure(figsize=(14,12))\n",
      "#ax = fig.add_subplot(111, projection=\"mollweide\")\n",
      "ax = fig.add_subplot(111)\n",
      "sc = ax.scatter(hv_stars['L'], hv_stars['B'], marker='.', \n",
      "                c=hv_stars['RV_ADOP'], edgecolor='none', cmap=cm.brg,\n",
      "                alpha=0.5, s=10)\n",
      "colorbar(sc)"
     ],
     "language": "python",
     "metadata": {},
     "outputs": []
    },
    {
     "cell_type": "code",
     "collapsed": false,
     "input": [
      "from scipy import stats\n",
      "values = np.vstack([(L*u.radian).degree, (B*u.radian).degree])\n",
      "kernel = stats.gaussian_kde(values)\n",
      "X, Y = np.mgrid[-180:180:100j, -90:90:100j]\n",
      "positions = np.vstack([X.ravel(), Y.ravel()])\n",
      "Z = np.reshape(kernel(positions).T, X.shape)"
     ],
     "language": "python",
     "metadata": {},
     "outputs": []
    },
    {
     "cell_type": "code",
     "collapsed": false,
     "input": [
      "figsize(14,14)\n",
      "imshow(np.rot90(Z), cmap=cm.gist_earth_r, extent=[-180, 180, 90, -90])"
     ],
     "language": "python",
     "metadata": {},
     "outputs": []
    },
    {
     "cell_type": "code",
     "collapsed": false,
     "input": [
      "def box_select(data, ra_cen, dec_cen, ra_size, dec_size):\n",
      "    ra_min, ra_max = ra_cen-ra_size/2., ra_cen+ra_size/2.\n",
      "    dec_min, dec_max = dec_cen-dec_size/2., dec_cen+dec_size/2.\n",
      "    sub_data = data[(data['RA'] > ra_min) & (data['RA'] < ra_max) & \\\n",
      "                    (data['DEC'] > dec_min) & (data['DEC'] < dec_max)]\n",
      "    \n",
      "    return sub_data"
     ],
     "language": "python",
     "metadata": {},
     "outputs": []
    },
    {
     "cell_type": "code",
     "collapsed": false,
     "input": [
      "names = [\"Messier 44\", \"NGC 2682\", \"NGC 2420\", \"DoDz5\", \"DoDz6 \", \"Upgren1\", \"Melotte 111\", \"NGC 7510\", \"NGC 7419\", \"NGC 0654\", \"NGC 0663 \", \"NGC 6791\", \"IC 0166\", \"NGC 0659 \", \"NGC 2099\", \"King 19\", \"NGC 2548\", \"NGC 2360\", \"Melotte 71\", \"Trumpler 5\", \"NGC 2251\", \"NGC 2355\", \"NGC 2356\", \"PFLEIDERER 3\", \"NGC 7086\", \"NGC 2158\", \"NGC 2266\", \"NGC 2186\", \"Berkeley 21\", \"NGC 2168\", \"IC 2157\", \"NGC 2129\", \"BASEL 11B\", \"NGC 1662\", \"NGC 2401\", \"Kronberger 81\", \"Cl Alessi 53 \", \"Cl Alessi 14\", \"NGC 2264\", \"Berkeley 55\", \"NGC 2259\", \"NGC 2112\", \"UGC 3583\", \"NGC 2262\", \"NGC 1193\", \"NGC 1039\", \"NGC 1342\", \"IC 4665\", \"NGC 1746\", \"NGC 1750\", \"NGC 1758\", \"NGC 1807\", \"NGC 1817\", \"Melotte 72\", \"NGC 6910\", \"Mrk 50\", \"Berkeley 20\", \"NGC 6823\", \"Hyades\"]\n",
      "names += [\"NGC 2420\", \"NGC 2682\", \"NGC 6791\", \"NGC 2419\", \"NGC 4147\", \n",
      "                 \"NGC 5024\", \"NGC 5053\", \"NGC 5272\", \"NGC 5466\", \"NGC 5904\", \n",
      "                 \"NGC 6205\", \"NGC 6341\", \"NGC 6838\", \"NGC 7006\", \"NGC 7078\", \n",
      "                 \"NGC 7089\", \"Pal 3\", \"Pal 4\", \"Pal 5\", \"Pal 14\"]\n",
      "print sorted(np.unique(names))"
     ],
     "language": "python",
     "metadata": {},
     "outputs": []
    },
    {
     "cell_type": "code",
     "collapsed": false,
     "input": [
      "cluster_names = ['BASEL 11B', 'Berkeley 20', 'Berkeley 21', 'Berkeley 55', 'Cl Alessi 14', \n",
      "                 'Cl Alessi 53 ', 'DoDz5', 'DoDz6 ', 'Hyades', 'IC 0166', 'IC 2157', 'IC 4665', \n",
      "                 'King 19', 'Kronberger 81', 'Melotte 111', 'Melotte 71', 'Melotte 72', 'Messier 44', \n",
      "                 'Mrk 50', 'NGC 0654', 'NGC 0659 ', 'NGC 0663 ', 'NGC 1039', 'NGC 1193', 'NGC 1342', \n",
      "                 'NGC 1662', 'NGC 1746', 'NGC 1750', 'NGC 1758', 'NGC 1807', 'NGC 1817', 'NGC 2099', \n",
      "                 'NGC 2112', 'NGC 2129', 'NGC 2158', 'NGC 2168', 'NGC 2186', 'NGC 2251', 'NGC 2259', \n",
      "                 'NGC 2262', 'NGC 2264', 'NGC 2266', 'NGC 2355', 'NGC 2356', 'NGC 2360', 'NGC 2401', \n",
      "                 'NGC 2419', 'NGC 2420', 'NGC 2548', 'NGC 2682', 'NGC 4147', 'NGC 5024', 'NGC 5053', \n",
      "                 'NGC 5272', 'NGC 5466', 'NGC 5904', 'NGC 6205', 'NGC 6341', 'NGC 6791', 'NGC 6823', \n",
      "                 'NGC 6838', 'NGC 6910', 'NGC 7006', 'NGC 7078', 'NGC 7086', 'NGC 7089', 'NGC 7419', \n",
      "                 'NGC 7510', 'PFLEIDERER 3', 'Pal 14', 'Pal 3', 'Pal 4', 'Pal 5', 'Trumpler 5', \n",
      "                 'UGC 3583', 'Upgren1']"
     ],
     "language": "python",
     "metadata": {},
     "outputs": []
    },
    {
     "cell_type": "code",
     "collapsed": false,
     "input": [
      "good_clusters = []\n",
      "for cluster_name in cluster_names:\n",
      "    try:\n",
      "        eq = coord.ICRSCoordinates.from_name(cluster_name)\n",
      "    except:\n",
      "        continue\n",
      "    selected = box_select(all_data, eq.ra.degrees, eq.dec.degrees, 1., 1.)\n",
      "    print cluster_name, len(selected)\n",
      "    \n",
      "    if len(selected) > 15:\n",
      "        good_clusters.append(cluster_name)"
     ],
     "language": "python",
     "metadata": {},
     "outputs": []
    },
    {
     "cell_type": "code",
     "collapsed": false,
     "input": [
      "good_clusters"
     ],
     "language": "python",
     "metadata": {},
     "outputs": []
    },
    {
     "cell_type": "code",
     "collapsed": false,
     "input": [
      "eq = coord.ICRSCoordinates.from_name(\"NGC 6791\")\n",
      "selected = box_select(all_data, eq.ra.degrees, eq.dec.degrees, 20./60., 20./60.)"
     ],
     "language": "python",
     "metadata": {},
     "outputs": []
    },
    {
     "cell_type": "code",
     "collapsed": false,
     "input": [
      "selected.dtype.names"
     ],
     "language": "python",
     "metadata": {},
     "outputs": []
    },
    {
     "cell_type": "code",
     "collapsed": false,
     "input": [
      "R_gcs = []\n",
      "FeHs = []\n",
      "for cluster_name in good_clusters:\n",
      "    eq = coord.ICRSCoordinates.from_name(cluster_name)\n",
      "    selected = box_select(all_data, eq.ra.degrees, eq.dec.degrees, 20./60., 20./60.)\n",
      "    median_dist = np.median(selected['DIST_AP'][selected['DIST_AP'] > -999])\n",
      "    \n",
      "    if np.isnan(median_dist):\n",
      "        continue\n",
      "    \n",
      "    eq.distance = coord.Distance(median_dist*u.kpc)\n",
      "    gal = eq.galactic\n",
      "    \n",
      "    print median_dist\n",
      "    x,y,z = gal.x-8, gal.y, gal.z\n",
      "    R_gcs.append(np.sqrt(x**2 + y**2 + z**2))\n",
      "    FeHs.append(np.median(selected['FEH_ADOP'][selected['FEH_ADOP'] > -999]))"
     ],
     "language": "python",
     "metadata": {},
     "outputs": []
    },
    {
     "cell_type": "code",
     "collapsed": false,
     "input": [
      "figsize(14,8)\n",
      "plot(R_gcs, FeHs, marker='o', linestyle='none')\n",
      "xlabel(\"Galactocentric Distance [kpc]\")\n",
      "ylabel(\"Metallicity [Fe/H]\")"
     ],
     "language": "python",
     "metadata": {},
     "outputs": []
    },
    {
     "cell_type": "code",
     "collapsed": false,
     "input": [
      "subplot(131)\n",
      "hist(selected['FEH_ADOP'][selected['FEH_ADOP'] > -10], bins=25)\n",
      "\n",
      "subplot(132)\n",
      "hist(selected['RV_ADOP'][selected['RV_ADOP'] > -999], bins=25)\n",
      "\n",
      "subplot(133)\n",
      "hist(selected['DIST_AP'][selected['DIST_AP'] > -999], bins=25)"
     ],
     "language": "python",
     "metadata": {},
     "outputs": []
    },
    {
     "cell_type": "code",
     "collapsed": false,
     "input": [
      "scatter(selected['UG'], selected['GR'])"
     ],
     "language": "python",
     "metadata": {},
     "outputs": []
    },
    {
     "cell_type": "markdown",
     "metadata": {},
     "source": [
      "-----"
     ]
    },
    {
     "cell_type": "code",
     "collapsed": false,
     "input": [
      "print coord.ICRSCoordinates.from_name(\"Messier 44\")\n",
      "print coord.ICRSCoordinates.from_name(\"M44\")\n",
      "print coord.ICRSCoordinates.from_name(\"m44\")"
     ],
     "language": "python",
     "metadata": {},
     "outputs": []
    },
    {
     "cell_type": "code",
     "collapsed": false,
     "input": [
      "icrs = coord.ICRSCoordinates.from_name(\"Messier 44\")"
     ],
     "language": "python",
     "metadata": {},
     "outputs": []
    },
    {
     "cell_type": "code",
     "collapsed": false,
     "input": [
      "selected = box_select(all_data, icrs.ra.degrees, icrs.dec.degrees, 1.5, 1.5)"
     ],
     "language": "python",
     "metadata": {},
     "outputs": []
    },
    {
     "cell_type": "code",
     "collapsed": false,
     "input": [
      "m44 = ascii.read(\"../data/cluster_photometry/Messier 44.csv\")"
     ],
     "language": "python",
     "metadata": {},
     "outputs": []
    },
    {
     "cell_type": "code",
     "collapsed": false,
     "input": [
      "figure(figsize=(10,10))\n",
      "plot(m44['ra'], m44['dec'], alpha=0.25)\n",
      "plot(selected['RA'], selected['DEC'], alpha=0.5, color='r')\n",
      "plot(icrs.ra.degrees, icrs.dec.degrees, color='c', marker='^')"
     ],
     "language": "python",
     "metadata": {},
     "outputs": []
    },
    {
     "cell_type": "code",
     "collapsed": false,
     "input": [
      "m44['objid']"
     ],
     "language": "python",
     "metadata": {},
     "outputs": []
    },
    {
     "cell_type": "code",
     "collapsed": false,
     "input": [
      "selected['BESTOBJID'][3]"
     ],
     "language": "python",
     "metadata": {},
     "outputs": []
    },
    {
     "cell_type": "code",
     "collapsed": false,
     "input": [
      "int(selected['BESTOBJID'][10]) in m44['objid']"
     ],
     "language": "python",
     "metadata": {},
     "outputs": []
    },
    {
     "cell_type": "code",
     "collapsed": false,
     "input": [
      "m44 = m44[(m44['u'] > -9999.) &\n",
      "          (m44['g'] > -9999.) &\n",
      "          (m44['r'] > -9999.) &\n",
      "          (m44['i'] > -9999.) &\n",
      "          (m44['z'] > -9999.)]\n",
      "\n",
      "#m44 = m44[(m44['Err_u']/m44['u'] < 0.1) &\n",
      "#          (m44['Err_g']/m44['g'] < 0.1) &\n",
      "#          (m44['Err_r']/m44['r'] < 0.1) &\n",
      "#          (m44['Err_i']/m44['i'] < 0.1) &\n",
      "#          (m44['Err_z']/m44['z'] < 0.1)]"
     ],
     "language": "python",
     "metadata": {},
     "outputs": []
    },
    {
     "cell_type": "code",
     "collapsed": false,
     "input": [
      "figure(figsize=(10,10))\n",
      "plot(m44['u']-m44['g'], m44['g']-m44['r'], alpha=0.25)\n",
      "#plot(selected['UG'], selected['GR'], color='r')\n",
      "plot(selected['UG'][(selected['RV_ADOP'] > 0) & (selected['RV_ADOP'] < 100)], \n",
      "     selected['GR'][(selected['RV_ADOP'] > 0) & (selected['RV_ADOP'] < 100)], \n",
      "     color='r', marker='^')\n",
      "xlim(-0.5, 3.5)\n",
      "ylim(-0.5, 3.5)"
     ],
     "language": "python",
     "metadata": {},
     "outputs": []
    },
    {
     "cell_type": "code",
     "collapsed": false,
     "input": [
      "hist(selected['RV_ADOP'][(selected['RV_ADOP'] > 0) & (selected['RV_ADOP'] < 100)], bins=50)"
     ],
     "language": "python",
     "metadata": {},
     "outputs": []
    },
    {
     "cell_type": "code",
     "collapsed": false,
     "input": [],
     "language": "python",
     "metadata": {},
     "outputs": []
    },
    {
     "cell_type": "markdown",
     "metadata": {},
     "source": [
      "----"
     ]
    },
    {
     "cell_type": "code",
     "collapsed": false,
     "input": [
      "import requests\n",
      "from IPython.display import HTML"
     ],
     "language": "python",
     "metadata": {},
     "outputs": []
    },
    {
     "cell_type": "code",
     "collapsed": false,
     "input": [
      "query = (\"SELECT TOP 10 \"\n",
      "        \"p.objid,p.ra,p.dec,p.u,p.g,p.r,p.i,p.z \"\n",
      "        \"FROM BESTDR9..Star AS p \"\n",
      "        \"JOIN dbo.fGetNearbyObjEq({ra},{dec},{radius}) AS b ON b.objID = p.objID\")\n",
      "\n",
      "url = \"http://skyserver.sdss3.org/dr9/en/tools/search/x_sql.asp\"\n",
      "params = dict(cmd=query.format(ra=180., dec=0.2, radius=5),\n",
      "              format='html')\n",
      "              \n",
      "r = requests.post(url, params=params)"
     ],
     "language": "python",
     "metadata": {},
     "outputs": []
    },
    {
     "cell_type": "code",
     "collapsed": false,
     "input": [
      "HTML(r.text)"
     ],
     "language": "python",
     "metadata": {},
     "outputs": []
    },
    {
     "cell_type": "code",
     "collapsed": false,
     "input": [],
     "language": "python",
     "metadata": {},
     "outputs": []
    }
   ],
   "metadata": {}
  }
 ]
}