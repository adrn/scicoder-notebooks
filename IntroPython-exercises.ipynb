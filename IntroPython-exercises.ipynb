{
 "metadata": {
  "name": "Scicoder - exercises - Python A"
 },
 "nbformat": 3,
 "nbformat_minor": 0,
 "worksheets": [
  {
   "cells": [
    {
     "cell_type": "heading",
     "level": 1,
     "metadata": {},
     "source": [
      "Python A"
     ]
    },
    {
     "cell_type": "markdown",
     "metadata": {},
     "source": [
      "__1)__ Use the `help()` function to read the documentation for the `print` statement."
     ]
    },
    {
     "cell_type": "code",
     "collapsed": false,
     "input": [
      "help('print')"
     ],
     "language": "python",
     "metadata": {
      "slideshow": {
       "slide_type": "skip"
      }
     },
     "outputs": []
    },
    {
     "cell_type": "markdown",
     "metadata": {},
     "source": [
      "__2)__ Use Python as a calculator: Demitri unicycles for 13.76 minutes, before falling. How long is this in years?"
     ]
    },
    {
     "cell_type": "code",
     "collapsed": false,
     "input": [
      "13.76/60/24/365"
     ],
     "language": "python",
     "metadata": {},
     "outputs": []
    },
    {
     "cell_type": "markdown",
     "metadata": {},
     "source": [
      "__3)__ Define two integer variables `width` and `height`, then use them to compute and print the area."
     ]
    },
    {
     "cell_type": "code",
     "collapsed": false,
     "input": [
      "width = 5\n",
      "height = 11\n",
      "area = width*height\n",
      "print area"
     ],
     "language": "python",
     "metadata": {},
     "outputs": []
    },
    {
     "cell_type": "markdown",
     "metadata": {},
     "source": [
      "__4)__ Re-define the variable `width` as a string, now repeat the area calculation. What happens? Why?"
     ]
    },
    {
     "cell_type": "code",
     "collapsed": false,
     "input": [
      "width = \"derp\"\n",
      "area = width*height\n",
      "print area"
     ],
     "language": "python",
     "metadata": {},
     "outputs": []
    },
    {
     "cell_type": "markdown",
     "metadata": {},
     "source": [
      "__5)__ Create a list and a tuple `my_list` and `my_tuple`, each with 5 items. Update the 2nd item in each to be 'a string'. What happens with the tuple?"
     ]
    },
    {
     "cell_type": "code",
     "collapsed": false,
     "input": [
      "my_list = [1,2,3,4,5]\n",
      "my_tuple = (1,2,3,4,5)\n",
      "\n",
      "my_list[2] = \"\"\n",
      "my_tuple[2] = \"\""
     ],
     "language": "python",
     "metadata": {},
     "outputs": [
      {
       "ename": "TypeError",
       "evalue": "'tuple' object does not support item assignment",
       "output_type": "pyerr",
       "traceback": [
        "\u001b[0;31m---------------------------------------------------------------------------\u001b[0m\n\u001b[0;31mTypeError\u001b[0m                                 Traceback (most recent call last)",
        "\u001b[0;32m<ipython-input-1-8aa311a3e184>\u001b[0m in \u001b[0;36m<module>\u001b[0;34m()\u001b[0m\n\u001b[1;32m      3\u001b[0m \u001b[0;34m\u001b[0m\u001b[0m\n\u001b[1;32m      4\u001b[0m \u001b[0mmy_list\u001b[0m\u001b[0;34m[\u001b[0m\u001b[0;36m2\u001b[0m\u001b[0;34m]\u001b[0m \u001b[0;34m=\u001b[0m \u001b[0;34m\"\"\u001b[0m\u001b[0;34m\u001b[0m\u001b[0m\n\u001b[0;32m----> 5\u001b[0;31m \u001b[0mmy_tuple\u001b[0m\u001b[0;34m[\u001b[0m\u001b[0;36m2\u001b[0m\u001b[0;34m]\u001b[0m \u001b[0;34m=\u001b[0m \u001b[0;34m\"\"\u001b[0m\u001b[0;34m\u001b[0m\u001b[0m\n\u001b[0m",
        "\u001b[0;31mTypeError\u001b[0m: 'tuple' object does not support item assignment"
       ]
      },
      {
       "output_type": "stream",
       "stream": "stdout",
       "text": [
        "ERROR: TypeError: 'tuple' object does not support item assignment [IPython.core.interactiveshell]\n"
       ]
      }
     ],
     "prompt_number": 1
    },
    {
     "cell_type": "markdown",
     "metadata": {},
     "source": [
      "__6)__ Create a dictionary, but try using different Python objects as keys."
     ]
    },
    {
     "cell_type": "code",
     "collapsed": false,
     "input": [
      "a_dict = {}\n",
      "a_dict[5] = \"asdfadf\"\n",
      "a_dict[(1,2,3)] = \"Asdfnag\"\n",
      "a_dict[\"asdfas\"] = 15"
     ],
     "language": "python",
     "metadata": {},
     "outputs": [],
     "prompt_number": 3
    },
    {
     "cell_type": "markdown",
     "metadata": {},
     "source": [
      "__7)__ Write a loop to sum all factors of 4 up to 100."
     ]
    },
    {
     "cell_type": "code",
     "collapsed": false,
     "input": [
      "the_sum = 0\n",
      "for ii in range(100):\n",
      "    if ii % 4 == 0:\n",
      "        the_sum += ii\n",
      "the_sum"
     ],
     "language": "python",
     "metadata": {},
     "outputs": [],
     "prompt_number": 1
    }
   ],
   "metadata": {}
  }
 ]
}