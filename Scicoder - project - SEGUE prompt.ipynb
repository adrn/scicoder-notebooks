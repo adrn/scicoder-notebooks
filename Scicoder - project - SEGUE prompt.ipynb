{
 "metadata": {
  "name": "Scicoder - project - SEGUE prompt"
 },
 "nbformat": 3,
 "nbformat_minor": 0,
 "worksheets": [
  {
   "cells": [
    {
     "cell_type": "heading",
     "level": 1,
     "metadata": {},
     "source": [
      "Project: Working with SEGUE (SDSS) data"
     ]
    },
    {
     "cell_type": "markdown",
     "metadata": {},
     "source": [
      "SEGUE (Sloan Extension for Galactic Understanding and Exploration) was a spectroscopic survey performed using the SDSS telescope. The goal [...].\n",
      "\n",
      "All of the targets were selected from the SDSS imaging data and results in a nice, self-contained dataset for putting many of the tools and packages that we've been learning about to use."
     ]
    },
    {
     "cell_type": "markdown",
     "metadata": {},
     "source": [
      "---"
     ]
    },
    {
     "cell_type": "heading",
     "level": 3,
     "metadata": {},
     "source": [
      "The data"
     ]
    },
    {
     "cell_type": "markdown",
     "metadata": {},
     "source": [
      "The output of the spectral reduction pipeline is a massive (well, sorta) FITS file (~1.91 GB) containing several derived parameters -- e.g., surface gravity, effective temp., metallicty -- for 1843200 stars. Each row in the FITS table represents a single star. The spectral data is in `data/ssppOut-dr9.fits`. The first group of columns are SDSS bit flags and survey info about the targets. Starting around __SPECTYPE_HAMMER__, they start to get interesting. __SPECTYPE_HAMMER__ and __SPECTYPE_SUBCLASS__ are attempts to classify the spectrum of the star. A little further down, notice there are a ton of columns starting with __TEFF__. These are different methods for measuring the effective temperature of the star. Similarly, __LOGG__ (surface gravity) and __FEH__ (metallicity) have a bunch of measurements as well. We're going to stick to using the adopted values, __TEFF_ADOP__, __LOGG_ADOP__, and __FEH_ADOP__.\n",
      "\n",
      "Additionally, we've provided photometry for stars around several globular and open clusters in the SDSS footprint. We'll come back to this in a bit, but these files are located in `data/cluster_photometry`."
     ]
    },
    {
     "cell_type": "markdown",
     "metadata": {},
     "source": [
      "---"
     ]
    },
    {
     "cell_type": "heading",
     "level": 3,
     "metadata": {},
     "source": [
      "Tasks"
     ]
    },
    {
     "cell_type": "markdown",
     "metadata": {},
     "source": [
      "* Read in the spectrum file so you can access all of the data\n",
      "    - _hint: look in to using the `memmap` keyword_\n",
      "* What spectral types are there? Provide a unique list of each spectral type included in the data.\n",
      "    - _hint: look for a keyword SPECTYPE..._\n",
      "* Using the SDSS API (http://api.sdss3.org) pull down spectra for 10 stars of each spectral type (use the keys PLATE, MJD, FIBER). Interpolate the spectra onto the same wavelength grid, and coadd them. \n",
      "* Select out the 'best' data from the FITS table. In particular, the data with values not equal to -9999 (the SDSS value for NaN).\n",
      "* Make a single figure with 3 panels: histograms of Radial Velocity, [Fe/H], and Heliocentric distance (use the \\_ADOP values for each)\n",
      "* Write a function that accepts 3 inputs: Galactic longitude, Galactic latitude, and heliocentric distance (all with units from `astropy.units`!) and converts to cartesian Galactic X, Y, Z.\n",
      "    - Remake the figure from the previous step, but with the Galactocentric distance instead of heliocentric distance\n",
      "* Select stars with [Fe/H] < -1. Make the same 3 histogram figure, but coloring the selected stars red (in all 3 panels) and the stars with [Fe/H] > -1. black.\n",
      "    - Notice anything interesting about the 'red' stars?\n",
      "* Write a function that accepts a position, width, and height in angular coordinates (with units!) and selects all stars from the data that are within this box.\n",
      "    - Using this function and the one written previously, find and plot the __median Galactocentric distance__ vs. __median metallicity__ for stars selected around each cluster in the list of SDSS clusters in `data/sdss_clusters.txt`.\n",
      "        - _hint: look at the `from_name()` method in `astropy.coordinates`_\n",
      "    - Anything interesting about this plot?\n",
      "* Make a 4 by 4 grid of plots showing all 2D projections of the SDSS 4D color-space(_u-g, g-r, r-i, i-z_) for each cluster\n",
      "    - The plots should look like the example in `misc/color_color.png`.\n",
      "    - Turn the plots into contour plots, contoured around the density of points at any given spot\n",
      "        - _hint: look at np.histogram2d_"
     ]
    },
    {
     "cell_type": "code",
     "collapsed": false,
     "input": [],
     "language": "python",
     "metadata": {},
     "outputs": []
    }
   ],
   "metadata": {}
  }
 ]
}