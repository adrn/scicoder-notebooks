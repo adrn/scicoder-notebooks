{
 "metadata": {
  "name": "exercises - numpy_no-answers"
 },
 "nbformat": 3,
 "nbformat_minor": 0,
 "worksheets": [
  {
   "cells": [
    {
     "cell_type": "markdown",
     "metadata": {},
     "source": [
      "__1)__ Create a one-dimensional array, print the `length` and `shape` of the array"
     ]
    },
    {
     "cell_type": "code",
     "collapsed": false,
     "input": [],
     "language": "python",
     "metadata": {},
     "outputs": []
    },
    {
     "cell_type": "markdown",
     "metadata": {},
     "source": [
      "__2)__ Create a two-dimensional array, print the `length` and `shape` of the array"
     ]
    },
    {
     "cell_type": "code",
     "collapsed": false,
     "input": [],
     "language": "python",
     "metadata": {},
     "outputs": []
    },
    {
     "cell_type": "markdown",
     "metadata": {},
     "source": [
      "__3)__ Add the two arrays created above -- what happens?"
     ]
    },
    {
     "cell_type": "code",
     "collapsed": false,
     "input": [],
     "language": "python",
     "metadata": {},
     "outputs": []
    },
    {
     "cell_type": "markdown",
     "metadata": {},
     "source": [
      "__4)__ Create a 100 x 100 array of integers, and trim off the top/bottom rows, and left/right columns"
     ]
    },
    {
     "cell_type": "code",
     "collapsed": false,
     "input": [],
     "language": "python",
     "metadata": {},
     "outputs": []
    },
    {
     "cell_type": "markdown",
     "metadata": {},
     "source": [
      "__5)__ Write out and use an index array to select out positive values from this array\n",
      "\n",
      "    np.array([1, -1, -2, 3, -5])"
     ]
    },
    {
     "cell_type": "code",
     "collapsed": false,
     "input": [],
     "language": "python",
     "metadata": {},
     "outputs": []
    },
    {
     "cell_type": "markdown",
     "metadata": {},
     "source": [
      "__6)__ Experiment with `arange`, `ones`, and `zeros` to create arrays of different shapes"
     ]
    },
    {
     "cell_type": "code",
     "collapsed": false,
     "input": [],
     "language": "python",
     "metadata": {},
     "outputs": []
    },
    {
     "cell_type": "code",
     "collapsed": false,
     "input": [],
     "language": "python",
     "metadata": {},
     "outputs": []
    },
    {
     "cell_type": "markdown",
     "metadata": {},
     "source": [
      "__7)__ Using a boolean array mask, select out the elements of the following array between 5 and 10:\n",
      "\n",
      "    np.array([0.6429498677659073, 1.150547235455569, 1.1915607017440888, 8.283179653420964, 5.1635384867953595, 8.06221365954315, 5.941607350505754, 9.426996923221827, 9.828300195624534, 8.061581259382875, 9.350471376998248, 2.5337332496612266, 3.8933693630535062, 7.854245437743151, 0.7965058455412621, 2.7207245408915623, 4.693244676240291, 1.3620057998648716, 8.880004623574631, 6.504379354779315])"
     ]
    },
    {
     "cell_type": "code",
     "collapsed": false,
     "input": [],
     "language": "python",
     "metadata": {},
     "outputs": []
    },
    {
     "cell_type": "markdown",
     "metadata": {},
     "source": [
      "__8)__ Create the following arrays:"
     ]
    },
    {
     "cell_type": "raw",
     "metadata": {},
     "source": [
      "[[1, 1, 1, 1],\n",
      " [1, 1, 1, 1],\n",
      " [1, 1, 1, 2],\n",
      " [1, 6, 1, 1]]\n",
      "\n",
      "[[0., 0., 0., 0., 0.],\n",
      " [2., 0., 0., 0., 0.],\n",
      " [0., 3., 0., 0., 0.],\n",
      " [0., 0., 4., 0., 0.],\n",
      " [0., 0., 0., 5., 0.],\n",
      " [0., 0., 0., 0., 6.]]"
     ]
    },
    {
     "cell_type": "markdown",
     "metadata": {},
     "source": [
      "__9.1)__ Create a length 1000 array of `True` values called `primes`"
     ]
    },
    {
     "cell_type": "code",
     "collapsed": false,
     "input": [],
     "language": "python",
     "metadata": {},
     "outputs": []
    },
    {
     "cell_type": "markdown",
     "metadata": {},
     "source": [
      "__9.2)__ The position in the array -- the value of the index at a position -- represents that number. Set all numbers that aren't prime to `False`. For example, the first few values should be\n",
      "\n",
      "    [False, False, True, etc.]"
     ]
    },
    {
     "cell_type": "code",
     "collapsed": false,
     "input": [],
     "language": "python",
     "metadata": {},
     "outputs": []
    },
    {
     "cell_type": "markdown",
     "metadata": {},
     "source": [
      "__9.3)__ Print out the prime numbers (_hint: use the np.nonzero() function_)"
     ]
    },
    {
     "cell_type": "code",
     "collapsed": false,
     "input": [],
     "language": "python",
     "metadata": {},
     "outputs": []
    },
    {
     "cell_type": "markdown",
     "metadata": {},
     "source": [
      "__10)__ Write a function to evaluate a 2D Gaussian. The function should accept two arrays -- an array of x values and an array of y values -- a length-2 vector of means, and a covariance matrix. It should return an array with the same shape as the input x or y array. Recall that:\n",
      "\n",
      "$G({\\bf x} \\mid {\\bf \\mu},\\Sigma) = A \\exp\\big[ -\\frac{1}{2}\\left\\langle ({\\bf x - \\mu})^T, \\Sigma^{-1}({\\bf x - \\mu}) \\right\\rangle \\big]$\n",
      "\n",
      "Set $A=1$.\n",
      "\n",
      "This code should work with your function:\n",
      "\n",
      "    x = np.arange(0.,10.,0.1)\n",
      "    y = np.arange(0.,10.,0.1)\n",
      "    x,y = np.meshgrid(x,y)\n",
      "    mean_xy = np.array([5.,4.])\n",
      "    cov = np.array([[1.,1.],\n",
      "                    [1.,2.]])**2.\n",
      "    \n",
      "    f = gaussian2D(x.ravel(), y.ravel(), mean_xy, cov)\n",
      "    f.reshape(100,100)\n",
      "    imshow(f.reshape(100,100))\n",
      "   \n",
      "And should look like the image in ../data/gaussian.png"
     ]
    },
    {
     "cell_type": "code",
     "collapsed": false,
     "input": [],
     "language": "python",
     "metadata": {},
     "outputs": []
    },
    {
     "cell_type": "code",
     "collapsed": false,
     "input": [],
     "language": "python",
     "metadata": {},
     "outputs": []
    },
    {
     "cell_type": "code",
     "collapsed": false,
     "input": [],
     "language": "python",
     "metadata": {},
     "outputs": []
    }
   ],
   "metadata": {}
  }
 ]
}