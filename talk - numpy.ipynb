{
 "metadata": {
  "name": "talk - numpy"
 },
 "nbformat": 3,
 "nbformat_minor": 0,
 "worksheets": [
  {
   "cells": [
    {
     "cell_type": "markdown",
     "metadata": {},
     "source": [
      "* Convention is to import numpy as __np__, like this:"
     ]
    },
    {
     "cell_type": "code",
     "collapsed": false,
     "input": [
      "import numpy as np"
     ],
     "language": "python",
     "metadata": {},
     "outputs": [],
     "prompt_number": 1
    },
    {
     "cell_type": "heading",
     "level": 1,
     "metadata": {},
     "source": [
      "Numpy"
     ]
    },
    {
     "cell_type": "markdown",
     "metadata": {},
     "source": [
      "Python's collections (e.g. `list`) can be heterogeneous -- e.g., can contain objects of different types:"
     ]
    },
    {
     "cell_type": "code",
     "collapsed": false,
     "input": [
      "[1, \"cat\", 15.13451, [1,2,3]]"
     ],
     "language": "python",
     "metadata": {},
     "outputs": [
      {
       "metadata": {},
       "output_type": "pyout",
       "prompt_number": 2,
       "text": [
        "[1, 'cat', 15.13451, [1, 2, 3]]"
       ]
      }
     ],
     "prompt_number": 2
    },
    {
     "cell_type": "markdown",
     "metadata": {},
     "source": [
      "This can be very convenient, but means there is a lot of overhead if you have a list of numbers and want to compute the same operation on all elements. Numpy offers a collection type -- the __ndarray__ -- that is much more efficient because they mostly handle heterogeneous data, e.g. a collection of numbers:"
     ]
    },
    {
     "cell_type": "code",
     "collapsed": false,
     "input": [
      "np.array([1,2,3,4,5,6])"
     ],
     "language": "python",
     "metadata": {},
     "outputs": [
      {
       "metadata": {},
       "output_type": "pyout",
       "prompt_number": 3,
       "text": [
        "array([1, 2, 3, 4, 5, 6])"
       ]
      }
     ],
     "prompt_number": 3
    },
    {
     "cell_type": "markdown",
     "metadata": {},
     "source": [
      "-----"
     ]
    },
    {
     "cell_type": "heading",
     "level": 3,
     "metadata": {},
     "source": [
      "The array object"
     ]
    },
    {
     "cell_type": "markdown",
     "metadata": {},
     "source": [
      "Numpy arrays are created by passing an iterable (like a Python `list`) to the numpy `array()` function"
     ]
    },
    {
     "cell_type": "code",
     "collapsed": false,
     "input": [
      "some_array = np.array([1,2,3,4])"
     ],
     "language": "python",
     "metadata": {},
     "outputs": [],
     "prompt_number": 4
    },
    {
     "cell_type": "code",
     "collapsed": false,
     "input": [
      "some_array"
     ],
     "language": "python",
     "metadata": {},
     "outputs": [
      {
       "metadata": {},
       "output_type": "pyout",
       "prompt_number": 5,
       "text": [
        "array([1, 2, 3, 4])"
       ]
      }
     ],
     "prompt_number": 5
    },
    {
     "cell_type": "markdown",
     "metadata": {},
     "source": [
      "Numpy arrays can have an arbitrary number of dimensions. Some useful attributes of the `Array` object:"
     ]
    },
    {
     "cell_type": "code",
     "collapsed": false,
     "input": [
      "some_array.ndim # number of dimensions"
     ],
     "language": "python",
     "metadata": {},
     "outputs": [
      {
       "metadata": {},
       "output_type": "pyout",
       "prompt_number": 6,
       "text": [
        "1"
       ]
      }
     ],
     "prompt_number": 6
    },
    {
     "cell_type": "code",
     "collapsed": false,
     "input": [
      "some_array.shape"
     ],
     "language": "python",
     "metadata": {},
     "outputs": [
      {
       "metadata": {},
       "output_type": "pyout",
       "prompt_number": 7,
       "text": [
        "(4,)"
       ]
      }
     ],
     "prompt_number": 7
    },
    {
     "cell_type": "code",
     "collapsed": false,
     "input": [
      "some_array.size"
     ],
     "language": "python",
     "metadata": {},
     "outputs": [
      {
       "metadata": {},
       "output_type": "pyout",
       "prompt_number": 8,
       "text": [
        "4"
       ]
      }
     ],
     "prompt_number": 8
    },
    {
     "cell_type": "markdown",
     "metadata": {},
     "source": [
      "Not very exciting for a one dimensional array, but what about a 3 by 3 array?\n",
      "\n",
      "$$\\left(\n",
      "    \\begin{array}{c} \n",
      "    1 & 2 & 3\\\\\\\\\n",
      "    4 & 5 & 6\\\\\\\\\n",
      "    7 & 8 & 9\n",
      "    \\end{array} \n",
      "\\right)\n",
      "$$"
     ]
    },
    {
     "cell_type": "code",
     "collapsed": false,
     "input": [
      "another_array = np.array([[1,2,3],[4,5,6],[7,8,9]])\n",
      "another_array"
     ],
     "language": "python",
     "metadata": {},
     "outputs": [
      {
       "metadata": {},
       "output_type": "pyout",
       "prompt_number": 9,
       "text": [
        "array([[1, 2, 3],\n",
        "       [4, 5, 6],\n",
        "       [7, 8, 9]])"
       ]
      }
     ],
     "prompt_number": 9
    },
    {
     "cell_type": "code",
     "collapsed": false,
     "input": [
      "another_array.ndim"
     ],
     "language": "python",
     "metadata": {},
     "outputs": [
      {
       "metadata": {},
       "output_type": "pyout",
       "prompt_number": 10,
       "text": [
        "2"
       ]
      }
     ],
     "prompt_number": 10
    },
    {
     "cell_type": "code",
     "collapsed": false,
     "input": [
      "another_array.shape"
     ],
     "language": "python",
     "metadata": {},
     "outputs": [
      {
       "metadata": {},
       "output_type": "pyout",
       "prompt_number": 11,
       "text": [
        "(3, 3)"
       ]
      }
     ],
     "prompt_number": 11
    },
    {
     "cell_type": "code",
     "collapsed": false,
     "input": [
      "another_array.size"
     ],
     "language": "python",
     "metadata": {},
     "outputs": [
      {
       "metadata": {},
       "output_type": "pyout",
       "prompt_number": 12,
       "text": [
        "9"
       ]
      }
     ],
     "prompt_number": 12
    },
    {
     "cell_type": "markdown",
     "metadata": {},
     "source": [
      "-------------------"
     ]
    },
    {
     "cell_type": "heading",
     "level": 3,
     "metadata": {},
     "source": [
      "Array operations and differences with lists"
     ]
    },
    {
     "cell_type": "markdown",
     "metadata": {},
     "source": [
      "Array options act __element-wise__, unlike how `list`s behave. For example, multiplying a `list` by an integer will return a new list with the original replicated that many times. Multiplying an array of numbers by a scalar behaves like vector multiplication:"
     ]
    },
    {
     "cell_type": "code",
     "collapsed": false,
     "input": [
      "print [1, 2]*5\n",
      "print np.array([1, 2])*5"
     ],
     "language": "python",
     "metadata": {},
     "outputs": [
      {
       "output_type": "stream",
       "stream": "stdout",
       "text": [
        "[1, 2, 1, 2, 1, 2, 1, 2, 1, 2]\n",
        "[ 5 10]\n"
       ]
      }
     ],
     "prompt_number": 13
    },
    {
     "cell_type": "markdown",
     "metadata": {},
     "source": [
      "$5 \\times \\left(\\begin{array}{c} 1\\\\\\ 2 \\end{array} \\right) = \\left(\\begin{array}{c} 5\\\\\\ 10 \\end{array} \\right)$"
     ]
    },
    {
     "cell_type": "markdown",
     "metadata": {},
     "source": [
      "Similarly, adding two lists will concatenate the two into a new list. Adding two arrays is like adding two vectors:\n",
      "\n",
      "$\\left(\\begin{array}{c} 1\\\\\\ 2 \\end{array} \\right) + \\left(\\begin{array}{c} 3\\\\\\ 4 \\end{array} \\right) = \\left(\\begin{array}{c} 4\\\\\\ 6 \\end{array} \\right)$"
     ]
    },
    {
     "cell_type": "code",
     "collapsed": false,
     "input": [
      "print [1,2] + [3,4]\n",
      "print np.array([1,2]) + np.array([3,4])"
     ],
     "language": "python",
     "metadata": {},
     "outputs": [
      {
       "output_type": "stream",
       "stream": "stdout",
       "text": [
        "[1, 2, 3, 4]\n",
        "[4 6]\n"
       ]
      }
     ],
     "prompt_number": 14
    },
    {
     "cell_type": "markdown",
     "metadata": {},
     "source": [
      "This works for comparison operators as well. For example, when comparing an array of numbers with another, you will get a new array of boolean values of the same shape as the original. \n",
      "\n",
      "$\\left(\\begin{array}{c} 1\\\\2 \\\\3 \\\\4 \\\\5 \\end{array} \\right) > 3 = \\left(\\begin{array}{c} False\\\\False \\\\False \\\\True\\\\True \\end{array} \\right)$"
     ]
    },
    {
     "cell_type": "code",
     "collapsed": false,
     "input": [
      "print np.array([1,2,3,4,5]) > 3"
     ],
     "language": "python",
     "metadata": {},
     "outputs": [
      {
       "output_type": "stream",
       "stream": "stdout",
       "text": [
        "[False False False  True  True]\n"
       ]
      }
     ],
     "prompt_number": 15
    },
    {
     "cell_type": "markdown",
     "metadata": {},
     "source": [
      "Because arrays contain homogeneous data types, operations are much faster than doing a list comprehension:"
     ]
    },
    {
     "cell_type": "code",
     "collapsed": false,
     "input": [
      "%timeit [x**2 for x in range(10000)]"
     ],
     "language": "python",
     "metadata": {},
     "outputs": [
      {
       "output_type": "stream",
       "stream": "stdout",
       "text": [
        "1000 loops, best of 3: 986 \u00b5s per loop\n"
       ]
      }
     ],
     "prompt_number": 16
    },
    {
     "cell_type": "code",
     "collapsed": false,
     "input": [
      "%timeit np.arange(10000)**2"
     ],
     "language": "python",
     "metadata": {},
     "outputs": [
      {
       "output_type": "stream",
       "stream": "stdout",
       "text": [
        "100000 loops, best of 3: 14.9 \u00b5s per loop\n"
       ]
      }
     ],
     "prompt_number": 17
    },
    {
     "cell_type": "markdown",
     "metadata": {},
     "source": [
      "------------------------"
     ]
    },
    {
     "cell_type": "heading",
     "level": 3,
     "metadata": {},
     "source": [
      "Reshaping"
     ]
    },
    {
     "cell_type": "markdown",
     "metadata": {},
     "source": [
      "Arrays can be reshaped, as long as the total number of elements is conserved. For example, a 1D array of length 100 can be reshaped into a 10 x 10 2D array:"
     ]
    },
    {
     "cell_type": "code",
     "collapsed": false,
     "input": [
      "np.arange(100).reshape(10,10)"
     ],
     "language": "python",
     "metadata": {},
     "outputs": [
      {
       "metadata": {},
       "output_type": "pyout",
       "prompt_number": 18,
       "text": [
        "array([[ 0,  1,  2,  3,  4,  5,  6,  7,  8,  9],\n",
        "       [10, 11, 12, 13, 14, 15, 16, 17, 18, 19],\n",
        "       [20, 21, 22, 23, 24, 25, 26, 27, 28, 29],\n",
        "       [30, 31, 32, 33, 34, 35, 36, 37, 38, 39],\n",
        "       [40, 41, 42, 43, 44, 45, 46, 47, 48, 49],\n",
        "       [50, 51, 52, 53, 54, 55, 56, 57, 58, 59],\n",
        "       [60, 61, 62, 63, 64, 65, 66, 67, 68, 69],\n",
        "       [70, 71, 72, 73, 74, 75, 76, 77, 78, 79],\n",
        "       [80, 81, 82, 83, 84, 85, 86, 87, 88, 89],\n",
        "       [90, 91, 92, 93, 94, 95, 96, 97, 98, 99]])"
       ]
      }
     ],
     "prompt_number": 18
    },
    {
     "cell_type": "markdown",
     "metadata": {},
     "source": [
      "----"
     ]
    },
    {
     "cell_type": "heading",
     "level": 3,
     "metadata": {},
     "source": [
      "Slicing and indexing"
     ]
    },
    {
     "cell_type": "markdown",
     "metadata": {},
     "source": [
      "Arrays support slicing and indexing just like Python lists"
     ]
    },
    {
     "cell_type": "code",
     "collapsed": false,
     "input": [
      "np.arange(10)[3:]"
     ],
     "language": "python",
     "metadata": {},
     "outputs": [
      {
       "metadata": {},
       "output_type": "pyout",
       "prompt_number": 19,
       "text": [
        "array([3, 4, 5, 6, 7, 8, 9])"
       ]
      }
     ],
     "prompt_number": 19
    },
    {
     "cell_type": "markdown",
     "metadata": {},
     "source": [
      "Because arrays can be multi-dimensional, you can specify indices or slices along multiple dimensions by separating the indices or slices with a comma:"
     ]
    },
    {
     "cell_type": "code",
     "collapsed": false,
     "input": [
      "a = np.arange(100).reshape(10,10)\n",
      "a[6,0]"
     ],
     "language": "python",
     "metadata": {},
     "outputs": [
      {
       "metadata": {},
       "output_type": "pyout",
       "prompt_number": 20,
       "text": [
        "60"
       ]
      }
     ],
     "prompt_number": 20
    },
    {
     "cell_type": "code",
     "collapsed": false,
     "input": [
      "a[6:10,1:7]"
     ],
     "language": "python",
     "metadata": {},
     "outputs": [
      {
       "metadata": {},
       "output_type": "pyout",
       "prompt_number": 21,
       "text": [
        "array([[61, 62, 63, 64, 65, 66],\n",
        "       [71, 72, 73, 74, 75, 76],\n",
        "       [81, 82, 83, 84, 85, 86],\n",
        "       [91, 92, 93, 94, 95, 96]])"
       ]
      }
     ],
     "prompt_number": 21
    },
    {
     "cell_type": "markdown",
     "metadata": {},
     "source": [
      "Don't think about arrays as 2D matrices, even if they are. But since you're going to anyways, remember that the first index refers to __rows__ and the second refers to __columns__."
     ]
    },
    {
     "cell_type": "markdown",
     "metadata": {},
     "source": [
      "---"
     ]
    },
    {
     "cell_type": "heading",
     "level": 3,
     "metadata": {},
     "source": [
      "Arrays as index arrays"
     ]
    },
    {
     "cell_type": "markdown",
     "metadata": {},
     "source": [
      "Integer arrays can be used as indices for other arrays"
     ]
    },
    {
     "cell_type": "code",
     "collapsed": false,
     "input": [
      "a = np.array([0,3,1])\n",
      "b = np.array([1,2,3,4,5,6,7,8,9])\n",
      "b[a]"
     ],
     "language": "python",
     "metadata": {},
     "outputs": [
      {
       "metadata": {},
       "output_type": "pyout",
       "prompt_number": 22,
       "text": [
        "array([1, 4, 2])"
       ]
      }
     ],
     "prompt_number": 22
    },
    {
     "cell_type": "markdown",
     "metadata": {},
     "source": [
      "In the above example, we use the array `a` as an index array to select the 0th, 3rd, and 1st elements out of the array 'b'."
     ]
    },
    {
     "cell_type": "markdown",
     "metadata": {},
     "source": [
      "-------"
     ]
    },
    {
     "cell_type": "heading",
     "level": 3,
     "metadata": {},
     "source": [
      "Commonly used functions"
     ]
    },
    {
     "cell_type": "markdown",
     "metadata": {},
     "source": [
      "Similar to Python's `range()`, Numpy has an `arange()` function that can be used to generate a sequence of numbers given a starting point, end point, and step size.\n",
      "\n",
      "`np.arange(start, stop, step)`"
     ]
    },
    {
     "cell_type": "code",
     "collapsed": false,
     "input": [
      "np.arange(5) # used with a single integer, behaves just like Python's range()"
     ],
     "language": "python",
     "metadata": {},
     "outputs": [
      {
       "metadata": {},
       "output_type": "pyout",
       "prompt_number": 23,
       "text": [
        "array([0, 1, 2, 3, 4])"
       ]
      }
     ],
     "prompt_number": 23
    },
    {
     "cell_type": "code",
     "collapsed": false,
     "input": [
      "np.arange(1, 101, 20) # number from 1 up to but not including 101, increment by 20"
     ],
     "language": "python",
     "metadata": {},
     "outputs": [
      {
       "metadata": {},
       "output_type": "pyout",
       "prompt_number": 24,
       "text": [
        "array([ 1, 21, 41, 61, 81])"
       ]
      }
     ],
     "prompt_number": 24
    },
    {
     "cell_type": "code",
     "collapsed": false,
     "input": [
      "np.arange(1.05, 3.1, 0.16) # arange can do decimal numbers as well"
     ],
     "language": "python",
     "metadata": {},
     "outputs": [
      {
       "metadata": {},
       "output_type": "pyout",
       "prompt_number": 25,
       "text": [
        "array([ 1.05,  1.21,  1.37,  1.53,  1.69,  1.85,  2.01,  2.17,  2.33,\n",
        "        2.49,  2.65,  2.81,  2.97])"
       ]
      }
     ],
     "prompt_number": 25
    },
    {
     "cell_type": "markdown",
     "metadata": {},
     "source": [
      "The `linspace()` function generates an array of evenly spaced numbers from a given start to an end point.\n",
      "\n",
      "`np.linspace(start, stop, number of elements)`"
     ]
    },
    {
     "cell_type": "code",
     "collapsed": false,
     "input": [
      "np.linspace(0., 10., 7) # Generate 7 evenly spaced numbers from 0 to 10"
     ],
     "language": "python",
     "metadata": {},
     "outputs": [
      {
       "metadata": {},
       "output_type": "pyout",
       "prompt_number": 26,
       "text": [
        "array([  0.        ,   1.66666667,   3.33333333,   5.        ,\n",
        "         6.66666667,   8.33333333,  10.        ])"
       ]
      }
     ],
     "prompt_number": 26
    },
    {
     "cell_type": "markdown",
     "metadata": {},
     "source": [
      "You can also create arrays of all zeros or ones using the `zeros()` or `ones()` functions:\n",
      "\n",
      "`np.zeros(shape)` or `np.ones(shape)`"
     ]
    },
    {
     "cell_type": "code",
     "collapsed": false,
     "input": [
      "np.zeros((2,2))"
     ],
     "language": "python",
     "metadata": {},
     "outputs": [
      {
       "metadata": {},
       "output_type": "pyout",
       "prompt_number": 27,
       "text": [
        "array([[ 0.,  0.],\n",
        "       [ 0.,  0.]])"
       ]
      }
     ],
     "prompt_number": 27
    },
    {
     "cell_type": "code",
     "collapsed": false,
     "input": [
      "np.ones((2,2,3))"
     ],
     "language": "python",
     "metadata": {},
     "outputs": [
      {
       "metadata": {},
       "output_type": "pyout",
       "prompt_number": 28,
       "text": [
        "array([[[ 1.,  1.,  1.],\n",
        "        [ 1.,  1.,  1.]],\n",
        "\n",
        "       [[ 1.,  1.,  1.],\n",
        "        [ 1.,  1.,  1.]]])"
       ]
      }
     ],
     "prompt_number": 28
    },
    {
     "cell_type": "markdown",
     "metadata": {},
     "source": [
      "All functions from the __math__ built-in package, e.g., trig functions, log, etc., are implemented for arrays in `numpy`. "
     ]
    },
    {
     "cell_type": "code",
     "collapsed": false,
     "input": [
      "A = np.arange(16, dtype=float).reshape(4,4)"
     ],
     "language": "python",
     "metadata": {},
     "outputs": [],
     "prompt_number": 29
    },
    {
     "cell_type": "code",
     "collapsed": false,
     "input": [
      "np.log(np.exp(A))"
     ],
     "language": "python",
     "metadata": {},
     "outputs": [
      {
       "metadata": {},
       "output_type": "pyout",
       "prompt_number": 30,
       "text": [
        "array([[  0.,   1.,   2.,   3.],\n",
        "       [  4.,   5.,   6.,   7.],\n",
        "       [  8.,   9.,  10.,  11.],\n",
        "       [ 12.,  13.,  14.,  15.]])"
       ]
      }
     ],
     "prompt_number": 30
    },
    {
     "cell_type": "code",
     "collapsed": false,
     "input": [
      "np.cos(A/A.max())"
     ],
     "language": "python",
     "metadata": {},
     "outputs": [
      {
       "metadata": {},
       "output_type": "pyout",
       "prompt_number": 31,
       "text": [
        "array([[ 1.        ,  0.9977786 ,  0.99112427,  0.98006658],\n",
        "       [ 0.96465465,  0.94495695,  0.92106099,  0.89307295],\n",
        "       [ 0.86111717,  0.82533561,  0.78588726,  0.74294737],\n",
        "       [ 0.69670671,  0.64737072,  0.5951586 ,  0.54030231]])"
       ]
      }
     ],
     "prompt_number": 31
    },
    {
     "cell_type": "markdown",
     "metadata": {},
     "source": [
      "Sum left-to-right"
     ]
    },
    {
     "cell_type": "code",
     "collapsed": false,
     "input": [
      "np.sum(A, axis=1)"
     ],
     "language": "python",
     "metadata": {},
     "outputs": [
      {
       "metadata": {},
       "output_type": "pyout",
       "prompt_number": 32,
       "text": [
        "array([  6.,  22.,  38.,  54.])"
       ]
      }
     ],
     "prompt_number": 32
    },
    {
     "cell_type": "markdown",
     "metadata": {},
     "source": [
      "Sum top-to-bottom"
     ]
    },
    {
     "cell_type": "code",
     "collapsed": false,
     "input": [
      "np.sum(A, axis=0)"
     ],
     "language": "python",
     "metadata": {},
     "outputs": [
      {
       "metadata": {},
       "output_type": "pyout",
       "prompt_number": 33,
       "text": [
        "array([ 24.,  28.,  32.,  36.])"
       ]
      }
     ],
     "prompt_number": 33
    },
    {
     "cell_type": "markdown",
     "metadata": {},
     "source": [
      "These flip functions come in handy for images"
     ]
    },
    {
     "cell_type": "code",
     "collapsed": false,
     "input": [
      "np.flipud(A)"
     ],
     "language": "python",
     "metadata": {},
     "outputs": [
      {
       "metadata": {},
       "output_type": "pyout",
       "prompt_number": 34,
       "text": [
        "array([[ 12.,  13.,  14.,  15.],\n",
        "       [  8.,   9.,  10.,  11.],\n",
        "       [  4.,   5.,   6.,   7.],\n",
        "       [  0.,   1.,   2.,   3.]])"
       ]
      }
     ],
     "prompt_number": 34
    },
    {
     "cell_type": "code",
     "collapsed": false,
     "input": [
      "np.fliplr(A)"
     ],
     "language": "python",
     "metadata": {},
     "outputs": [
      {
       "metadata": {},
       "output_type": "pyout",
       "prompt_number": 35,
       "text": [
        "array([[  3.,   2.,   1.,   0.],\n",
        "       [  7.,   6.,   5.,   4.],\n",
        "       [ 11.,  10.,   9.,   8.],\n",
        "       [ 15.,  14.,  13.,  12.]])"
       ]
      }
     ],
     "prompt_number": 35
    },
    {
     "cell_type": "markdown",
     "metadata": {},
     "source": [
      "Combine two arrays of the same length vertically or horizontally: `vstack()` or `hstack()`"
     ]
    },
    {
     "cell_type": "code",
     "collapsed": false,
     "input": [
      "a = np.arange(0,16).reshape(4,4)\n",
      "b = np.arange(12,0,-1).reshape(4,3)\n",
      "print a\n",
      "print b\n",
      "print np.hstack([a,b]) # axis 0 must be the same"
     ],
     "language": "python",
     "metadata": {},
     "outputs": [
      {
       "output_type": "stream",
       "stream": "stdout",
       "text": [
        "[[ 0  1  2  3]\n",
        " [ 4  5  6  7]\n",
        " [ 8  9 10 11]\n",
        " [12 13 14 15]]\n",
        "[[12 11 10]\n",
        " [ 9  8  7]\n",
        " [ 6  5  4]\n",
        " [ 3  2  1]]\n",
        "[[ 0  1  2  3 12 11 10]\n",
        " [ 4  5  6  7  9  8  7]\n",
        " [ 8  9 10 11  6  5  4]\n",
        " [12 13 14 15  3  2  1]]\n"
       ]
      }
     ],
     "prompt_number": 36
    },
    {
     "cell_type": "code",
     "collapsed": false,
     "input": [
      "a = np.arange(0,16).reshape(4,4)\n",
      "b = np.arange(12,0,-1).reshape(3,4)\n",
      "print a\n",
      "print b\n",
      "print np.vstack([a,b]) # axis 1 must be the same"
     ],
     "language": "python",
     "metadata": {},
     "outputs": [
      {
       "output_type": "stream",
       "stream": "stdout",
       "text": [
        "[[ 0  1  2  3]\n",
        " [ 4  5  6  7]\n",
        " [ 8  9 10 11]\n",
        " [12 13 14 15]]\n",
        "[[12 11 10  9]\n",
        " [ 8  7  6  5]\n",
        " [ 4  3  2  1]]\n",
        "[[ 0  1  2  3]\n",
        " [ 4  5  6  7]\n",
        " [ 8  9 10 11]\n",
        " [12 13 14 15]\n",
        " [12 11 10  9]\n",
        " [ 8  7  6  5]\n",
        " [ 4  3  2  1]]\n"
       ]
      }
     ],
     "prompt_number": 37
    },
    {
     "cell_type": "markdown",
     "metadata": {},
     "source": [
      "---"
     ]
    },
    {
     "cell_type": "heading",
     "level": 3,
     "metadata": {},
     "source": [
      "Boolean arrays"
     ]
    },
    {
     "cell_type": "markdown",
     "metadata": {},
     "source": [
      "As we saw before, numpy supports boolean value arrays, and boolean arrays can be used as indices. To use an array of booleans as an index array, it must have the same shape as the valued array. For example, we could use `array([True, False, True])` to select the first and last elements from `array([1,2,3])`:"
     ]
    },
    {
     "cell_type": "code",
     "collapsed": false,
     "input": [
      "a = np.array([True, False, True])\n",
      "b = np.array([1,2,3])\n",
      "b[a]"
     ],
     "language": "python",
     "metadata": {},
     "outputs": [
      {
       "metadata": {},
       "output_type": "pyout",
       "prompt_number": 38,
       "text": [
        "array([1, 3])"
       ]
      }
     ],
     "prompt_number": 38
    },
    {
     "cell_type": "markdown",
     "metadata": {},
     "source": [
      "Note they must have the same shape, so that the following does _not_ work:"
     ]
    },
    {
     "cell_type": "code",
     "collapsed": false,
     "input": [
      "a = np.array([True, False])\n",
      "b = np.array([1,2,3])\n",
      "b[a]"
     ],
     "language": "python",
     "metadata": {},
     "outputs": [
      {
       "metadata": {},
       "output_type": "pyout",
       "prompt_number": 39,
       "text": [
        "array([1])"
       ]
      }
     ],
     "prompt_number": 39
    },
    {
     "cell_type": "markdown",
     "metadata": {},
     "source": [
      "One common use case is to select all values from an array in some range or greater than some number:"
     ]
    },
    {
     "cell_type": "code",
     "collapsed": false,
     "input": [
      "a = np.arange(10)\n",
      "a[(a > 1) & (a < 5)]"
     ],
     "language": "python",
     "metadata": {},
     "outputs": [
      {
       "metadata": {},
       "output_type": "pyout",
       "prompt_number": 40,
       "text": [
        "array([2, 3, 4])"
       ]
      }
     ],
     "prompt_number": 40
    },
    {
     "cell_type": "markdown",
     "metadata": {},
     "source": [
      "Boolean arrays can also be combined using binary operations so that compound logic can be used in selection expressions:"
     ]
    },
    {
     "cell_type": "code",
     "collapsed": false,
     "input": [
      "np.array([True, True, True]) & np.array([False, True, False])"
     ],
     "language": "python",
     "metadata": {},
     "outputs": [
      {
       "metadata": {},
       "output_type": "pyout",
       "prompt_number": 41,
       "text": [
        "array([False,  True, False], dtype=bool)"
       ]
      }
     ],
     "prompt_number": 41
    },
    {
     "cell_type": "code",
     "collapsed": false,
     "input": [
      "a = np.arange(100)\n",
      "a[(a > 51) & ((a % 3) == 0)]"
     ],
     "language": "python",
     "metadata": {},
     "outputs": [
      {
       "metadata": {},
       "output_type": "pyout",
       "prompt_number": 42,
       "text": [
        "array([54, 57, 60, 63, 66, 69, 72, 75, 78, 81, 84, 87, 90, 93, 96, 99])"
       ]
      }
     ],
     "prompt_number": 42
    },
    {
     "cell_type": "markdown",
     "metadata": {},
     "source": [
      "---"
     ]
    },
    {
     "cell_type": "heading",
     "level": 3,
     "metadata": {},
     "source": [
      "Logical operators"
     ]
    },
    {
     "cell_type": "markdown",
     "metadata": {},
     "source": [
      "Arrays support bitwise operations like AND, OR, NOT on boolean arrays. We saw an example above using the \\& operator between two boolean arrays. This is useful because it let's us combine expressions in inequalities, as we saw:"
     ]
    },
    {
     "cell_type": "code",
     "collapsed": false,
     "input": [
      "a = np.random.randint(0., 20., size=100)\n",
      "a[((a > 5) & (a < 10)) | (a > 18)]"
     ],
     "language": "python",
     "metadata": {},
     "outputs": [
      {
       "metadata": {},
       "output_type": "pyout",
       "prompt_number": 43,
       "text": [
        "array([ 7,  7,  7,  6,  9,  9,  8,  9,  6, 19,  6,  7,  9,  8, 19,  9,  9,\n",
        "        8,  6,  9])"
       ]
      }
     ],
     "prompt_number": 43
    },
    {
     "cell_type": "markdown",
     "metadata": {},
     "source": [
      "The above expression reads \"where a is greater than 5 and less than 10, or a is greater than 18\"."
     ]
    },
    {
     "cell_type": "markdown",
     "metadata": {},
     "source": [
      "Sometimes we want to partition or split a data set based on some condition. For simple cases, we can do something like:"
     ]
    },
    {
     "cell_type": "code",
     "collapsed": false,
     "input": [
      "chunk1 = a[a > 10]\n",
      "chunk2 = a[a <= 10]"
     ],
     "language": "python",
     "metadata": {},
     "outputs": [],
     "prompt_number": 44
    },
    {
     "cell_type": "markdown",
     "metadata": {},
     "source": [
      "But it's often annoying with long constraints to go through and invert all of the operators. For example:"
     ]
    },
    {
     "cell_type": "code",
     "collapsed": false,
     "input": [
      "a[((a > 10) & ((a % 5) == 1)) | ((a < 2) & (a > 1))]"
     ],
     "language": "python",
     "metadata": {},
     "outputs": [
      {
       "metadata": {},
       "output_type": "pyout",
       "prompt_number": 45,
       "text": [
        "array([16, 16, 11, 16, 16, 11, 16, 11, 11])"
       ]
      }
     ],
     "prompt_number": 45
    },
    {
     "cell_type": "markdown",
     "metadata": {},
     "source": [
      "For cases like the above, we can store the boolean index array as a separate variable, then use a logical NOT on the array to turn all of the `False`'s to `True` and vice versa."
     ]
    },
    {
     "cell_type": "code",
     "collapsed": false,
     "input": [
      "idx = ((a > 10) & ((a % 5) == 1)) | ((a < 2) & (a > 1))\n",
      "chunk1 = a[idx]\n",
      "chunk2 = a[np.logical_not(idx)]"
     ],
     "language": "python",
     "metadata": {},
     "outputs": [],
     "prompt_number": 46
    },
    {
     "cell_type": "markdown",
     "metadata": {},
     "source": [
      "----------------"
     ]
    },
    {
     "cell_type": "heading",
     "level": 3,
     "metadata": {},
     "source": [
      "Structured array"
     ]
    },
    {
     "cell_type": "markdown",
     "metadata": {},
     "source": [
      "Another useful numpy data type is the __structured array__, which acts like a normal 2 dimensional array but can also have named columns:\n",
      "\n",
      "<table>\n",
      "    <tr>\n",
      "        <td>ID</td>\n",
      "        <td>RA</td>\n",
      "        <td>Dec</td>\n",
      "    </tr>\n",
      "    <tr>\n",
      "        <td>15125</td>\n",
      "        <td>115.51244</td>\n",
      "        <td>21.51363</td>\n",
      "    </tr>\n",
      "    <tr>\n",
      "        <td>1157</td>\n",
      "        <td>173.12155</td>\n",
      "        <td>-11.15124</td>\n",
      "    </tr>\n",
      "    <tr>\n",
      "        <td>31346</td>\n",
      "        <td>201.15135</td>\n",
      "        <td>13.51613</td>\n",
      "    </tr>\n",
      "    <tr>\n",
      "        <td>3463</td>\n",
      "        <td>278.23523</td>\n",
      "        <td>67.24114</td>\n",
      "    </tr>\n",
      "</table>    \n"
     ]
    },
    {
     "cell_type": "code",
     "collapsed": false,
     "input": [
      "table_data = [(15125, 115.51244, 21.51363), \n",
      "              (1157, 173.12155, -11.15124),\n",
      "              (31346, 201.15135, 13.51613),\n",
      "              (3463, 278.23523, 67.24114)]\n",
      "structured_array = np.array(table_data, dtype=[(\"id\", int), \n",
      "                                               (\"ra\", float),\n",
      "                                               (\"dec\", float)])"
     ],
     "language": "python",
     "metadata": {},
     "outputs": [],
     "prompt_number": 47
    },
    {
     "cell_type": "code",
     "collapsed": false,
     "input": [
      "structured_array[\"ra\"] # Returns column"
     ],
     "language": "python",
     "metadata": {},
     "outputs": [
      {
       "metadata": {},
       "output_type": "pyout",
       "prompt_number": 48,
       "text": [
        "array([ 115.51244,  173.12155,  201.15135,  278.23523])"
       ]
      }
     ],
     "prompt_number": 48
    },
    {
     "cell_type": "code",
     "collapsed": false,
     "input": [
      "structured_array[0] # returns row"
     ],
     "language": "python",
     "metadata": {},
     "outputs": [
      {
       "metadata": {},
       "output_type": "pyout",
       "prompt_number": 49,
       "text": [
        "(15125, 115.51244, 21.51363)"
       ]
      }
     ],
     "prompt_number": 49
    },
    {
     "cell_type": "markdown",
     "metadata": {},
     "source": [
      "Let's read in some real data from a tab-separated data file. Note that I had to open the file myself, count how many header rows there are, and skip that many rows because `genfromtxt()` isn't very smart about parsing headers (_more on this later when we get to __astropy.io.ascii__!_). Then, to make it use of the structured array, I had to pass in the names of the columns manually! What a pain...again, wait till we get to `astropy`. "
     ]
    },
    {
     "cell_type": "code",
     "collapsed": false,
     "input": [
      "names = [\"_RAJ2000\",\"_DEJ2000\",\"Name\",\"Simbad\",\"FeH\",\"Theta\",\"Vres\",\"Ra\",\"Zmax\",\"e\",\"_RA\",\"_DE\"]\n",
      "data = np.genfromtxt(\"data/borkova2002.tsv\", delimiter=\"\\t\", skiprows=57, names=names)"
     ],
     "language": "python",
     "metadata": {},
     "outputs": [],
     "prompt_number": 51
    },
    {
     "cell_type": "markdown",
     "metadata": {},
     "source": [
      "But now we can make use of boolean arrays on *named* columns! For example, let's get the positions of any object with a metallicity less than -1 ([Fe/H] < -1)"
     ]
    },
    {
     "cell_type": "code",
     "collapsed": false,
     "input": [
      "data[data[\"FeH\"] < -1.][[\"_RA\",\"_DE\"]]"
     ],
     "language": "python",
     "metadata": {},
     "outputs": [
      {
       "metadata": {},
       "output_type": "pyout",
       "prompt_number": 52,
       "text": [
        "array([(19.3642, 38.9506), (16.3569, 34.2204), (154.0206, -29.7284),\n",
        "       (222.2084, -71.3283), (223.0226, -79.6796), (318.8244, 0.0763),\n",
        "       (324.0352, 3.2306), (330.4814, -5.6008), (343.534, -12.3607),\n",
        "       (349.8217, -24.2163), (308.1315, 0.5853), (269.7947, -49.4335),\n",
        "       (270.7679, -52.7224), (47.1287, 10.4459), (216.8957, 36.0456),\n",
        "       (220.5557, 28.2065), (221.2748, 41.0289), (229.2722, 35.116),\n",
        "       (209.6931, 12.9518), (139.7751, 29.0655), (128.2299, 13.1912),\n",
        "       (139.4124, 12.6509), (126.4256, 25.7191), (211.6166, 37.8282),\n",
        "       (192.4396, 43.774), (209.8886, 31.6511), (206.2626, 32.6546),\n",
        "       (207.0664, 39.9008), (188.9835, 37.2067), (190.2117, 37.0927),\n",
        "       (187.6154, 40.5089), (188.1901, 27.0293), (196.2833, 23.2785),\n",
        "       (199.4639, 20.7808), (281.9901, -37.7396), (230.5893, 26.8771),\n",
        "       (177.2343, -10.4413), (314.1179, 30.4279), (293.1221, 56.3882),\n",
        "       (248.8817, 57.8398), (174.4859, 67.3297), (184.4443, 69.5106),\n",
        "       (276.7781, 55.4924), (273.5794, 76.6857), (289.5861, 66.4133),\n",
        "       (222.936, 60.0692), (72.4345, -15.7412), (47.9671, -11.3539),\n",
        "       (73.4063, -19.4336), (31.9666, -26.866), (52.5931, -36.0538),\n",
        "       (118.431, 19.2733), (247.67, 18.3668), (258.2667, 35.9786),\n",
        "       (240.1343, 46.9238), (260.1307, 14.4824), (249.5754, 37.8013),\n",
        "       (187.6271, -26.0475), (138.4534, -9.3191), (144.1241, 4.1113),\n",
        "       (153.3505, -13.1382), (137.4558, -15.5997), (134.5266, -5.4402),\n",
        "       (135.0738, -9.7825), (128.7735, -8.8459), (317.8746, -45.0746),\n",
        "       (315.3703, -15.2295), (208.8115, -43.2402), (23.0341, 1.3417),\n",
        "       (15.1679, -15.9577), (33.8121, -10.8002), (8.4095, -15.4875),\n",
        "       (37.1352, -8.3584), (1.0214, -16.9976), (30.0693, -16.3461),\n",
        "       (90.9107, -31.5902), (93.3114, -37.2502), (78.7824, -41.6282),\n",
        "       (156.3565, 28.7854), (151.528, 39.3577), (74.0749, -21.2172),\n",
        "       (237.8208, -15.7509), (135.7824, 44.5856), (116.2762, 43.1115),\n",
        "       (291.3663, 42.7844), (280.9078, 32.7983), (281.918, 35.9928),\n",
        "       (275.6583, 32.959), (319.0946, -30.2842), (206.6323, -84.4018),\n",
        "       (324.039, -77.3038), (328.3974, -82.7788), (248.1064, -83.9029),\n",
        "       (263.4974, -1.081), (273.8272, 12.3524), (294.5141, -60.611),\n",
        "       (299.5006, -65.7361), (333.2663, 18.4511), (343.2543, 15.7879),\n",
        "       (350.0294, 16.0686), (352.1311, -47.4536), (335.2936, 39.7206),\n",
        "       (151.9311, 23.9918), (170.9932, 26.615), (173.4771, -0.0333),\n",
        "       (174.6362, 10.5616), (165.4034, 8.1654), (167.8415, -5.8921),\n",
        "       (142.6087, 7.2059), (174.8095, 10.3275), (171.5507, 17.661),\n",
        "       (170.8436, 6.6349), (173.2656, 12.1539), (2.9211, -1.7487),\n",
        "       (122.1176, -16.5332), (293.0866, -23.8535), (273.3975, -34.3172),\n",
        "       (265.202, -31.5422), (0.7005, -24.9453), (23.8486, -35.1285),\n",
        "       (232.758, 1.6838), (233.3784, 2.7772), (238.9182, 7.9888),\n",
        "       (240.9667, 0.5967), (232.1514, 3.0899), (161.6745, -8.3757),\n",
        "       (14.5404, -63.3957), (203.3254, 53.9874), (172.452, 30.0673),\n",
        "       (163.2604, -49.9063), (185.3197, 0.3674), (217.0409, 6.5455),\n",
        "       (200.8889, -16.6661), (193.191, -10.2599), (193.7939, -5.459),\n",
        "       (200.0482, 9.1879), (207.9199, 6.4309), (189.1137, -2.426),\n",
        "       (291.9836, 24.3474)], \n",
        "      dtype=[('_RA', '<f8'), ('_DE', '<f8')])"
       ]
      }
     ],
     "prompt_number": 52
    },
    {
     "cell_type": "markdown",
     "metadata": {},
     "source": [
      "------------"
     ]
    },
    {
     "cell_type": "heading",
     "level": 3,
     "metadata": {},
     "source": [
      "Random numbers"
     ]
    },
    {
     "cell_type": "markdown",
     "metadata": {},
     "source": [
      "Numpy also contains a `random` subpackage for sampling from various distributions and drawing random numbers"
     ]
    },
    {
     "cell_type": "code",
     "collapsed": false,
     "input": [
      "np.random.seed(42)"
     ],
     "language": "python",
     "metadata": {},
     "outputs": [],
     "prompt_number": 53
    },
    {
     "cell_type": "code",
     "collapsed": false,
     "input": [
      "np.random.random()"
     ],
     "language": "python",
     "metadata": {},
     "outputs": [
      {
       "metadata": {},
       "output_type": "pyout",
       "prompt_number": 54,
       "text": [
        "0.3745401188473625"
       ]
      }
     ],
     "prompt_number": 54
    },
    {
     "cell_type": "code",
     "collapsed": false,
     "input": [
      "np.random.random()"
     ],
     "language": "python",
     "metadata": {},
     "outputs": [
      {
       "metadata": {},
       "output_type": "pyout",
       "prompt_number": 55,
       "text": [
        "0.9507143064099162"
       ]
      }
     ],
     "prompt_number": 55
    },
    {
     "cell_type": "code",
     "collapsed": false,
     "input": [
      "np.random.uniform(-5, 11, size=(2,2))"
     ],
     "language": "python",
     "metadata": {},
     "outputs": [
      {
       "metadata": {},
       "output_type": "pyout",
       "prompt_number": 56,
       "text": [
        "array([[ 6.71190307,  4.57853575],\n",
        "       [-2.50370175, -2.50408767]])"
       ]
      }
     ],
     "prompt_number": 56
    },
    {
     "cell_type": "code",
     "collapsed": false,
     "input": [
      "np.random.normal(1., 0.5, size=(5,5))"
     ],
     "language": "python",
     "metadata": {},
     "outputs": [
      {
       "metadata": {},
       "output_type": "pyout",
       "prompt_number": 57,
       "text": [
        "array([[ 1.78960641,  1.38371736,  0.76526281,  1.27128002,  0.76829115],\n",
        "       [ 0.76713512,  1.12098114,  0.04335988,  0.13754108,  0.71885624],\n",
        "       [ 0.49358444,  1.15712367,  0.54598796,  0.29384815,  1.73282438],\n",
        "       [ 0.88711185,  1.0337641 ,  0.28762591,  0.72780864,  1.05546129],\n",
        "       [ 0.42450321,  1.18784901,  0.69968066,  0.85415313,  0.69914669]])"
       ]
      }
     ],
     "prompt_number": 57
    },
    {
     "cell_type": "markdown",
     "metadata": {},
     "source": [
      "---"
     ]
    },
    {
     "cell_type": "heading",
     "level": 3,
     "metadata": {},
     "source": [
      "Linear algebra"
     ]
    },
    {
     "cell_type": "markdown",
     "metadata": {},
     "source": [
      "Numpy includes a subpackage - `linalg` - for handling linear algebraic operations."
     ]
    },
    {
     "cell_type": "markdown",
     "metadata": {},
     "source": [
      "For example, to find the determinant of a matrix:"
     ]
    },
    {
     "cell_type": "code",
     "collapsed": false,
     "input": [
      "A = np.random.random(size=(10,10))\n",
      "np.linalg.det(A)"
     ],
     "language": "python",
     "metadata": {},
     "outputs": [
      {
       "metadata": {},
       "output_type": "pyout",
       "prompt_number": 58,
       "text": [
        "-0.00014883408288045533"
       ]
      }
     ],
     "prompt_number": 58
    },
    {
     "cell_type": "markdown",
     "metadata": {},
     "source": [
      "The eigenvectors and eigenvalues:"
     ]
    },
    {
     "cell_type": "code",
     "collapsed": false,
     "input": [
      "eig_values, eig_vectors = np.linalg.eig(A)"
     ],
     "language": "python",
     "metadata": {},
     "outputs": [],
     "prompt_number": 59
    },
    {
     "cell_type": "markdown",
     "metadata": {},
     "source": [
      "The covariance matrix:"
     ]
    },
    {
     "cell_type": "code",
     "collapsed": false,
     "input": [
      "A = np.random.random(size=(3,100))\n",
      "np.cov(A)"
     ],
     "language": "python",
     "metadata": {},
     "outputs": [
      {
       "metadata": {},
       "output_type": "pyout",
       "prompt_number": 60,
       "text": [
        "array([[ 0.08154533, -0.02320454, -0.00232545],\n",
        "       [-0.02320454,  0.08910651, -0.00042777],\n",
        "       [-0.00232545, -0.00042777,  0.08964843]])"
       ]
      }
     ],
     "prompt_number": 60
    },
    {
     "cell_type": "markdown",
     "metadata": {},
     "source": [
      "------------"
     ]
    },
    {
     "cell_type": "heading",
     "level": 3,
     "metadata": {},
     "source": [
      "Dimensionality reduction"
     ]
    },
    {
     "cell_type": "markdown",
     "metadata": {},
     "source": [
      "We often end up with complicated array structures where we may want to sum along one axis, or take the mean or median along an axis. For example, let's say we had a 2D array, __`A`__, where each _row_ is a spectrum of the same star at a different time. So that `A[0]` is an array of fluxes at time=0, `A[1]` is an array of fluxes at time=1, and etc. \n",
      "\n",
      "We'll create an array of random numbers to represent this: let's assume we have 100 timesteps, and 5000 wavelength bins."
     ]
    },
    {
     "cell_type": "code",
     "collapsed": false,
     "input": [
      "A = np.random.random((100,5000))\n",
      "A[0].shape"
     ],
     "language": "python",
     "metadata": {},
     "outputs": [
      {
       "metadata": {},
       "output_type": "pyout",
       "prompt_number": 61,
       "text": [
        "(5000,)"
       ]
      }
     ],
     "prompt_number": 61
    },
    {
     "cell_type": "markdown",
     "metadata": {},
     "source": [
      "We can coadd all of the spectra by summing down the 0th axis:"
     ]
    },
    {
     "cell_type": "code",
     "collapsed": false,
     "input": [
      "coadd = A.sum(axis=0)\n",
      "coadd.shape"
     ],
     "language": "python",
     "metadata": {},
     "outputs": [
      {
       "metadata": {},
       "output_type": "pyout",
       "prompt_number": 62,
       "text": [
        "(5000,)"
       ]
      }
     ],
     "prompt_number": 62
    },
    {
     "cell_type": "markdown",
     "metadata": {},
     "source": [
      "Most mathematical operations that reduce the dimensionality of an array will by default reduce the array to be 0-dimensional, but they often support the keyword `axis` and can be explicitly told to only squash that one dimension:"
     ]
    },
    {
     "cell_type": "code",
     "collapsed": false,
     "input": [
      "A.sum().shape, A.sum(axis=0).shape"
     ],
     "language": "python",
     "metadata": {},
     "outputs": [
      {
       "metadata": {},
       "output_type": "pyout",
       "prompt_number": 63,
       "text": [
        "((), (5000,))"
       ]
      }
     ],
     "prompt_number": 63
    },
    {
     "cell_type": "code",
     "collapsed": false,
     "input": [
      "np.median(A).shape, np.median(A, axis=0).shape"
     ],
     "language": "python",
     "metadata": {},
     "outputs": [
      {
       "metadata": {},
       "output_type": "pyout",
       "prompt_number": 64,
       "text": [
        "((), (5000,))"
       ]
      }
     ],
     "prompt_number": 64
    },
    {
     "cell_type": "markdown",
     "metadata": {},
     "source": [
      "-----"
     ]
    },
    {
     "cell_type": "heading",
     "level": 3,
     "metadata": {},
     "source": [
      "Broadcasting"
     ]
    },
    {
     "cell_type": "markdown",
     "metadata": {},
     "source": [
      "Array broadcasting is hard to explain. As the numpy docs describe it: _The term broadcasting describes how numpy treats arrays with different shapes during arithmetic operations._ I think it's best learned with some examples!"
     ]
    },
    {
     "cell_type": "code",
     "collapsed": false,
     "input": [
      "a = np.random.uniform(size=(100,3))\n",
      "b = np.arange(1,101)\n",
      "print a.shape, b.shape\n",
      "\n",
      "b = b[:,np.newaxis]\n",
      "c = a/b"
     ],
     "language": "python",
     "metadata": {},
     "outputs": [
      {
       "output_type": "stream",
       "stream": "stdout",
       "text": [
        "(100, 3) (100,)\n"
       ]
      }
     ],
     "prompt_number": 65
    },
    {
     "cell_type": "markdown",
     "metadata": {},
     "source": [
      "Why did that work? I divided a 2D array by a 1D array -- what does that mean? The trick is in that strange `np.newaxis` object. "
     ]
    },
    {
     "cell_type": "code",
     "collapsed": false,
     "input": [
      "b = np.arange(1,101)\n",
      "print b.shape\n",
      "b = b[:,np.newaxis]\n",
      "print b.shape"
     ],
     "language": "python",
     "metadata": {},
     "outputs": [
      {
       "output_type": "stream",
       "stream": "stdout",
       "text": [
        "(100,)\n",
        "(100, 1)\n"
       ]
      }
     ],
     "prompt_number": 66
    },
    {
     "cell_type": "markdown",
     "metadata": {},
     "source": [
      "`np.newaxis` creates a new dimension, or axis, in the array. This promotes the 1D array to a 2D array, but conceptually it has the same structure underneath. In fact, it's similar to just adding an extra set of brackets when defining an array:"
     ]
    },
    {
     "cell_type": "code",
     "collapsed": false,
     "input": [
      "print np.array([1,2,3]).shape\n",
      "print np.array([[1,2,3]]).shape"
     ],
     "language": "python",
     "metadata": {},
     "outputs": [
      {
       "output_type": "stream",
       "stream": "stdout",
       "text": [
        "(3,)\n",
        "(1, 3)\n"
       ]
      }
     ],
     "prompt_number": 67
    },
    {
     "cell_type": "markdown",
     "metadata": {},
     "source": [
      "So how does adding an extra dimension make their shapes compatible? Think of a 1D array -- it makes sense to multiply a 1D array by a scalar. You can think of a scalar as a 0D array, or as a 1D array with just one element. So if we multiply a (100,3) array by a (100,1) array, it multiplies each length 100 'row' in the first one by the second, producing a new (100,3) array."
     ]
    },
    {
     "cell_type": "code",
     "collapsed": false,
     "input": [
      "a = np.random.uniform(size=(100,3))\n",
      "b = np.arange(1,101)\n",
      "print a.shape, b.shape\n",
      "\n",
      "b = b[:,np.newaxis]\n",
      "c = a/b\n",
      "print c.shape"
     ],
     "language": "python",
     "metadata": {},
     "outputs": [
      {
       "output_type": "stream",
       "stream": "stdout",
       "text": [
        "(100, 3) (100,)\n",
        "(100, 3)\n"
       ]
      }
     ],
     "prompt_number": 68
    },
    {
     "cell_type": "code",
     "collapsed": false,
     "input": [],
     "language": "python",
     "metadata": {},
     "outputs": [],
     "prompt_number": 68
    }
   ],
   "metadata": {}
  }
 ]
}