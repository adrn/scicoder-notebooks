{
 "metadata": {
  "name": "talk-numpy"
 },
 "nbformat": 3,
 "nbformat_minor": 0,
 "worksheets": [
  {
   "cells": [
    {
     "cell_type": "markdown",
     "metadata": {},
     "source": [
      "* Convention is to import numpy as __np__, like this:"
     ]
    },
    {
     "cell_type": "code",
     "collapsed": false,
     "input": [
      "import numpy as np"
     ],
     "language": "python",
     "metadata": {},
     "outputs": []
    },
    {
     "cell_type": "heading",
     "level": 1,
     "metadata": {},
     "source": [
      "Numpy"
     ]
    },
    {
     "cell_type": "markdown",
     "metadata": {},
     "source": [
      "Python's collections (e.g. `list`) can be heterogeneous -- e.g., can contain objects of different types:"
     ]
    },
    {
     "cell_type": "code",
     "collapsed": false,
     "input": [
      "[1, \"cat\", 15.13451, [1,2,3]]"
     ],
     "language": "python",
     "metadata": {},
     "outputs": []
    },
    {
     "cell_type": "markdown",
     "metadata": {},
     "source": [
      "This can be very convenient, but means there is a lot of overhead if you have a list of numbers and want to compute the same operation on all elements. Numpy offers a collection type -- the __ndarray__ -- that is much more efficient because they mostly handle heterogeneous data, e.g. a collection of numbers:"
     ]
    },
    {
     "cell_type": "code",
     "collapsed": false,
     "input": [
      "np.array([1,2,3,4,5,6])"
     ],
     "language": "python",
     "metadata": {},
     "outputs": []
    },
    {
     "cell_type": "markdown",
     "metadata": {},
     "source": [
      "-----"
     ]
    },
    {
     "cell_type": "heading",
     "level": 3,
     "metadata": {},
     "source": [
      "The array object"
     ]
    },
    {
     "cell_type": "markdown",
     "metadata": {},
     "source": [
      "Numpy arrays are created by passing an iterable (like a Python `list`) to the numpy `array()` function"
     ]
    },
    {
     "cell_type": "code",
     "collapsed": false,
     "input": [
      "some_array = np.array([1,2,3,4])"
     ],
     "language": "python",
     "metadata": {},
     "outputs": []
    },
    {
     "cell_type": "code",
     "collapsed": false,
     "input": [
      "some_array"
     ],
     "language": "python",
     "metadata": {},
     "outputs": []
    },
    {
     "cell_type": "markdown",
     "metadata": {},
     "source": [
      "Numpy arrays can have an arbitrary number of dimensions. Some useful attributes of the `Array` object:"
     ]
    },
    {
     "cell_type": "code",
     "collapsed": false,
     "input": [
      "some_array.ndim # number of dimensions"
     ],
     "language": "python",
     "metadata": {},
     "outputs": []
    },
    {
     "cell_type": "code",
     "collapsed": false,
     "input": [
      "some_array.shape"
     ],
     "language": "python",
     "metadata": {},
     "outputs": []
    },
    {
     "cell_type": "code",
     "collapsed": false,
     "input": [
      "some_array.size"
     ],
     "language": "python",
     "metadata": {},
     "outputs": []
    },
    {
     "cell_type": "markdown",
     "metadata": {},
     "source": [
      "Not very exciting for a one dimensional array, but what about a 3 by 3 array?\n",
      "\n",
      "$$\\left(\n",
      "    \\begin{array}{c} \n",
      "    1 & 2 & 3\\\\\\\\\n",
      "    4 & 5 & 6\\\\\\\\\n",
      "    7 & 8 & 9\n",
      "    \\end{array} \n",
      "\\right)\n",
      "$$"
     ]
    },
    {
     "cell_type": "code",
     "collapsed": false,
     "input": [
      "another_array = np.array([[1,2,3],[4,5,6],[7,8,9]])\n",
      "another_array"
     ],
     "language": "python",
     "metadata": {},
     "outputs": []
    },
    {
     "cell_type": "code",
     "collapsed": false,
     "input": [
      "another_array.ndim"
     ],
     "language": "python",
     "metadata": {},
     "outputs": []
    },
    {
     "cell_type": "code",
     "collapsed": false,
     "input": [
      "another_array.shape"
     ],
     "language": "python",
     "metadata": {},
     "outputs": []
    },
    {
     "cell_type": "code",
     "collapsed": false,
     "input": [
      "another_array.size"
     ],
     "language": "python",
     "metadata": {},
     "outputs": []
    },
    {
     "cell_type": "markdown",
     "metadata": {},
     "source": [
      "-------------------"
     ]
    },
    {
     "cell_type": "heading",
     "level": 3,
     "metadata": {},
     "source": [
      "Array operations and differences with lists"
     ]
    },
    {
     "cell_type": "markdown",
     "metadata": {},
     "source": [
      "Array options act __element-wise__, unlike how `list`s behave. For example, multiplying a `list` by an integer will return a new list with the original replicated that many times. Multiplying an array of numbers by a scalar behaves like vector multiplication:"
     ]
    },
    {
     "cell_type": "code",
     "collapsed": false,
     "input": [
      "print [1, 2]*5\n",
      "print np.array([1, 2])*5"
     ],
     "language": "python",
     "metadata": {},
     "outputs": []
    },
    {
     "cell_type": "markdown",
     "metadata": {},
     "source": [
      "$5 \\times \\left(\\begin{array}{c} 1\\\\\\ 2 \\end{array} \\right) = \\left(\\begin{array}{c} 5\\\\\\ 10 \\end{array} \\right)$"
     ]
    },
    {
     "cell_type": "markdown",
     "metadata": {},
     "source": [
      "Similarly, adding two lists will concatenate the two into a new list. Adding two arrays is like adding two vectors:\n",
      "\n",
      "$\\left(\\begin{array}{c} 1\\\\\\ 2 \\end{array} \\right) + \\left(\\begin{array}{c} 3\\\\\\ 4 \\end{array} \\right) = \\left(\\begin{array}{c} 4\\\\\\ 6 \\end{array} \\right)$"
     ]
    },
    {
     "cell_type": "code",
     "collapsed": false,
     "input": [
      "print [1,2] + [3,4]\n",
      "print np.array([1,2]) + np.array([3,4])"
     ],
     "language": "python",
     "metadata": {},
     "outputs": []
    },
    {
     "cell_type": "markdown",
     "metadata": {},
     "source": [
      "This works for comparison operators as well. For example, when comparing an array of numbers with another, you will get a new array of boolean values of the same shape as the original. \n",
      "\n",
      "$\\left(\\begin{array}{c} 1\\\\2 \\\\3 \\\\4 \\\\5 \\end{array} \\right) > 3 = \\left(\\begin{array}{c} False\\\\False \\\\False \\\\True\\\\True \\end{array} \\right)$"
     ]
    },
    {
     "cell_type": "code",
     "collapsed": false,
     "input": [
      "print np.array([1,2,3,4,5]) > 3"
     ],
     "language": "python",
     "metadata": {},
     "outputs": []
    },
    {
     "cell_type": "markdown",
     "metadata": {},
     "source": [
      "Because arrays contain homogeneous data types, operations are much faster than doing a list comprehension:"
     ]
    },
    {
     "cell_type": "code",
     "collapsed": false,
     "input": [
      "%timeit [x**2 for x in range(10000)]"
     ],
     "language": "python",
     "metadata": {},
     "outputs": []
    },
    {
     "cell_type": "code",
     "collapsed": false,
     "input": [
      "%timeit np.arange(10000)**2"
     ],
     "language": "python",
     "metadata": {},
     "outputs": []
    },
    {
     "cell_type": "markdown",
     "metadata": {},
     "source": [
      "------------------------"
     ]
    },
    {
     "cell_type": "heading",
     "level": 3,
     "metadata": {},
     "source": [
      "Reshaping"
     ]
    },
    {
     "cell_type": "markdown",
     "metadata": {},
     "source": [
      "Arrays can be reshaped, as long as the total number of elements is conserved. For example, a 1D array of length 100 can be reshaped into a 10 x 10 2D array:"
     ]
    },
    {
     "cell_type": "code",
     "collapsed": false,
     "input": [
      "np.arange(100).reshape(10,10)"
     ],
     "language": "python",
     "metadata": {},
     "outputs": []
    },
    {
     "cell_type": "markdown",
     "metadata": {},
     "source": [
      "----"
     ]
    },
    {
     "cell_type": "heading",
     "level": 3,
     "metadata": {},
     "source": [
      "Slicing and indexing"
     ]
    },
    {
     "cell_type": "markdown",
     "metadata": {},
     "source": [
      "Arrays support slicing and indexing just like Python lists"
     ]
    },
    {
     "cell_type": "code",
     "collapsed": false,
     "input": [
      "np.arange(10)[3:]"
     ],
     "language": "python",
     "metadata": {},
     "outputs": []
    },
    {
     "cell_type": "markdown",
     "metadata": {},
     "source": [
      "Because arrays can be multi-dimensional, you can specify indices or slices along multiple dimensions by separating the indices or slices with a comma:"
     ]
    },
    {
     "cell_type": "code",
     "collapsed": false,
     "input": [
      "a = np.arange(100).reshape(10,10)\n",
      "a[6,0]"
     ],
     "language": "python",
     "metadata": {},
     "outputs": []
    },
    {
     "cell_type": "code",
     "collapsed": false,
     "input": [
      "a[6:10,1:7]"
     ],
     "language": "python",
     "metadata": {},
     "outputs": []
    },
    {
     "cell_type": "markdown",
     "metadata": {},
     "source": [
      "Don't think about arrays as 2D matrices, even if they are. But since you're going to anyways, remember that the first index refers to __rows__ and the second refers to __columns__."
     ]
    },
    {
     "cell_type": "markdown",
     "metadata": {},
     "source": [
      "---"
     ]
    },
    {
     "cell_type": "heading",
     "level": 3,
     "metadata": {},
     "source": [
      "Arrays as index arrays"
     ]
    },
    {
     "cell_type": "markdown",
     "metadata": {},
     "source": [
      "Integer arrays can be used as indices for other arrays"
     ]
    },
    {
     "cell_type": "code",
     "collapsed": false,
     "input": [
      "a = np.array([0,3,1])\n",
      "b = np.array([1,2,3,4,5,6,7,8,9])\n",
      "b[a]"
     ],
     "language": "python",
     "metadata": {},
     "outputs": []
    },
    {
     "cell_type": "markdown",
     "metadata": {},
     "source": [
      "In the above example, we use the array `a` as an index array to select the 0th, 3rd, and 1st elements out of the array 'b'."
     ]
    },
    {
     "cell_type": "markdown",
     "metadata": {},
     "source": [
      "-------"
     ]
    },
    {
     "cell_type": "heading",
     "level": 3,
     "metadata": {},
     "source": [
      "Commonly used functions"
     ]
    },
    {
     "cell_type": "markdown",
     "metadata": {},
     "source": [
      "Similar to Python's `range()`, Numpy has an `arange()` function that can be used to generate a sequence of numbers given a starting point, end point, and step size.\n",
      "\n",
      "`np.arange(start, stop, step)`"
     ]
    },
    {
     "cell_type": "code",
     "collapsed": false,
     "input": [
      "np.arange(5) # used with a single integer, behaves just like Python's range()"
     ],
     "language": "python",
     "metadata": {},
     "outputs": []
    },
    {
     "cell_type": "code",
     "collapsed": false,
     "input": [
      "np.arange(1, 101, 20) # number from 1 up to but not including 101, increment by 20"
     ],
     "language": "python",
     "metadata": {},
     "outputs": []
    },
    {
     "cell_type": "code",
     "collapsed": false,
     "input": [
      "np.arange(1.05, 3.1, 0.16) # arange can do decimal numbers as well"
     ],
     "language": "python",
     "metadata": {},
     "outputs": []
    },
    {
     "cell_type": "markdown",
     "metadata": {},
     "source": [
      "The `linspace()` function generates an array of evenly spaced numbers from a given start to an end point.\n",
      "\n",
      "`np.linspace(start, stop, number of elements)`"
     ]
    },
    {
     "cell_type": "code",
     "collapsed": false,
     "input": [
      "np.linspace(0., 10., 7) # Generate 7 evenly spaced numbers from 0 to 10"
     ],
     "language": "python",
     "metadata": {},
     "outputs": []
    },
    {
     "cell_type": "markdown",
     "metadata": {},
     "source": [
      "You can also create arrays of all zeros or ones using the `zeros()` or `ones()` functions:\n",
      "\n",
      "`np.zeros(shape)` or `np.ones(shape)`"
     ]
    },
    {
     "cell_type": "code",
     "collapsed": false,
     "input": [
      "np.zeros((2,2))"
     ],
     "language": "python",
     "metadata": {},
     "outputs": []
    },
    {
     "cell_type": "code",
     "collapsed": false,
     "input": [
      "np.ones((2,2,3))"
     ],
     "language": "python",
     "metadata": {},
     "outputs": []
    },
    {
     "cell_type": "markdown",
     "metadata": {},
     "source": [
      "All functions from the __math__ built-in package, e.g., trig functions, log, etc., are implemented for arrays in `numpy`. "
     ]
    },
    {
     "cell_type": "code",
     "collapsed": false,
     "input": [
      "A = np.arange(16, dtype=float).reshape(4,4)"
     ],
     "language": "python",
     "metadata": {},
     "outputs": []
    },
    {
     "cell_type": "code",
     "collapsed": false,
     "input": [
      "np.log(np.exp(A))"
     ],
     "language": "python",
     "metadata": {},
     "outputs": []
    },
    {
     "cell_type": "code",
     "collapsed": false,
     "input": [
      "np.cos(A/A.max())"
     ],
     "language": "python",
     "metadata": {},
     "outputs": []
    },
    {
     "cell_type": "markdown",
     "metadata": {},
     "source": [
      "Sum left-to-right"
     ]
    },
    {
     "cell_type": "code",
     "collapsed": false,
     "input": [
      "np.sum(A, axis=1)"
     ],
     "language": "python",
     "metadata": {},
     "outputs": []
    },
    {
     "cell_type": "markdown",
     "metadata": {},
     "source": [
      "Sum top-to-bottom"
     ]
    },
    {
     "cell_type": "code",
     "collapsed": false,
     "input": [
      "np.sum(A, axis=0)"
     ],
     "language": "python",
     "metadata": {},
     "outputs": []
    },
    {
     "cell_type": "markdown",
     "metadata": {},
     "source": [
      "These flip functions come in handy for images"
     ]
    },
    {
     "cell_type": "code",
     "collapsed": false,
     "input": [
      "np.flipud(A)"
     ],
     "language": "python",
     "metadata": {},
     "outputs": []
    },
    {
     "cell_type": "code",
     "collapsed": false,
     "input": [
      "np.fliplr(A)"
     ],
     "language": "python",
     "metadata": {},
     "outputs": []
    },
    {
     "cell_type": "markdown",
     "metadata": {},
     "source": [
      "Combine two arrays of the same length vertically or horizontally: `vstack()` or `hstack()`"
     ]
    },
    {
     "cell_type": "code",
     "collapsed": false,
     "input": [
      "a = np.arange(0,16).reshape(4,4)\n",
      "b = np.arange(12,0,-1).reshape(4,3)\n",
      "print a\n",
      "print b\n",
      "print np.hstack([a,b]) # axis 0 must be the same"
     ],
     "language": "python",
     "metadata": {},
     "outputs": []
    },
    {
     "cell_type": "code",
     "collapsed": false,
     "input": [
      "a = np.arange(0,16).reshape(4,4)\n",
      "b = np.arange(12,0,-1).reshape(3,4)\n",
      "print a\n",
      "print b\n",
      "print np.vstack([a,b]) # axis 1 must be the same"
     ],
     "language": "python",
     "metadata": {},
     "outputs": []
    },
    {
     "cell_type": "markdown",
     "metadata": {},
     "source": [
      "---"
     ]
    },
    {
     "cell_type": "heading",
     "level": 3,
     "metadata": {},
     "source": [
      "Boolean arrays"
     ]
    },
    {
     "cell_type": "markdown",
     "metadata": {},
     "source": [
      "As we saw before, numpy supports boolean value arrays, and boolean arrays can be used as indices. To use an array of booleans as an index array, it must have the same shape as the valued array. For example, we could use `array([True, False, True])` to select the first and last elements from `array([1,2,3])`:"
     ]
    },
    {
     "cell_type": "code",
     "collapsed": false,
     "input": [
      "a = np.array([True, False, True])\n",
      "b = np.array([1,2,3])\n",
      "b[a]"
     ],
     "language": "python",
     "metadata": {},
     "outputs": []
    },
    {
     "cell_type": "markdown",
     "metadata": {},
     "source": [
      "Note they must have the same shape, so that the following does _not_ work:"
     ]
    },
    {
     "cell_type": "code",
     "collapsed": false,
     "input": [
      "a = np.array([True, False])\n",
      "b = np.array([1,2,3])\n",
      "b[a]"
     ],
     "language": "python",
     "metadata": {},
     "outputs": []
    },
    {
     "cell_type": "markdown",
     "metadata": {},
     "source": [
      "One common use case is to select all values from an array in some range or greater than some number:"
     ]
    },
    {
     "cell_type": "code",
     "collapsed": false,
     "input": [
      "a = np.arange(10)\n",
      "a[(a > 1) & (a < 5)]"
     ],
     "language": "python",
     "metadata": {},
     "outputs": []
    },
    {
     "cell_type": "markdown",
     "metadata": {},
     "source": [
      "Boolean arrays can also be combined using binary operations so that compound logic can be used in selection expressions:"
     ]
    },
    {
     "cell_type": "code",
     "collapsed": false,
     "input": [
      "np.array([True, True, True]) & np.array([False, True, False])"
     ],
     "language": "python",
     "metadata": {},
     "outputs": []
    },
    {
     "cell_type": "code",
     "collapsed": false,
     "input": [
      "a = np.arange(100)\n",
      "a[(a > 51) & ((a % 3) == 0)]"
     ],
     "language": "python",
     "metadata": {},
     "outputs": []
    },
    {
     "cell_type": "markdown",
     "metadata": {},
     "source": [
      "---"
     ]
    },
    {
     "cell_type": "heading",
     "level": 3,
     "metadata": {},
     "source": [
      "Logical operators"
     ]
    },
    {
     "cell_type": "markdown",
     "metadata": {},
     "source": [
      "Arrays support bitwise operations like AND, OR, NOT on boolean arrays. We saw an example above using the \\& operator between two boolean arrays. This is useful because it let's us combine expressions in inequalities, as we saw:"
     ]
    },
    {
     "cell_type": "code",
     "collapsed": false,
     "input": [
      "a = np.random.randint(0., 20., size=100)\n",
      "a[((a > 5) & (a < 10)) | (a > 18)]"
     ],
     "language": "python",
     "metadata": {},
     "outputs": []
    },
    {
     "cell_type": "markdown",
     "metadata": {},
     "source": [
      "The above expression reads \"where a is greater than 5 and less than 10, or a is greater than 18\"."
     ]
    },
    {
     "cell_type": "markdown",
     "metadata": {},
     "source": [
      "Sometimes we want to partition or split a data set based on some condition. For simple cases, we can do something like:"
     ]
    },
    {
     "cell_type": "code",
     "collapsed": false,
     "input": [
      "chunk1 = a[a > 10]\n",
      "chunk2 = a[a <= 10]"
     ],
     "language": "python",
     "metadata": {},
     "outputs": []
    },
    {
     "cell_type": "markdown",
     "metadata": {},
     "source": [
      "But it's often annoying with long constraints to go through and invert all of the operators. For example:"
     ]
    },
    {
     "cell_type": "code",
     "collapsed": false,
     "input": [
      "a[((a > 10) & ((a % 5) == 1)) | ((a < 2) & (a > 1))]"
     ],
     "language": "python",
     "metadata": {},
     "outputs": []
    },
    {
     "cell_type": "markdown",
     "metadata": {},
     "source": [
      "For cases like the above, we can store the boolean index array as a separate variable, then use a logical NOT on the array to turn all of the `False`'s to `True` and vice versa."
     ]
    },
    {
     "cell_type": "code",
     "collapsed": false,
     "input": [
      "idx = ((a > 10) & ((a % 5) == 1)) | ((a < 2) & (a > 1))\n",
      "chunk1 = a[idx]\n",
      "chunk2 = a[np.logical_not(idx)]"
     ],
     "language": "python",
     "metadata": {},
     "outputs": []
    },
    {
     "cell_type": "markdown",
     "metadata": {},
     "source": [
      "----------------"
     ]
    },
    {
     "cell_type": "heading",
     "level": 3,
     "metadata": {},
     "source": [
      "Structured array"
     ]
    },
    {
     "cell_type": "markdown",
     "metadata": {},
     "source": [
      "Another useful numpy data type is the __structured array__, which acts like a normal 2 dimensional array but can also have named columns:\n",
      "\n",
      "<table>\n",
      "    <tr>\n",
      "        <td>ID</td>\n",
      "        <td>RA</td>\n",
      "        <td>Dec</td>\n",
      "    </tr>\n",
      "    <tr>\n",
      "        <td>15125</td>\n",
      "        <td>115.51244</td>\n",
      "        <td>21.51363</td>\n",
      "    </tr>\n",
      "    <tr>\n",
      "        <td>1157</td>\n",
      "        <td>173.12155</td>\n",
      "        <td>-11.15124</td>\n",
      "    </tr>\n",
      "    <tr>\n",
      "        <td>31346</td>\n",
      "        <td>201.15135</td>\n",
      "        <td>13.51613</td>\n",
      "    </tr>\n",
      "    <tr>\n",
      "        <td>3463</td>\n",
      "        <td>278.23523</td>\n",
      "        <td>67.24114</td>\n",
      "    </tr>\n",
      "</table>    \n"
     ]
    },
    {
     "cell_type": "code",
     "collapsed": false,
     "input": [
      "table_data = [(15125, 115.51244, 21.51363), \n",
      "              (1157, 173.12155, -11.15124),\n",
      "              (31346, 201.15135, 13.51613),\n",
      "              (3463, 278.23523, 67.24114)]\n",
      "structured_array = np.array(table_data, dtype=[(\"id\", int), \n",
      "                                               (\"ra\", float),\n",
      "                                               (\"dec\", float)])"
     ],
     "language": "python",
     "metadata": {},
     "outputs": []
    },
    {
     "cell_type": "code",
     "collapsed": false,
     "input": [
      "structured_array[\"ra\"] # Returns column"
     ],
     "language": "python",
     "metadata": {},
     "outputs": []
    },
    {
     "cell_type": "code",
     "collapsed": false,
     "input": [
      "structured_array[0] # returns row"
     ],
     "language": "python",
     "metadata": {},
     "outputs": []
    },
    {
     "cell_type": "markdown",
     "metadata": {},
     "source": [
      "Let's read in some real data from a tab-separated data file. Note that I had to open the file myself, count how many header rows there are, and skip that many rows because `genfromtxt()` isn't very smart about parsing headers (_more on this later when we get to __astropy.io.ascii__!_). Then, to make it use of the structured array, I had to pass in the names of the columns manually! What a pain...again, wait till we get to `astropy`. "
     ]
    },
    {
     "cell_type": "code",
     "collapsed": false,
     "input": [
      "names = [\"_RAJ2000\",\"_DEJ2000\",\"Name\",\"Simbad\",\"FeH\",\"Theta\",\"Vres\",\"Ra\",\"Zmax\",\"e\",\"_RA\",\"_DE\"]\n",
      "data = np.genfromtxt(\"../data/borkova2002.tsv\", delimiter=\"\\t\", skiprows=57, names=names)"
     ],
     "language": "python",
     "metadata": {},
     "outputs": []
    },
    {
     "cell_type": "markdown",
     "metadata": {},
     "source": [
      "But now we can make use of boolean arrays on *named* columns! For example, let's get the positions of any object with a metallicity less than -1 ([Fe/H] < -1)"
     ]
    },
    {
     "cell_type": "code",
     "collapsed": false,
     "input": [
      "data[data[\"FeH\"] < -1.][[\"_RA\",\"_DE\"]]"
     ],
     "language": "python",
     "metadata": {},
     "outputs": []
    },
    {
     "cell_type": "markdown",
     "metadata": {},
     "source": [
      "------------"
     ]
    },
    {
     "cell_type": "heading",
     "level": 3,
     "metadata": {},
     "source": [
      "Random numbers"
     ]
    },
    {
     "cell_type": "markdown",
     "metadata": {},
     "source": [
      "Numpy also contains a `random` subpackage for sampling from various distributions and drawing random numbers"
     ]
    },
    {
     "cell_type": "code",
     "collapsed": false,
     "input": [
      "np.random.seed(42)"
     ],
     "language": "python",
     "metadata": {},
     "outputs": []
    },
    {
     "cell_type": "code",
     "collapsed": false,
     "input": [
      "np.random.random()"
     ],
     "language": "python",
     "metadata": {},
     "outputs": []
    },
    {
     "cell_type": "code",
     "collapsed": false,
     "input": [
      "np.random.random()"
     ],
     "language": "python",
     "metadata": {},
     "outputs": []
    },
    {
     "cell_type": "code",
     "collapsed": false,
     "input": [
      "np.random.uniform(-5, 11, size=(2,2))"
     ],
     "language": "python",
     "metadata": {},
     "outputs": []
    },
    {
     "cell_type": "code",
     "collapsed": false,
     "input": [
      "np.random.normal(1., 0.5, size=(5,5))"
     ],
     "language": "python",
     "metadata": {},
     "outputs": []
    },
    {
     "cell_type": "markdown",
     "metadata": {},
     "source": [
      "---"
     ]
    },
    {
     "cell_type": "heading",
     "level": 3,
     "metadata": {},
     "source": [
      "Linear algebra"
     ]
    },
    {
     "cell_type": "markdown",
     "metadata": {},
     "source": [
      "Numpy includes a subpackage - `linalg` - for handling linear algebraic operations."
     ]
    },
    {
     "cell_type": "markdown",
     "metadata": {},
     "source": [
      "For example, to find the determinant of a matrix:"
     ]
    },
    {
     "cell_type": "code",
     "collapsed": false,
     "input": [
      "A = np.random.random(size=(10,10))\n",
      "np.linalg.det(A)"
     ],
     "language": "python",
     "metadata": {},
     "outputs": []
    },
    {
     "cell_type": "markdown",
     "metadata": {},
     "source": [
      "The eigenvectors and eigenvalues:"
     ]
    },
    {
     "cell_type": "code",
     "collapsed": false,
     "input": [
      "eig_values, eig_vectors = np.linalg.eig(A)"
     ],
     "language": "python",
     "metadata": {},
     "outputs": []
    },
    {
     "cell_type": "markdown",
     "metadata": {},
     "source": [
      "The covariance matrix:"
     ]
    },
    {
     "cell_type": "code",
     "collapsed": false,
     "input": [
      "A = np.random.random(size=(3,100))\n",
      "np.cov(A)"
     ],
     "language": "python",
     "metadata": {},
     "outputs": []
    },
    {
     "cell_type": "markdown",
     "metadata": {},
     "source": [
      "------------"
     ]
    },
    {
     "cell_type": "heading",
     "level": 3,
     "metadata": {},
     "source": [
      "Dimensionality reduction"
     ]
    },
    {
     "cell_type": "markdown",
     "metadata": {},
     "source": [
      "We often end up with complicated array structures where we may want to sum along one axis, or take the mean or median along an axis. For example, let's say we had a 2D array, __`A`__, where each _row_ is a spectrum of the same star at a different time. So that `A[0]` is an array of fluxes at time=0, `A[1]` is an array of fluxes at time=1, and etc. \n",
      "\n",
      "We'll create an array of random numbers to represent this: let's assume we have 100 timesteps, and 5000 wavelength bins."
     ]
    },
    {
     "cell_type": "code",
     "collapsed": false,
     "input": [
      "A = np.random.random((100,5000))\n",
      "A[0].shape"
     ],
     "language": "python",
     "metadata": {},
     "outputs": []
    },
    {
     "cell_type": "markdown",
     "metadata": {},
     "source": [
      "We can coadd all of the spectra by summing down the 0th axis:"
     ]
    },
    {
     "cell_type": "code",
     "collapsed": false,
     "input": [
      "coadd = A.sum(axis=0)\n",
      "coadd.shape"
     ],
     "language": "python",
     "metadata": {},
     "outputs": []
    },
    {
     "cell_type": "markdown",
     "metadata": {},
     "source": [
      "Most mathematical operations that reduce the dimensionality of an array will by default reduce the array to be 0-dimensional, but they often support the keyword `axis` and can be explicitly told to only squash that one dimension:"
     ]
    },
    {
     "cell_type": "code",
     "collapsed": false,
     "input": [
      "A.sum().shape, A.sum(axis=0).shape"
     ],
     "language": "python",
     "metadata": {},
     "outputs": []
    },
    {
     "cell_type": "code",
     "collapsed": false,
     "input": [
      "np.median(A).shape, np.median(A, axis=0).shape"
     ],
     "language": "python",
     "metadata": {},
     "outputs": []
    },
    {
     "cell_type": "markdown",
     "metadata": {},
     "source": [
      "-----"
     ]
    },
    {
     "cell_type": "heading",
     "level": 3,
     "metadata": {},
     "source": [
      "Broadcasting"
     ]
    },
    {
     "cell_type": "markdown",
     "metadata": {},
     "source": [
      "Array broadcasting is hard to explain. As the numpy docs describe it: _The term broadcasting describes how numpy treats arrays with different shapes during arithmetic operations._ I think it's best learned with some examples!"
     ]
    },
    {
     "cell_type": "code",
     "collapsed": false,
     "input": [
      "a = np.random.uniform(size=(100,3))\n",
      "b = np.arange(1,101)\n",
      "print a.shape, b.shape\n",
      "\n",
      "b = b[:,np.newaxis]\n",
      "c = a/b"
     ],
     "language": "python",
     "metadata": {},
     "outputs": []
    },
    {
     "cell_type": "markdown",
     "metadata": {},
     "source": [
      "Why did that work? I divided a 2D array by a 1D array -- what does that mean? The trick is in that strange `np.newaxis` object. "
     ]
    },
    {
     "cell_type": "code",
     "collapsed": false,
     "input": [
      "b = np.arange(1,101)\n",
      "print b.shape\n",
      "b = b[:,np.newaxis]\n",
      "print b.shape"
     ],
     "language": "python",
     "metadata": {},
     "outputs": []
    },
    {
     "cell_type": "markdown",
     "metadata": {},
     "source": [
      "`np.newaxis` creates a new dimension, or axis, in the array. This promotes the 1D array to a 2D array, but conceptually it has the same structure underneath. In fact, it's similar to just adding an extra set of brackets when defining an array:"
     ]
    },
    {
     "cell_type": "code",
     "collapsed": false,
     "input": [
      "print np.array([1,2,3]).shape\n",
      "print np.array([[1,2,3]]).shape"
     ],
     "language": "python",
     "metadata": {},
     "outputs": []
    },
    {
     "cell_type": "markdown",
     "metadata": {},
     "source": [
      "So how does adding an extra dimension make their shapes compatible? Think of a 1D array -- it makes sense to multiply a 1D array by a scalar. You can think of a scalar as a 0D array, or as a 1D array with just one element. So if we multiply a (100,3) array by a (100,1) array, it multiplies each length 100 'row' in the first one by the second, producing a new (100,3) array."
     ]
    },
    {
     "cell_type": "code",
     "collapsed": false,
     "input": [
      "a = np.random.uniform(size=(100,3))\n",
      "b = np.arange(1,101)\n",
      "print a.shape, b.shape\n",
      "\n",
      "b = b[:,np.newaxis]\n",
      "c = a/b\n",
      "print c.shape"
     ],
     "language": "python",
     "metadata": {},
     "outputs": []
    },
    {
     "cell_type": "code",
     "collapsed": false,
     "input": [],
     "language": "python",
     "metadata": {},
     "outputs": []
    }
   ],
   "metadata": {}
  }
 ]
}