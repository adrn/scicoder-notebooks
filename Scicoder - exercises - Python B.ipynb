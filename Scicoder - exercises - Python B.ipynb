{
 "metadata": {
  "name": "Scicoder - exercises - Python B"
 },
 "nbformat": 3,
 "nbformat_minor": 0,
 "worksheets": [
  {
   "cells": [
    {
     "cell_type": "heading",
     "level": 1,
     "metadata": {},
     "source": [
      "Python B"
     ]
    },
    {
     "cell_type": "markdown",
     "metadata": {},
     "source": [
      "__1)__ Find the log of the sqrt of the list: `range(10, 20)`"
     ]
    },
    {
     "cell_type": "code",
     "collapsed": false,
     "input": [
      "import math\n",
      "[math.log(math.sqrt(x)) for x in range(10,20)]"
     ],
     "language": "python",
     "metadata": {},
     "outputs": []
    },
    {
     "cell_type": "markdown",
     "metadata": {},
     "source": [
      "__2)__ Find all files that start with \"a\" in your Documents folder (don't use glob)"
     ]
    },
    {
     "cell_type": "code",
     "collapsed": false,
     "input": [
      "import os\n",
      "files = os.listdir(\"/Users/adrian/Downloads/\")\n",
      "[f for f in files if f.startswith('a')]"
     ],
     "language": "python",
     "metadata": {},
     "outputs": []
    },
    {
     "cell_type": "markdown",
     "metadata": {},
     "source": [
      "__3)__ Find all .txt files in your Documents folder (don't use glob)"
     ]
    },
    {
     "cell_type": "code",
     "collapsed": false,
     "input": [
      "files = os.listdir(\"/Users/adrian/Downloads/\")\n",
      "[f for f in files if os.path.splitext(f)[1] == '.txt']"
     ],
     "language": "python",
     "metadata": {},
     "outputs": []
    },
    {
     "cell_type": "markdown",
     "metadata": {},
     "source": [
      "__4)__ Are you on a 32-bit or 64-bit computer? Use `sys` and `math` to figure that out!"
     ]
    },
    {
     "cell_type": "code",
     "collapsed": false,
     "input": [
      "import sys, math\n",
      "math.log10(sys.maxint) / math.log10(2)"
     ],
     "language": "python",
     "metadata": {},
     "outputs": []
    },
    {
     "cell_type": "markdown",
     "metadata": {},
     "source": [
      "__5)__ Redo 2) and 3) using the `glob` module. "
     ]
    },
    {
     "cell_type": "code",
     "collapsed": false,
     "input": [
      "import glob\n",
      "glob.glob(\"/Users/adrian/Downloads/a*\")"
     ],
     "language": "python",
     "metadata": {},
     "outputs": []
    },
    {
     "cell_type": "code",
     "collapsed": false,
     "input": [
      "glob.glob(\"/Users/adrian/Downloads/*.txt\")"
     ],
     "language": "python",
     "metadata": {},
     "outputs": []
    },
    {
     "cell_type": "markdown",
     "metadata": {},
     "source": [
      "__6)__ In a separate script _not in the notebook_, write a script that accepts two numbers as command line arguments: `r1` and `r2`. Compute the difference in volume between a sphere with radius `r1` vs `r2`, and use a logger to log this value as an INFO message."
     ]
    },
    {
     "cell_type": "markdown",
     "metadata": {},
     "source": [
      "__7.1)__ Use the `datetime` module to find the current day of the week. "
     ]
    },
    {
     "cell_type": "code",
     "collapsed": false,
     "input": [
      "from datetime import datetime\n",
      "now = datetime.now()\n",
      "now.weekday()"
     ],
     "language": "python",
     "metadata": {},
     "outputs": [
      {
       "metadata": {},
       "output_type": "pyout",
       "prompt_number": 5,
       "text": [
        "5"
       ]
      }
     ],
     "prompt_number": 5
    },
    {
     "cell_type": "markdown",
     "metadata": {},
     "source": [
      "__7.2)__ Write a function that accepts a `datetime` object, and returns the day of the week as a string (e.g., 'Friday')."
     ]
    },
    {
     "cell_type": "code",
     "collapsed": false,
     "input": [
      "def date_to_weekday(dt):\n",
      "    weekday_map = {0:'Monday', 1:'Tuesday', 2:'Wednesday', \n",
      "                   3:'Thursday', 4:'Friday', 5:'Saturday',\n",
      "                   6:'Sunday'}\n",
      "    return weekday_map[dt.weekday()]"
     ],
     "language": "python",
     "metadata": {},
     "outputs": [],
     "prompt_number": 11
    },
    {
     "cell_type": "code",
     "collapsed": false,
     "input": [
      "date_to_weekday(now)"
     ],
     "language": "python",
     "metadata": {},
     "outputs": [
      {
       "metadata": {},
       "output_type": "pyout",
       "prompt_number": 12,
       "text": [
        "'Saturday'"
       ]
      }
     ],
     "prompt_number": 12
    },
    {
     "cell_type": "markdown",
     "metadata": {},
     "source": [
      "__7.3)__ Write a function that accepts a person's birthday, and prints their age, and number of days, hours, and minutes until midnight of their next birthday."
     ]
    },
    {
     "cell_type": "code",
     "collapsed": false,
     "input": [
      "def next_birthday(birthdate):\n",
      "    now = datetime.now()\n",
      "    diff = (now - birthdate)\n",
      "    \n",
      "    age = int(diff.days / 365.25)\n",
      "    print \"Age:\", age\n",
      "    \n",
      "    birthday = datetime(now.year, birthdate.month, birthdate.day)\n",
      "    time_until = birthday - now\n",
      "    hours = int(time_until.seconds / 60. / 60.)\n",
      "    minutes = (time_until.seconds / 60. / 60. - hours) * 60.\n",
      "    \n",
      "    print \"{0} days, {1} hours, {2} minutes until the next birthday\"\\\n",
      "          .format(time_until.days, hours, minutes)"
     ],
     "language": "python",
     "metadata": {},
     "outputs": [],
     "prompt_number": 63
    },
    {
     "cell_type": "code",
     "collapsed": false,
     "input": [
      "next_birthday(datetime(1988, 12, 18))"
     ],
     "language": "python",
     "metadata": {},
     "outputs": [
      {
       "output_type": "stream",
       "stream": "stdout",
       "text": [
        "Age: 24\n",
        "171 days, 13 hours, 7.4 minutes until the next birthday\n"
       ]
      }
     ],
     "prompt_number": 62
    },
    {
     "cell_type": "markdown",
     "metadata": {},
     "source": [
      "__8)__ Write a function that accepts, as a variable-length list of arguments, a list of someone's favorite restaurants, then returns a random restaurant from the list."
     ]
    },
    {
     "cell_type": "code",
     "collapsed": false,
     "input": [
      "import random\n",
      "def random_restaurant(*args):\n",
      "    return random.choice(args)"
     ],
     "language": "python",
     "metadata": {},
     "outputs": [],
     "prompt_number": 64
    },
    {
     "cell_type": "code",
     "collapsed": false,
     "input": [
      "random_restaurant('pisticci', 'thai on two', 'cafe habana', 'thai market', 'baoguette')"
     ],
     "language": "python",
     "metadata": {},
     "outputs": [
      {
       "metadata": {},
       "output_type": "pyout",
       "prompt_number": 67,
       "text": [
        "'thai market'"
       ]
      }
     ],
     "prompt_number": 67
    },
    {
     "cell_type": "markdown",
     "metadata": {},
     "source": [
      "__9)__ Use `urllib2` to ??"
     ]
    },
    {
     "cell_type": "code",
     "collapsed": false,
     "input": [],
     "language": "python",
     "metadata": {},
     "outputs": []
    },
    {
     "cell_type": "markdown",
     "metadata": {},
     "source": [
      "__10.1)__ Write a function that gets the 5th item in an iterable object (e.g., a list or array)"
     ]
    },
    {
     "cell_type": "code",
     "collapsed": false,
     "input": [
      "def fifth_item(iterable):\n",
      "    return iterable[4]"
     ],
     "language": "python",
     "metadata": {},
     "outputs": [],
     "prompt_number": 72
    },
    {
     "cell_type": "code",
     "collapsed": false,
     "input": [
      "fifth_item(range(10))"
     ],
     "language": "python",
     "metadata": {},
     "outputs": [
      {
       "metadata": {},
       "output_type": "pyout",
       "prompt_number": 73,
       "text": [
        "4"
       ]
      }
     ],
     "prompt_number": 73
    },
    {
     "cell_type": "markdown",
     "metadata": {},
     "source": [
      "__10.2)__ Now pass in an integer to the function - what happens? What if you pass in the list `[0,1,2]`?"
     ]
    },
    {
     "cell_type": "code",
     "collapsed": false,
     "input": [
      "fifth_item(5)"
     ],
     "language": "python",
     "metadata": {},
     "outputs": [
      {
       "ename": "TypeError",
       "evalue": "'int' object is not subscriptable",
       "output_type": "pyerr",
       "traceback": [
        "\u001b[0;31m---------------------------------------------------------------------------\u001b[0m\n\u001b[0;31mTypeError\u001b[0m                                 Traceback (most recent call last)",
        "\u001b[0;32m<ipython-input-74-05fcad139dd3>\u001b[0m in \u001b[0;36m<module>\u001b[0;34m()\u001b[0m\n\u001b[0;32m----> 1\u001b[0;31m \u001b[0mfifth_item\u001b[0m\u001b[0;34m(\u001b[0m\u001b[0;36m5\u001b[0m\u001b[0;34m)\u001b[0m\u001b[0;34m\u001b[0m\u001b[0m\n\u001b[0m",
        "\u001b[0;32m<ipython-input-72-998b91d003f0>\u001b[0m in \u001b[0;36mfifth_item\u001b[0;34m(iterable)\u001b[0m\n\u001b[1;32m      1\u001b[0m \u001b[0;32mdef\u001b[0m \u001b[0mfifth_item\u001b[0m\u001b[0;34m(\u001b[0m\u001b[0miterable\u001b[0m\u001b[0;34m)\u001b[0m\u001b[0;34m:\u001b[0m\u001b[0;34m\u001b[0m\u001b[0m\n\u001b[0;32m----> 2\u001b[0;31m     \u001b[0;32mreturn\u001b[0m \u001b[0miterable\u001b[0m\u001b[0;34m[\u001b[0m\u001b[0;36m4\u001b[0m\u001b[0;34m]\u001b[0m\u001b[0;34m\u001b[0m\u001b[0m\n\u001b[0m",
        "\u001b[0;31mTypeError\u001b[0m: 'int' object is not subscriptable"
       ]
      },
      {
       "output_type": "stream",
       "stream": "stdout",
       "text": [
        "ERROR: TypeError: 'int' object is not subscriptable [IPython.core.interactiveshell]\n"
       ]
      }
     ],
     "prompt_number": 74
    },
    {
     "cell_type": "code",
     "collapsed": false,
     "input": [
      "fifth_item([0,1,2])"
     ],
     "language": "python",
     "metadata": {},
     "outputs": [
      {
       "ename": "IndexError",
       "evalue": "list index out of range",
       "output_type": "pyerr",
       "traceback": [
        "\u001b[0;31m---------------------------------------------------------------------------\u001b[0m\n\u001b[0;31mIndexError\u001b[0m                                Traceback (most recent call last)",
        "\u001b[0;32m<ipython-input-75-cd75c19a4448>\u001b[0m in \u001b[0;36m<module>\u001b[0;34m()\u001b[0m\n\u001b[0;32m----> 1\u001b[0;31m \u001b[0mfifth_item\u001b[0m\u001b[0;34m(\u001b[0m\u001b[0;34m[\u001b[0m\u001b[0;36m0\u001b[0m\u001b[0;34m,\u001b[0m\u001b[0;36m1\u001b[0m\u001b[0;34m,\u001b[0m\u001b[0;36m2\u001b[0m\u001b[0;34m]\u001b[0m\u001b[0;34m)\u001b[0m\u001b[0;34m\u001b[0m\u001b[0m\n\u001b[0m",
        "\u001b[0;32m<ipython-input-72-998b91d003f0>\u001b[0m in \u001b[0;36mfifth_item\u001b[0;34m(iterable)\u001b[0m\n\u001b[1;32m      1\u001b[0m \u001b[0;32mdef\u001b[0m \u001b[0mfifth_item\u001b[0m\u001b[0;34m(\u001b[0m\u001b[0miterable\u001b[0m\u001b[0;34m)\u001b[0m\u001b[0;34m:\u001b[0m\u001b[0;34m\u001b[0m\u001b[0m\n\u001b[0;32m----> 2\u001b[0;31m     \u001b[0;32mreturn\u001b[0m \u001b[0miterable\u001b[0m\u001b[0;34m[\u001b[0m\u001b[0;36m4\u001b[0m\u001b[0;34m]\u001b[0m\u001b[0;34m\u001b[0m\u001b[0m\n\u001b[0m",
        "\u001b[0;31mIndexError\u001b[0m: list index out of range"
       ]
      },
      {
       "output_type": "stream",
       "stream": "stdout",
       "text": [
        "ERROR: IndexError: list index out of range [IPython.core.interactiveshell]\n"
       ]
      }
     ],
     "prompt_number": 75
    },
    {
     "cell_type": "markdown",
     "metadata": {},
     "source": [
      "__10.3)__ Modify your function to catch what you think could be some common exceptions, and re-raise the same exception with a nicer error message."
     ]
    },
    {
     "cell_type": "code",
     "collapsed": false,
     "input": [
      "def fifth_item(iterable):\n",
      "    try:\n",
      "        return iterable[4]\n",
      "    except TypeError:\n",
      "        raise TypeError(\"The object you passed in ({0}) does not seem to \"\n",
      "                        \"support indexing. Are you sure it's an iterable \"\n",
      "                        \"object?\".format(iterable))\n",
      "    except IndexError:\n",
      "        raise IndexError(\"The '{0}' you passed in only has {1} items in it.\"\\\n",
      "                         .format(iterable.__class__, len(iterable)))\n",
      "        "
     ],
     "language": "python",
     "metadata": {},
     "outputs": [],
     "prompt_number": 84
    },
    {
     "cell_type": "code",
     "collapsed": false,
     "input": [
      "fifth_item(5)"
     ],
     "language": "python",
     "metadata": {},
     "outputs": [
      {
       "ename": "TypeError",
       "evalue": "The object you passed in (5) does not seem to support indexing. Are you sure it's an iterable object?",
       "output_type": "pyerr",
       "traceback": [
        "\u001b[0;31m---------------------------------------------------------------------------\u001b[0m\n\u001b[0;31mTypeError\u001b[0m                                 Traceback (most recent call last)",
        "\u001b[0;32m<ipython-input-82-05fcad139dd3>\u001b[0m in \u001b[0;36m<module>\u001b[0;34m()\u001b[0m\n\u001b[0;32m----> 1\u001b[0;31m \u001b[0mfifth_item\u001b[0m\u001b[0;34m(\u001b[0m\u001b[0;36m5\u001b[0m\u001b[0;34m)\u001b[0m\u001b[0;34m\u001b[0m\u001b[0m\n\u001b[0m",
        "\u001b[0;32m<ipython-input-81-8b841bf7cebf>\u001b[0m in \u001b[0;36mfifth_item\u001b[0;34m(iterable)\u001b[0m\n\u001b[1;32m      5\u001b[0m         raise TypeError(\"The object you passed in ({0}) does not seem to \"\n\u001b[1;32m      6\u001b[0m                         \u001b[0;34m\"support indexing. Are you sure it's an iterable \"\u001b[0m\u001b[0;34m\u001b[0m\u001b[0m\n\u001b[0;32m----> 7\u001b[0;31m                         \"object?\".format(iterable))\n\u001b[0m\u001b[1;32m      8\u001b[0m     \u001b[0;32mexcept\u001b[0m \u001b[0mIndexError\u001b[0m\u001b[0;34m:\u001b[0m\u001b[0;34m\u001b[0m\u001b[0m\n\u001b[1;32m      9\u001b[0m         \u001b[0;32mraise\u001b[0m \u001b[0mIndexError\u001b[0m\u001b[0;34m(\u001b[0m\u001b[0;34m\"The '{0}' you passed in only has {1} items in it.\"\u001b[0m                         \u001b[0;34m.\u001b[0m\u001b[0mformat\u001b[0m\u001b[0;34m(\u001b[0m\u001b[0miterable\u001b[0m\u001b[0;34m.\u001b[0m\u001b[0m__class__\u001b[0m\u001b[0;34m,\u001b[0m \u001b[0mlen\u001b[0m\u001b[0;34m(\u001b[0m\u001b[0miterable\u001b[0m\u001b[0;34m)\u001b[0m\u001b[0;34m)\u001b[0m\u001b[0;34m)\u001b[0m\u001b[0;34m\u001b[0m\u001b[0m\n",
        "\u001b[0;31mTypeError\u001b[0m: The object you passed in (5) does not seem to support indexing. Are you sure it's an iterable object?"
       ]
      },
      {
       "output_type": "stream",
       "stream": "stdout",
       "text": [
        "ERROR: TypeError: The object you passed in (5) does not seem to support indexing. Are you sure it's an iterable object? [IPython.core.interactiveshell]\n"
       ]
      }
     ],
     "prompt_number": 82
    },
    {
     "cell_type": "code",
     "collapsed": false,
     "input": [
      "fifth_item([0,1,2])"
     ],
     "language": "python",
     "metadata": {},
     "outputs": [
      {
       "ename": "IndexError",
       "evalue": "The '<type 'list'>' you passed in only has 3 items in it.",
       "output_type": "pyerr",
       "traceback": [
        "\u001b[0;31m---------------------------------------------------------------------------\u001b[0m\n\u001b[0;31mIndexError\u001b[0m                                Traceback (most recent call last)",
        "\u001b[0;32m<ipython-input-85-cd75c19a4448>\u001b[0m in \u001b[0;36m<module>\u001b[0;34m()\u001b[0m\n\u001b[0;32m----> 1\u001b[0;31m \u001b[0mfifth_item\u001b[0m\u001b[0;34m(\u001b[0m\u001b[0;34m[\u001b[0m\u001b[0;36m0\u001b[0m\u001b[0;34m,\u001b[0m\u001b[0;36m1\u001b[0m\u001b[0;34m,\u001b[0m\u001b[0;36m2\u001b[0m\u001b[0;34m]\u001b[0m\u001b[0;34m)\u001b[0m\u001b[0;34m\u001b[0m\u001b[0m\n\u001b[0m",
        "\u001b[0;32m<ipython-input-84-8b841bf7cebf>\u001b[0m in \u001b[0;36mfifth_item\u001b[0;34m(iterable)\u001b[0m\n\u001b[1;32m      7\u001b[0m                         \"object?\".format(iterable))\n\u001b[1;32m      8\u001b[0m     \u001b[0;32mexcept\u001b[0m \u001b[0mIndexError\u001b[0m\u001b[0;34m:\u001b[0m\u001b[0;34m\u001b[0m\u001b[0m\n\u001b[0;32m----> 9\u001b[0;31m         \u001b[0;32mraise\u001b[0m \u001b[0mIndexError\u001b[0m\u001b[0;34m(\u001b[0m\u001b[0;34m\"The '{0}' you passed in only has {1} items in it.\"\u001b[0m                         \u001b[0;34m.\u001b[0m\u001b[0mformat\u001b[0m\u001b[0;34m(\u001b[0m\u001b[0miterable\u001b[0m\u001b[0;34m.\u001b[0m\u001b[0m__class__\u001b[0m\u001b[0;34m,\u001b[0m \u001b[0mlen\u001b[0m\u001b[0;34m(\u001b[0m\u001b[0miterable\u001b[0m\u001b[0;34m)\u001b[0m\u001b[0;34m)\u001b[0m\u001b[0;34m)\u001b[0m\u001b[0;34m\u001b[0m\u001b[0m\n\u001b[0m\u001b[1;32m     10\u001b[0m \u001b[0;34m\u001b[0m\u001b[0m\n",
        "\u001b[0;31mIndexError\u001b[0m: The '<type 'list'>' you passed in only has 3 items in it."
       ]
      },
      {
       "output_type": "stream",
       "stream": "stdout",
       "text": [
        "ERROR: IndexError: The '<type 'list'>' you passed in only has 3 items in it. [IPython.core.interactiveshell]\n"
       ]
      }
     ],
     "prompt_number": 85
    },
    {
     "cell_type": "code",
     "collapsed": false,
     "input": [],
     "language": "python",
     "metadata": {},
     "outputs": []
    }
   ],
   "metadata": {}
  }
 ]
}