{
 "metadata": {
  "name": "exercises - scipy_no-answers"
 },
 "nbformat": 3,
 "nbformat_minor": 0,
 "worksheets": [
  {
   "cells": [
    {
     "cell_type": "markdown",
     "metadata": {},
     "source": [
      "__1.1)__ Define a function to evaluate $f(x) = e^{ax} + b$"
     ]
    },
    {
     "cell_type": "code",
     "collapsed": false,
     "input": [],
     "language": "python",
     "metadata": {},
     "outputs": []
    },
    {
     "cell_type": "markdown",
     "metadata": {},
     "source": [
      "__1.2)__ Generate noisy data with the model, setting $a=2.$ and $b=4.$ Use the `plot(x,y)` function to make a simple plot of the data.\n",
      "\n",
      "_hint: use np.random.normal(0., sigma)_"
     ]
    },
    {
     "cell_type": "code",
     "collapsed": false,
     "input": [],
     "language": "python",
     "metadata": {},
     "outputs": []
    },
    {
     "cell_type": "markdown",
     "metadata": {},
     "source": [
      "__1.3)__ Use `scipy.optimize.leastsq` to fit the model to the noisy data and estimate a and b from the noisy data."
     ]
    },
    {
     "cell_type": "markdown",
     "metadata": {},
     "source": [
      "__2.1)__ Define the function $f(x) = e^{-2x+5} + 3x$"
     ]
    },
    {
     "cell_type": "code",
     "collapsed": false,
     "input": [],
     "language": "python",
     "metadata": {},
     "outputs": []
    },
    {
     "cell_type": "markdown",
     "metadata": {},
     "source": [
      "__2.2)__ Calculate the integral $\\int_2^{10} f(x) dx$ by hand"
     ]
    },
    {
     "cell_type": "markdown",
     "metadata": {},
     "source": [
      "__2.3)__ Use `scipy.integrate.quad` to evaluate the integral."
     ]
    },
    {
     "cell_type": "code",
     "collapsed": false,
     "input": [],
     "language": "python",
     "metadata": {},
     "outputs": []
    },
    {
     "cell_type": "markdown",
     "metadata": {},
     "source": [
      "__3.1)__ You're given two spectra of the same star, from the same spectrograph, but different nights. Between the nights, the diffraction grating shifted slightly so that the wavelength grids of the two spectra don't match. \n",
      "\n",
      "Assume these are your spectra:\n",
      "\n",
      "    wavelength1 = np.array([3000., 3050., 3100., 3150., 3200., 3250., 3300., 3350., 3400., 3450.])\n",
      "    flux1 = np.array([0.000, -0.001, -0.065, -1.048, -4.203, -4.203, -1.048, -0.065, -0.001, 0.000])\n",
      "    \n",
      "    wavelength2 = np.array([3050., 3102.5, 3155., 3207.5, 3260., 3312.5, 3365., 3417.5, 3470., 3522.5])\n",
      "    flux2 = np.array([-0.001, -0.077, -1.282, -4.592, -3.558, -0.596, -0.022, -0.000, -0.000, -0.000])\n",
      "   \n",
      "First, plot the two spectra on the same plot using the same `plot(x,y)` function (we'll return to matplotlib soon, don't worry about making it look nice...)"
     ]
    },
    {
     "cell_type": "code",
     "collapsed": false,
     "input": [],
     "language": "python",
     "metadata": {},
     "outputs": []
    },
    {
     "cell_type": "code",
     "collapsed": false,
     "input": [],
     "language": "python",
     "metadata": {},
     "outputs": []
    },
    {
     "cell_type": "markdown",
     "metadata": {},
     "source": [
      "__3.2)__ Use `scipy.interpolate.interp1d` to interpolate one spectrum on to the wavelength grid of the other."
     ]
    },
    {
     "cell_type": "code",
     "collapsed": false,
     "input": [],
     "language": "python",
     "metadata": {},
     "outputs": []
    },
    {
     "cell_type": "code",
     "collapsed": false,
     "input": [],
     "language": "python",
     "metadata": {},
     "outputs": []
    },
    {
     "cell_type": "code",
     "collapsed": false,
     "input": [],
     "language": "python",
     "metadata": {},
     "outputs": []
    }
   ],
   "metadata": {}
  }
 ]
}