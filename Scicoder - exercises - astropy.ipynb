{
 "metadata": {
  "name": "Scicoder - exercises - astropy"
 },
 "nbformat": 3,
 "nbformat_minor": 0,
 "worksheets": [
  {
   "cells": [
    {
     "cell_type": "markdown",
     "metadata": {},
     "source": [
      "__1)__ Write a function to evaluate your favorite equation with units! Make sure the inputs are `Quantity`-like objects and throw an exception if not.\n",
      "\n",
      "_hint: use the `hasattr()` function to check if the input objects have a `.unit` property_"
     ]
    },
    {
     "cell_type": "code",
     "collapsed": false,
     "input": [
      "from astropy.constants import c\n",
      "import astropy.units as u\n",
      "\n",
      "def energy(mass):\n",
      "    if not hasattr(mass, 'unit'):\n",
      "        raise TypeError('Input mass must be Quantity-like')\n",
      "    return (mass*c**2).to(u.Joule)"
     ],
     "language": "python",
     "metadata": {},
     "outputs": [],
     "prompt_number": 1
    },
    {
     "cell_type": "code",
     "collapsed": false,
     "input": [
      "energy(1*u.kg)"
     ],
     "language": "python",
     "metadata": {},
     "outputs": [
      {
       "latex": [
        "$8.98755\\times 10^{+16} \\; \\mathrm{J}$"
       ],
       "metadata": {},
       "output_type": "pyout",
       "prompt_number": 5,
       "text": [
        "<Quantity 8.98755178737e+16 J>"
       ]
      }
     ],
     "prompt_number": 5
    },
    {
     "cell_type": "markdown",
     "metadata": {},
     "source": [
      "__2)__ Write the same function without using `astropy.units`, assuming something about the units of the input values. How much slower is using the function with units on the same input?"
     ]
    },
    {
     "cell_type": "code",
     "collapsed": false,
     "input": [
      "_c = c.value\n",
      "def energy_nounits(mass):\n",
      "    return mass*_c**2"
     ],
     "language": "python",
     "metadata": {},
     "outputs": [],
     "prompt_number": 6
    },
    {
     "cell_type": "code",
     "collapsed": false,
     "input": [
      "mass = np.arange(1, 100)*u.kg\n",
      "%timeit energy(mass)\n",
      "%timeit energy_nounits(mass.value)"
     ],
     "language": "python",
     "metadata": {},
     "outputs": [
      {
       "output_type": "stream",
       "stream": "stdout",
       "text": [
        "1000 loops, best of 3: 303 \u00b5s per loop\n",
        "100000 loops, best of 3: 5.05 \u00b5s per loop"
       ]
      },
      {
       "output_type": "stream",
       "stream": "stdout",
       "text": [
        "\n"
       ]
      }
     ],
     "prompt_number": 7
    },
    {
     "cell_type": "markdown",
     "metadata": {},
     "source": [
      "__3.1)__ Read in the same data table from the example notebook (../data/borkova2002.tsv)"
     ]
    },
    {
     "cell_type": "code",
     "collapsed": false,
     "input": [
      "from astropy.io import ascii\n",
      "data = ascii.read(\"../data/borkova2002.tsv\", data_start=3)"
     ],
     "language": "python",
     "metadata": {},
     "outputs": [],
     "prompt_number": 9
    },
    {
     "cell_type": "markdown",
     "metadata": {},
     "source": [
      "__3.2)__ Rename the column 'Ra' (the apogalactic radius, very misleading name) to something like 'apocenter'."
     ]
    },
    {
     "cell_type": "code",
     "collapsed": false,
     "input": [
      "data.rename_column('Ra', 'apocenter')"
     ],
     "language": "python",
     "metadata": {},
     "outputs": [],
     "prompt_number": 10
    },
    {
     "cell_type": "markdown",
     "metadata": {},
     "source": [
      "__3.3)__ Add a new column named `pericenter`, and compute the values using the eccentricity column (`e`) and renamed apocenter column."
     ]
    },
    {
     "cell_type": "code",
     "collapsed": false,
     "input": [
      "pericenter = (1-data['e']) / (1+data['e']) * data['apocenter']"
     ],
     "language": "python",
     "metadata": {},
     "outputs": [],
     "prompt_number": 11
    },
    {
     "cell_type": "code",
     "collapsed": false,
     "input": [
      "from astropy.table import Column\n",
      "data.add_column(Column(name='pericenter',\n",
      "                       data=pericenter))"
     ],
     "language": "python",
     "metadata": {},
     "outputs": [],
     "prompt_number": 13
    },
    {
     "cell_type": "markdown",
     "metadata": {},
     "source": [
      "__3.4)__ Write out a Latex table with just the coordinates RA, Dec, apocenter, and pericenter for all of the stars."
     ]
    },
    {
     "cell_type": "code",
     "collapsed": false,
     "input": [
      "subset = data['_RA', '_DE', 'apocenter', 'pericenter']\n",
      "ascii.write(subset, output='/tmp/test.tex', Writer=ascii.Latex)"
     ],
     "language": "python",
     "metadata": {},
     "outputs": [],
     "prompt_number": 17
    },
    {
     "cell_type": "markdown",
     "metadata": {},
     "source": [
      "__4)__ Go to the [arXiv](http://arxiv.org/list/astro-ph/new) and find a paper with a data table with equatorial coordinates. Read / parse in the table, then construct a list of the same coordinates in the Galactic system."
     ]
    },
    {
     "cell_type": "code",
     "collapsed": false,
     "input": [],
     "language": "python",
     "metadata": {},
     "outputs": []
    }
   ],
   "metadata": {}
  }
 ]
}