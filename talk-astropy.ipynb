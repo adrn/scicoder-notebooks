{
 "metadata": {
  "name": "Scicoder - astropy"
 },
 "nbformat": 3,
 "nbformat_minor": 0,
 "worksheets": [
  {
   "cells": [
    {
     "cell_type": "markdown",
     "metadata": {},
     "source": [
      "![](http://docs.astropy.org/en/latest/_images/astropy_banner_96.png)"
     ]
    },
    {
     "cell_type": "markdown",
     "metadata": {},
     "source": [
      "---"
     ]
    },
    {
     "cell_type": "markdown",
     "metadata": {},
     "source": [
      "Overview\n",
      "--------\n",
      "\n",
      "* Incorporating units into code (not just comments or variable names!)\n",
      "* Accessing physical constants, with units\n",
      "* Reading ASCII tables\n",
      "* Reading FITS files\n",
      "* Converting astronomical times\n",
      "* Working with astronomical coordinates"
     ]
    },
    {
     "cell_type": "markdown",
     "metadata": {},
     "source": [
      "---"
     ]
    },
    {
     "cell_type": "heading",
     "level": 3,
     "metadata": {},
     "source": [
      "Units"
     ]
    },
    {
     "cell_type": "markdown",
     "metadata": {},
     "source": [
      "As astronomers, physicists, and scientists, most of the numerical quantities we use in our code have physical units associated with them. With `astropy.units`, we can now attach those units directly to numerical or arrays of numerical objects in Python."
     ]
    },
    {
     "cell_type": "code",
     "collapsed": false,
     "input": [
      "import astropy.units as u\n",
      "15*u.km"
     ],
     "language": "python",
     "metadata": {},
     "outputs": []
    },
    {
     "cell_type": "markdown",
     "metadata": {},
     "source": [
      "Numbers with an associated unit are `Quantity` objects, and are created by multiplying a number or collection of numbers by a unit object."
     ]
    },
    {
     "cell_type": "code",
     "collapsed": false,
     "input": [
      "[15., 11, 23]*u.km/u.s"
     ],
     "language": "python",
     "metadata": {},
     "outputs": []
    },
    {
     "cell_type": "markdown",
     "metadata": {},
     "source": [
      "These objects support arbitrary complex unit combinations, and support both common, unambigious abbreviations, and SI prefixes:"
     ]
    },
    {
     "cell_type": "code",
     "collapsed": false,
     "input": [
      "10.*u.km/u.kpc/u.s**2/u.Jansky*u.kiloJoule"
     ],
     "language": "python",
     "metadata": {},
     "outputs": []
    },
    {
     "cell_type": "markdown",
     "metadata": {},
     "source": [
      "And supports unit conversion in a few ways. One use case, is to go from one set of units to an equivalent set of units. An example would be __km/s__ to __mi/hr__ -- the request units are _equivalent_ to the current units:"
     ]
    },
    {
     "cell_type": "code",
     "collapsed": false,
     "input": [
      "(17.*u.km/u.s).to(u.mi/u.hr)"
     ],
     "language": "python",
     "metadata": {},
     "outputs": []
    },
    {
     "cell_type": "markdown",
     "metadata": {},
     "source": [
      "Another way to convert units is to __decompose__ a `Quantity` into a set of base units. An example would be to decompose ${\\rm km/s}$ to the appropriate combination of ${\\rm kpc, Myr}$:"
     ]
    },
    {
     "cell_type": "code",
     "collapsed": false,
     "input": [
      "q = 151.522*u.km/u.s\n",
      "q.decompose([u.kpc, u.Myr])"
     ],
     "language": "python",
     "metadata": {},
     "outputs": []
    },
    {
     "cell_type": "markdown",
     "metadata": {},
     "source": [
      "Finally, for basic unit types, you can easily get the value of the quantity in another unit system using dot notation:"
     ]
    },
    {
     "cell_type": "code",
     "collapsed": false,
     "input": [
      "q = 11*u.km\n",
      "q.inch, q.femtoparsec"
     ],
     "language": "python",
     "metadata": {},
     "outputs": []
    },
    {
     "cell_type": "markdown",
     "metadata": {},
     "source": [
      "----"
     ]
    },
    {
     "cell_type": "heading",
     "level": 3,
     "metadata": {},
     "source": [
      "Constants"
     ]
    },
    {
     "cell_type": "markdown",
     "metadata": {},
     "source": [
      "Physical constants are integrated with units "
     ]
    },
    {
     "cell_type": "code",
     "collapsed": false,
     "input": [
      "from astropy.constants import G, M_sun, c\n",
      "(G * M_sun / c**2).to(u.R_sun)"
     ],
     "language": "python",
     "metadata": {},
     "outputs": []
    },
    {
     "cell_type": "code",
     "collapsed": false,
     "input": [
      "# masses of supermassive black holes from 10^5 to 10^9 solar masses\n",
      "m = np.logspace(5, 9, 10)*u.M_sun\n",
      "schwarzschild_r = (G * m / c**2)\n",
      "schwarzschild_r.au"
     ],
     "language": "python",
     "metadata": {},
     "outputs": []
    },
    {
     "cell_type": "markdown",
     "metadata": {},
     "source": [
      "---"
     ]
    },
    {
     "cell_type": "heading",
     "level": 3,
     "metadata": {},
     "source": [
      "ASCII tables"
     ]
    },
    {
     "cell_type": "markdown",
     "metadata": {},
     "source": [
      "Data from ___Galactic orbits of RR Lyrae variable stars (Borkova+, 2002)___\n",
      "\n",
      "File should be in __scicoder/Data/borkova2002.tsv__"
     ]
    },
    {
     "cell_type": "code",
     "collapsed": false,
     "input": [
      "from astropy.io import ascii\n",
      "data = ascii.read(\"../data/borkova2002.tsv\")\n",
      "data"
     ],
     "language": "python",
     "metadata": {},
     "outputs": []
    },
    {
     "cell_type": "markdown",
     "metadata": {},
     "source": [
      "Notice under the header names, there are two rows of non-data: units, and ---. We can ignore these by specifying the `data_start` keyword:"
     ]
    },
    {
     "cell_type": "code",
     "collapsed": false,
     "input": [
      "data = ascii.read(\"../data/borkova2002.tsv\", data_start=3)\n",
      "data"
     ],
     "language": "python",
     "metadata": {},
     "outputs": []
    },
    {
     "cell_type": "code",
     "collapsed": false,
     "input": [
      "ra,dec = data['_RA']*u.degree, data['_DE']*u.degree"
     ],
     "language": "python",
     "metadata": {},
     "outputs": []
    },
    {
     "cell_type": "code",
     "collapsed": false,
     "input": [
      "figsize(12,6)\n",
      "scatter(ra.radian, dec.radian, c=data['[Fe/H]'], \n",
      "        edgecolor='none', cmap=cm.Spectral_r, s=100, alpha=0.75)\n",
      "colorbar()"
     ],
     "language": "python",
     "metadata": {},
     "outputs": []
    },
    {
     "cell_type": "markdown",
     "metadata": {},
     "source": [
      "Here's a killer feature: writing to a Latex table! Let's say we select out some data from this table that we then want to put into our own Latex document. We can use the `ascii.Latex` writer to do that!"
     ]
    },
    {
     "cell_type": "markdown",
     "metadata": {},
     "source": [
      "We'll start by selecting a subset of the columns"
     ]
    },
    {
     "cell_type": "code",
     "collapsed": false,
     "input": [
      "subset = data['_RA', '_DE', '[Fe/H]', 'Vres']"
     ],
     "language": "python",
     "metadata": {},
     "outputs": []
    },
    {
     "cell_type": "markdown",
     "metadata": {},
     "source": [
      "Now let's select a subset of the data, say only stars between 100 < RA < 200, and Dec > 15:"
     ]
    },
    {
     "cell_type": "code",
     "collapsed": false,
     "input": [
      "subset = subset[(subset['_RA'] > 100) & (subset['_RA'] < 200) & (subset['_DE'] > 15)]\n",
      "len(subset)"
     ],
     "language": "python",
     "metadata": {},
     "outputs": []
    },
    {
     "cell_type": "markdown",
     "metadata": {},
     "source": [
      "Let's rename some columns to make a bit more sense:"
     ]
    },
    {
     "cell_type": "code",
     "collapsed": false,
     "input": [
      "subset.rename_column('_RA', 'RA [deg]')\n",
      "subset.rename_column('_DE', 'Dec [deg]')"
     ],
     "language": "python",
     "metadata": {},
     "outputs": []
    },
    {
     "cell_type": "markdown",
     "metadata": {},
     "source": [
      "Now we can write out to a Latex table, and copy-paste into a document!"
     ]
    },
    {
     "cell_type": "code",
     "collapsed": false,
     "input": [
      "ascii.write(subset, Writer=ascii.Latex)"
     ],
     "language": "python",
     "metadata": {},
     "outputs": []
    },
    {
     "cell_type": "markdown",
     "metadata": {},
     "source": [
      "----"
     ]
    },
    {
     "cell_type": "heading",
     "level": 3,
     "metadata": {},
     "source": [
      "FITS"
     ]
    },
    {
     "cell_type": "markdown",
     "metadata": {},
     "source": [
      "Reading FITS data into Python is easy with the `astropy.io.fits` subpackage."
     ]
    },
    {
     "cell_type": "code",
     "collapsed": false,
     "input": [
      "from astropy.io import fits"
     ],
     "language": "python",
     "metadata": {},
     "outputs": []
    },
    {
     "cell_type": "code",
     "collapsed": false,
     "input": [
      "hdulist = fits.open(\"../Data/M51.fits\")\n",
      "hdulist.info()"
     ],
     "language": "python",
     "metadata": {},
     "outputs": []
    },
    {
     "cell_type": "code",
     "collapsed": false,
     "input": [
      "img_data = hdulist[0].data\n",
      "img_header = hdulist[0].header"
     ],
     "language": "python",
     "metadata": {},
     "outputs": []
    },
    {
     "cell_type": "code",
     "collapsed": false,
     "input": [
      "imshow(img_data, cmap=cm.Greys_r)\n",
      "title(img_header['OBJECT'])"
     ],
     "language": "python",
     "metadata": {},
     "outputs": []
    },
    {
     "cell_type": "markdown",
     "metadata": {},
     "source": [
      "---"
     ]
    },
    {
     "cell_type": "heading",
     "level": 3,
     "metadata": {},
     "source": [
      "Time"
     ]
    },
    {
     "cell_type": "markdown",
     "metadata": {},
     "source": [
      "For handling astronomical times -- built around SOFA, for handling _very precise_ times."
     ]
    },
    {
     "cell_type": "code",
     "collapsed": false,
     "input": [
      "from astropy.time import Time"
     ],
     "language": "python",
     "metadata": {},
     "outputs": []
    },
    {
     "cell_type": "code",
     "collapsed": false,
     "input": [
      "img_header['DATE']"
     ],
     "language": "python",
     "metadata": {},
     "outputs": []
    },
    {
     "cell_type": "code",
     "collapsed": false,
     "input": [
      "time = Time(img_header['DATE'], format='isot', scale='utc')"
     ],
     "language": "python",
     "metadata": {},
     "outputs": []
    },
    {
     "cell_type": "code",
     "collapsed": false,
     "input": [
      "time.jd, time.mjd"
     ],
     "language": "python",
     "metadata": {},
     "outputs": []
    },
    {
     "cell_type": "markdown",
     "metadata": {},
     "source": [
      "----"
     ]
    },
    {
     "cell_type": "heading",
     "level": 3,
     "metadata": {},
     "source": [
      "Coordinates"
     ]
    },
    {
     "cell_type": "code",
     "collapsed": false,
     "input": [
      "import astropy.coordinates as coord"
     ],
     "language": "python",
     "metadata": {},
     "outputs": []
    },
    {
     "cell_type": "code",
     "collapsed": false,
     "input": [
      "eq = coord.ICRSCoordinates(15.1231, -0.141241, unit=(u.degree, u.degree))\n",
      "eq"
     ],
     "language": "python",
     "metadata": {},
     "outputs": []
    },
    {
     "cell_type": "markdown",
     "metadata": {},
     "source": [
      "Can transform to other coordinate systems:"
     ]
    },
    {
     "cell_type": "code",
     "collapsed": false,
     "input": [
      "eq.transform_to(coord.GalacticCoordinates)"
     ],
     "language": "python",
     "metadata": {},
     "outputs": []
    },
    {
     "cell_type": "markdown",
     "metadata": {},
     "source": [
      "Or use the shorthand (for built-in coordinate systems)"
     ]
    },
    {
     "cell_type": "code",
     "collapsed": false,
     "input": [
      "eq.galactic"
     ],
     "language": "python",
     "metadata": {},
     "outputs": []
    },
    {
     "cell_type": "markdown",
     "metadata": {},
     "source": [
      "Formatting coordinates:"
     ]
    },
    {
     "cell_type": "code",
     "collapsed": false,
     "input": [
      "gal = eq.galactic\n",
      "print gal.l, gal.b"
     ],
     "language": "python",
     "metadata": {},
     "outputs": []
    },
    {
     "cell_type": "code",
     "collapsed": false,
     "input": [
      "\"{0} {1}\".format(gal.l.format(sep=\":\", unit=u.hour, precision=5), \n",
      "                 gal.b.format(sep=\":\", unit=u.degree, precision=3))"
     ],
     "language": "python",
     "metadata": {},
     "outputs": []
    },
    {
     "cell_type": "markdown",
     "metadata": {},
     "source": [
      "Some magic:"
     ]
    },
    {
     "cell_type": "code",
     "collapsed": false,
     "input": [
      "coord.ICRSCoordinates.from_name(\"NGC 5466\")"
     ],
     "language": "python",
     "metadata": {},
     "outputs": []
    },
    {
     "cell_type": "markdown",
     "metadata": {},
     "source": [
      "Caveats\n",
      "-------\n",
      "\n",
      "* Astropy is still a fairly young project\n",
      "* Still lacking overall cohesion. Eventually, all subpackages will know about one another. For example, FITS files containing data with units will return `Quantity`-like objects that know about units. FITS tables will return `astropy.table.Table` objects...but this isn't in place yet. Bear with us, and some possbile API changes in the next few versions as we inch towards v1.0."
     ]
    },
    {
     "cell_type": "code",
     "collapsed": false,
     "input": [],
     "language": "python",
     "metadata": {},
     "outputs": []
    }
   ],
   "metadata": {}
  }
 ]
}