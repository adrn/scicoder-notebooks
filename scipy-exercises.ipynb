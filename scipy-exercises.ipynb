{
 "metadata": {
  "name": "Scicoder - exercises - scipy"
 },
 "nbformat": 3,
 "nbformat_minor": 0,
 "worksheets": [
  {
   "cells": [
    {
     "cell_type": "markdown",
     "metadata": {},
     "source": [
      "__1.1)__ Define a function to evaluate $f(x) = e^{ax} + b$"
     ]
    },
    {
     "cell_type": "code",
     "collapsed": false,
     "input": [
      "def model(p, x):\n",
      "    a,b = p\n",
      "    return np.sqrt(a*x) + b"
     ],
     "language": "python",
     "metadata": {},
     "outputs": [],
     "prompt_number": 15
    },
    {
     "cell_type": "markdown",
     "metadata": {},
     "source": [
      "__1.2)__ Generate noisy data with the model, setting $a=2.$ and $b=4.$ Use the `plot(x,y)` function to make a simple plot of the data.\n",
      "\n",
      "_hint: use np.random.normal(0., sigma)_"
     ]
    },
    {
     "cell_type": "code",
     "collapsed": false,
     "input": [
      "x = np.random.uniform(0., 10., size=50)\n",
      "x.sort()\n",
      "y = model((2., 4.), x) + np.random.normal(0., 0.2, size=len(x))\n",
      "plot(x,y)"
     ],
     "language": "python",
     "metadata": {},
     "outputs": [
      {
       "metadata": {},
       "output_type": "pyout",
       "prompt_number": 20,
       "text": [
        "[<matplotlib.lines.Line2D at 0x10d6d0c10>]"
       ]
      },
      {
       "metadata": {},
       "output_type": "display_data",
       "png": "[encoded data removed]",
       "text": [
        "<matplotlib.figure.Figure at 0x10d414a90>"
       ]
      }
     ],
     "prompt_number": 20
    },
    {
     "cell_type": "markdown",
     "metadata": {},
     "source": [
      "__1.3)__ Use `scipy.optimize.leastsq` to fit the model to the noisy data and estimate a and b from the noisy data."
     ]
    },
    {
     "cell_type": "markdown",
     "metadata": {},
     "source": [
      "__2.1)__ Define the function $f(x) = e^{-2x+5} + 3x$"
     ]
    },
    {
     "cell_type": "code",
     "collapsed": false,
     "input": [
      "def model(x):\n",
      "    return np.exp(-2.*x+5.) + 3*x"
     ],
     "language": "python",
     "metadata": {},
     "outputs": [],
     "prompt_number": 21
    },
    {
     "cell_type": "markdown",
     "metadata": {},
     "source": [
      "__2.2)__ Calculate the integral $\\int_2^{10} f(x) dx$ by hand"
     ]
    },
    {
     "cell_type": "markdown",
     "metadata": {},
     "source": [
      "__2.3)__ Use `scipy.integrate.quad` to evaluate the integral."
     ]
    },
    {
     "cell_type": "code",
     "collapsed": false,
     "input": [
      "from scipy.integrate import quad\n",
      "quad(model, 2, 10)"
     ],
     "language": "python",
     "metadata": {},
     "outputs": [
      {
       "metadata": {},
       "output_type": "pyout",
       "prompt_number": 22,
       "text": [
        "(145.35914076127835, 4.353818389082804e-10)"
       ]
      }
     ],
     "prompt_number": 22
    },
    {
     "cell_type": "markdown",
     "metadata": {},
     "source": [
      "__3.1)__ You're given two spectra of the same star, from the same spectrograph, but different nights. Between the nights, the diffraction grating shifted slightly so that the wavelength grids of the two spectra don't match. \n",
      "\n",
      "Assume these are your spectra:\n",
      "\n",
      "    wavelength1 = np.array([3000., 3050., 3100., 3150., 3200., 3250., 3300., 3350., 3400., 3450.])\n",
      "    flux1 = np.array([0.000, -0.001, -0.065, -1.048, -4.203, -4.203, -1.048, -0.065, -0.001, 0.000])\n",
      "    \n",
      "    wavelength2 = np.array([3050., 3102.5, 3155., 3207.5, 3260., 3312.5, 3365., 3417.5, 3470., 3522.5])\n",
      "    flux2 = np.array([-0.001, -0.077, -1.282, -4.592, -3.558, -0.596, -0.022, -0.000, -0.000, -0.000])\n",
      "   \n",
      "First, plot the two spectra on the same plot using the same `plot(x,y)` function (we'll return to matplotlib soon, don't worry about making it look nice...)"
     ]
    },
    {
     "cell_type": "code",
     "collapsed": false,
     "input": [
      "wavelength1 = np.array([3000., 3050., 3100., 3150., 3200., 3250., 3300., 3350., 3400., 3450.])\n",
      "flux1 = np.array([0.000, -0.001, -0.065, -1.048, -4.203, -4.203, -1.048, -0.065, -0.001, 0.000])\n",
      "\n",
      "wavelength2 = np.array([3050., 3102.5, 3155., 3207.5, 3260., 3312.5, 3365., 3417.5, 3470., 3522.5])\n",
      "flux2 = np.array([-0.001, -0.077, -1.282, -4.592, -3.558, -0.596, -0.022, -0.000, -0.000, -0.000])"
     ],
     "language": "python",
     "metadata": {},
     "outputs": [],
     "prompt_number": 58
    },
    {
     "cell_type": "code",
     "collapsed": false,
     "input": [
      "plot(wavelength1, flux1, color='b', marker='^', alpha=0.5)\n",
      "plot(wavelength2, flux2, color='r', marker='o', alpha=0.5)"
     ],
     "language": "python",
     "metadata": {},
     "outputs": [
      {
       "metadata": {},
       "output_type": "pyout",
       "prompt_number": 59,
       "text": [
        "[<matplotlib.lines.Line2D at 0x10e27cf10>]"
       ]
      },
      {
       "metadata": {},
       "output_type": "display_data",
       "png": "[encoded data removed]",
       "text": [
        "<matplotlib.figure.Figure at 0x10e3a77d0>"
       ]
      }
     ],
     "prompt_number": 59
    },
    {
     "cell_type": "markdown",
     "metadata": {},
     "source": [
      "__3.2)__ Use `scipy.interpolate.interp1d` to interpolate one spectrum on to the wavelength grid of the other."
     ]
    },
    {
     "cell_type": "code",
     "collapsed": false,
     "input": [
      "from scipy import interpolate\n",
      "interp_func = interpolate.interp1d(wavelength1, flux1, kind='cubic', bounds_error=False)"
     ],
     "language": "python",
     "metadata": {},
     "outputs": [],
     "prompt_number": 63
    },
    {
     "cell_type": "code",
     "collapsed": false,
     "input": [
      "i_flux1 = interp_func(wavelength2)\n",
      "plot(wavelength2, i_flux1, color='b', marker='^', alpha=0.5)\n",
      "plot(wavelength2, flux2, color='r', marker='o', alpha=0.5)"
     ],
     "language": "python",
     "metadata": {},
     "outputs": [
      {
       "metadata": {},
       "output_type": "pyout",
       "prompt_number": 66,
       "text": [
        "[<matplotlib.lines.Line2D at 0x10ec5ef50>]"
       ]
      },
      {
       "metadata": {},
       "output_type": "display_data",
       "png": "[encoded data removed]",
       "text": [
        "<matplotlib.figure.Figure at 0x10ec34050>"
       ]
      }
     ],
     "prompt_number": 66
    },
    {
     "cell_type": "code",
     "collapsed": false,
     "input": [],
     "language": "python",
     "metadata": {},
     "outputs": []
    }
   ],
   "metadata": {}
  }
 ]
}