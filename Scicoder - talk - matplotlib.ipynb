{
 "metadata": {
  "name": "Scicoder - matplotlib"
 },
 "nbformat": 3,
 "nbformat_minor": 0,
 "worksheets": [
  {
   "cells": [
    {
     "cell_type": "heading",
     "level": 1,
     "metadata": {},
     "source": [
      "Matplotlib"
     ]
    },
    {
     "cell_type": "markdown",
     "metadata": {},
     "source": [
      "Convention is to import matplotlib as plt "
     ]
    },
    {
     "cell_type": "code",
     "collapsed": false,
     "input": [
      "import matplotlib.pyplot as plt"
     ],
     "language": "python",
     "metadata": {},
     "outputs": []
    },
    {
     "cell_type": "markdown",
     "metadata": {},
     "source": [
      "But because we started the notebook with the `--pylab` flag, __all functions are already imported for us...along with numpy__. This means we can simply do `plot()` instead of having to do `plt.plot()`."
     ]
    },
    {
     "cell_type": "markdown",
     "metadata": {},
     "source": [
      "------------------"
     ]
    },
    {
     "cell_type": "heading",
     "level": 3,
     "metadata": {},
     "source": [
      "The Basics"
     ]
    },
    {
     "cell_type": "markdown",
     "metadata": {},
     "source": [
      "The easiest way to make a plot is with the plot command:"
     ]
    },
    {
     "cell_type": "code",
     "collapsed": false,
     "input": [
      "x = np.linspace(0, 10, 500)\n",
      "y = np.sin(x**2)\n",
      "\n",
      "figsize(5,5)\n",
      "plot(x, y)"
     ],
     "language": "python",
     "metadata": {},
     "outputs": []
    },
    {
     "cell_type": "markdown",
     "metadata": {},
     "source": [
      "With no other arguments, matplotlib will use default plot style parameters. If my plot looks different from yours, it's because of this! We can tune parameters such as line style, marker type, line width, and color by passing them to the function:"
     ]
    },
    {
     "cell_type": "code",
     "collapsed": false,
     "input": [
      "plot(x, y, color=\"red\", linewidth=2, \n",
      "     marker=\"o\", markerfacecolor=\"blue\", linestyle=\"--\")"
     ],
     "language": "python",
     "metadata": {},
     "outputs": []
    },
    {
     "cell_type": "markdown",
     "metadata": {},
     "source": [
      "___Note: if you publish a plot that looks like the above, you're fired___"
     ]
    },
    {
     "cell_type": "markdown",
     "metadata": {},
     "source": [
      "You can also control the x and y limits of the plot using the `xlim()` and `ylim()` functions"
     ]
    },
    {
     "cell_type": "code",
     "collapsed": false,
     "input": [
      "plot(x, y, color=\"red\", linewidth=2, marker=\"o\", \n",
      "     markerfacecolor=\"blue\", linestyle=\"--\")\n",
      "xlim(2, 4)\n",
      "ylim(-1.5, 1.5)"
     ],
     "language": "python",
     "metadata": {},
     "outputs": []
    },
    {
     "cell_type": "markdown",
     "metadata": {},
     "source": [
      "Adding a title, x axis label, and y axis label is easy with the following functions. Each of these functions also accept Latex, see `xlabel` below for example:"
     ]
    },
    {
     "cell_type": "code",
     "collapsed": false,
     "input": [
      "plot(x, y, color=\"red\", linewidth=2, marker=\"o\", \n",
      "     markerfacecolor=\"blue\", linestyle=\"--\")\n",
      "title(\"This is a plot title\")\n",
      "xlabel(r\"Time [$\\mu s$]\")\n",
      "ylabel(\"Amplitude\")"
     ],
     "language": "python",
     "metadata": {},
     "outputs": []
    },
    {
     "cell_type": "markdown",
     "metadata": {},
     "source": [
      "-----"
     ]
    },
    {
     "cell_type": "heading",
     "level": 3,
     "metadata": {},
     "source": [
      "Multiple plots on one figure"
     ]
    },
    {
     "cell_type": "markdown",
     "metadata": {},
     "source": [
      "It is possible to create some pretty complicated arrangements of subplots using matplotlib and the `gridspec` subpackage, but let's start with making simple grids or multi-plot figures."
     ]
    },
    {
     "cell_type": "code",
     "collapsed": false,
     "input": [
      "x = np.arange(10)\n",
      "y = x**2"
     ],
     "language": "python",
     "metadata": {},
     "outputs": []
    },
    {
     "cell_type": "heading",
     "level": 4,
     "metadata": {},
     "source": [
      "subplots()"
     ]
    },
    {
     "cell_type": "markdown",
     "metadata": {},
     "source": [
      "To make a figure with two plots, side-by-side, I recommend using the `subplots()` function. The function takes two required arguments: the number of rows of plots and the number of columns of plots. The function returns a `Figure` object, and an array of `matplotlib` `Axes` objects. These `Axes` objects are what we draw on:"
     ]
    },
    {
     "cell_type": "code",
     "collapsed": false,
     "input": [
      "fig,axes = subplots(1, 2) # one row, two columns\n",
      "axes[0].plot(x, y)\n",
      "axes[1].plot(-x, y)"
     ],
     "language": "python",
     "metadata": {},
     "outputs": []
    },
    {
     "cell_type": "markdown",
     "metadata": {},
     "source": [
      "Well, that's nice, but not great - there's quite a bit of whitespace between the panels, and we don't need labels on both of the y-axes. In fact, we can __require__ that the y-axis limits are the same on both plots by passing a kwarg in to `subplots`: `sharey=True`. To decrease the space, we use a method on the `Figure` object: `subplots_adjust()`:"
     ]
    },
    {
     "cell_type": "code",
     "collapsed": false,
     "input": [
      "fig,axes = subplots(1, 2, sharey=True)\n",
      "axes[0].plot(x, y)\n",
      "axes[1].plot(-x, y)\n",
      "fig.subplots_adjust(wspace=0.1)"
     ],
     "language": "python",
     "metadata": {},
     "outputs": []
    },
    {
     "cell_type": "markdown",
     "metadata": {},
     "source": [
      "`wspace` stands for 'width space' (and drives me nuts that it is abbreviated). Even more confusing, what units is 0.1 in? It's a fraction: 0.1 means \"space the subplots by 0.1 times the width of the entire figure\"."
     ]
    },
    {
     "cell_type": "markdown",
     "metadata": {},
     "source": [
      "If we want to stack them vertically, that's fine too. Then, instead of `sharey` we use `sharex`, and instead of `wspace` we specify `hspace` (for 'height space'...ugh):"
     ]
    },
    {
     "cell_type": "code",
     "collapsed": false,
     "input": [
      "fig,axes = subplots(2, 1, sharex=True)\n",
      "axes[0].plot(x, y)\n",
      "axes[1].plot(-x, y)\n",
      "fig.subplots_adjust(hspace=0.1)"
     ],
     "language": "python",
     "metadata": {},
     "outputs": []
    },
    {
     "cell_type": "markdown",
     "metadata": {},
     "source": [
      "Once we get past one row or one column, the array of `Axes` returned will be two-dimensional. If we want to make a 4 panel plot, 2x2, that's easy. We can even impose that the plots `sharex` and `sharey`:"
     ]
    },
    {
     "cell_type": "code",
     "collapsed": false,
     "input": [
      "fig,axes = subplots(2, 2, sharex=True, sharey=True)\n",
      "axes[0,0].plot(x, y)\n",
      "axes[0,1].plot(-x, y)\n",
      "axes[1,0].plot(x, -y)\n",
      "axes[1,1].plot(-x, -y)\n",
      "fig.subplots_adjust(wspace=0.1, hspace=0.1)"
     ],
     "language": "python",
     "metadata": {},
     "outputs": []
    },
    {
     "cell_type": "heading",
     "level": 4,
     "metadata": {},
     "source": [
      "gridspec"
     ]
    },
    {
     "cell_type": "markdown",
     "metadata": {},
     "source": [
      "For more complicated layouts of plots, e.g., panels that span multiple columns or rows, use the GridSpec class in matplotlib."
     ]
    },
    {
     "cell_type": "code",
     "collapsed": false,
     "input": [
      "from matplotlib.gridspec import GridSpec"
     ],
     "language": "python",
     "metadata": {},
     "outputs": []
    },
    {
     "cell_type": "code",
     "collapsed": false,
     "input": [
      "figsize(10,10)\n",
      "gs = GridSpec(3,3)\n",
      "\n",
      "subplot(gs[0,:])\n",
      "plot(x, y)\n",
      "\n",
      "subplot(gs[1,0])\n",
      "plot(-x, y)\n",
      "\n",
      "subplot(gs[1,1])\n",
      "plot(x, -y)\n",
      "\n",
      "subplot(gs[2,:2])\n",
      "plot(-x, -y)\n",
      "\n",
      "subplot(gs[1:,2])\n",
      "plot(x, y)"
     ],
     "language": "python",
     "metadata": {},
     "outputs": []
    },
    {
     "cell_type": "markdown",
     "metadata": {},
     "source": [
      "---"
     ]
    },
    {
     "cell_type": "heading",
     "level": 3,
     "metadata": {},
     "source": [
      "Style Arguments"
     ]
    },
    {
     "cell_type": "markdown",
     "metadata": {},
     "source": [
      "One of the confusing things about matplotlib is that there are often many different ways to accomplish the same result. For specifying color, the following all do the same thing:"
     ]
    },
    {
     "cell_type": "code",
     "collapsed": false,
     "input": [
      "fig,axes = subplots(2, 2, figsize=(5,5))\n",
      "axes[0,0].plot(x, y, color=\"red\")\n",
      "axes[1,0].plot(x, y, color=\"r\")\n",
      "axes[0,1].plot(x, y, color=\"#ff0000\")\n",
      "axes[1,1].plot(x, y, color=(1.0,0.,0.))"
     ],
     "language": "python",
     "metadata": {},
     "outputs": []
    },
    {
     "cell_type": "markdown",
     "metadata": {},
     "source": [
      "Various linestyles: solid, dashed, dotted"
     ]
    },
    {
     "cell_type": "code",
     "collapsed": false,
     "input": [
      "plot(x, y, color=\"k\", linewidth=10, linestyle=\"-\", marker=None)\n",
      "plot(x, y, color=\"r\", linewidth=5, linestyle=\"--\", marker=None)\n",
      "plot(x, y, color=\"g\", linewidth=5, linestyle=\":\", marker=None)"
     ],
     "language": "python",
     "metadata": {},
     "outputs": []
    },
    {
     "cell_type": "markdown",
     "metadata": {},
     "source": [
      "---------------------------------"
     ]
    },
    {
     "cell_type": "heading",
     "level": 3,
     "metadata": {},
     "source": [
      "More style arguments"
     ]
    },
    {
     "cell_type": "markdown",
     "metadata": {},
     "source": [
      "Here's an example of how you might tune the plot parameters to make a nice looking figure."
     ]
    },
    {
     "cell_type": "code",
     "collapsed": false,
     "input": [
      "x = np.random.uniform(0, 20, 50)\n",
      "x.sort() # sort the array in place\n",
      "y = x**2 + np.random.normal(0., 10, 50)\n",
      "\n",
      "figsize(8,8)\n",
      "plot(x, y, marker=\"o\", markeredgecolor=\"black\", \n",
      "     markerfacecolor=\"grey\", linestyle=\"none\", \n",
      "     markersize=8, alpha=0.75)\n",
      "plot(x, x**2, linestyle=\"--\", color=\"#991818\", \n",
      "     linewidth=2, alpha=0.75)"
     ],
     "language": "python",
     "metadata": {},
     "outputs": []
    },
    {
     "cell_type": "markdown",
     "metadata": {},
     "source": [
      "----"
     ]
    },
    {
     "cell_type": "heading",
     "level": 3,
     "metadata": {},
     "source": [
      "Histograms"
     ]
    },
    {
     "cell_type": "markdown",
     "metadata": {},
     "source": [
      "Making histograms is done with the `hist()` function, and is used much like the `plot()` function but instead accepts a single data set:"
     ]
    },
    {
     "cell_type": "code",
     "collapsed": false,
     "input": [
      "figsize(5,5)\n",
      "data = np.random.normal(1., 4., 1000)\n",
      "hist(data)"
     ],
     "language": "python",
     "metadata": {},
     "outputs": []
    },
    {
     "cell_type": "code",
     "collapsed": false,
     "input": [
      "data1 = np.random.normal(1., 25, 1000)\n",
      "data2 = np.random.normal(1., 4., 1000)\n",
      "hist(data1)\n",
      "hist(data2)"
     ],
     "language": "python",
     "metadata": {},
     "outputs": []
    },
    {
     "cell_type": "code",
     "collapsed": false,
     "input": [
      "figsize(5,5)\n",
      "\n",
      "data1 = np.random.normal(0., 25, 1000)\n",
      "data2 = np.random.normal(0., 4., 1000)\n",
      "\n",
      "bins = np.linspace(-100, 100, 50)\n",
      "plt.hist(data1, label=\"Demitri\", facecolor=\"red\", alpha=0.5, bins=bins)\n",
      "plt.hist(data2, label=\"Adrian\", facecolor=\"lightblue\", alpha=0.6, bins=bins)\n",
      "plt.xlabel(r\"$5\\times\\eta-75$\")\n",
      "plt.ylabel(\"Number of counts\")\n",
      "plt.legend()"
     ],
     "language": "python",
     "metadata": {},
     "outputs": []
    },
    {
     "cell_type": "code",
     "collapsed": false,
     "input": [
      "data = np.random.normal(1., 4., 1000)\n",
      "hist(data, bins=25, histtype=\"step\", color=\"blue\", linewidth=2)"
     ],
     "language": "python",
     "metadata": {},
     "outputs": []
    },
    {
     "cell_type": "markdown",
     "metadata": {},
     "source": [
      "----"
     ]
    },
    {
     "cell_type": "heading",
     "level": 3,
     "metadata": {},
     "source": [
      "Plots with Error Bars"
     ]
    },
    {
     "cell_type": "markdown",
     "metadata": {},
     "source": [
      "Matplotlib also provides an easy way to make plots with error bars, using the `errorbar()` function. This, again, is called like `plot()`, but accepts arrays of y or x error data."
     ]
    },
    {
     "cell_type": "code",
     "collapsed": false,
     "input": [
      "x = np.random.uniform(0, 20, 50) # draw 50 samples from the uniform distribution from 0 to 20\n",
      "x.sort() # sort the array in place\n",
      "\n",
      "sigma_y = np.random.uniform(0, 30, 50)\n",
      "# passing a list of standard deviations in\n",
      "y = x**2 + np.random.normal(0., sigma_y)\n",
      "\n",
      "figsize(8,8)\n",
      "errorbar(x, y, yerr=sigma_y, xerr=0.5, \n",
      "         linestyle=\"none\", marker=\"o\", markerfacecolor=\"k\", \n",
      "         markersize=5, ecolor=\"grey\", capsize=3)\n",
      "grid()"
     ],
     "language": "python",
     "metadata": {},
     "outputs": []
    },
    {
     "cell_type": "markdown",
     "metadata": {},
     "source": [
      "---"
     ]
    },
    {
     "cell_type": "heading",
     "level": 3,
     "metadata": {},
     "source": [
      "Displaying image data"
     ]
    },
    {
     "cell_type": "markdown",
     "metadata": {},
     "source": [
      "Matplotlib can also be used to visualize image data, using the `imshow()` function. Let's open the M51 FITS file from the Pyfits demo:"
     ]
    },
    {
     "cell_type": "code",
     "collapsed": false,
     "input": [
      "from astropy.io import fits\n",
      "hdulist = fits.open(\"../data/M51.fits\")\n",
      "image_data = hdulist[0].data"
     ],
     "language": "python",
     "metadata": {},
     "outputs": []
    },
    {
     "cell_type": "code",
     "collapsed": false,
     "input": [
      "imshow(image_data)"
     ],
     "language": "python",
     "metadata": {},
     "outputs": []
    },
    {
     "cell_type": "markdown",
     "metadata": {},
     "source": [
      "Well, that kind of looks like a galaxy...To make it look a bit nicer, let's change the pixel interpolation scheme, change the colormap, and make it a bit larger."
     ]
    },
    {
     "cell_type": "code",
     "collapsed": false,
     "input": [
      "figsize(10,10)\n",
      "# cm (colormaps) is automatically imported by the --pylab flag\n",
      "imshow(image_data, interpolation=\"nearest\", cmap=cm.Greys)"
     ],
     "language": "python",
     "metadata": {},
     "outputs": []
    },
    {
     "cell_type": "markdown",
     "metadata": {},
     "source": [
      "That's almost there -- now let's scale the data using a square-root function, and reverse the colormap (`Greys` -> `Greys_r`)"
     ]
    },
    {
     "cell_type": "code",
     "collapsed": false,
     "input": [
      "figsize(10,10)\n",
      "imshow(np.sqrt(image_data), interpolation=\"nearest\", cmap=cm.Greys_r)"
     ],
     "language": "python",
     "metadata": {},
     "outputs": []
    },
    {
     "cell_type": "markdown",
     "metadata": {},
     "source": [
      "-------"
     ]
    },
    {
     "cell_type": "heading",
     "level": 3,
     "metadata": {},
     "source": [
      "Other Useful Functionality"
     ]
    },
    {
     "cell_type": "heading",
     "level": 3,
     "metadata": {},
     "source": [
      "Log plots"
     ]
    },
    {
     "cell_type": "markdown",
     "metadata": {},
     "source": [
      "There are two ways to make log plots. One is to use one of the `loglog()`, `semilogx()`, or `semilogy()` functions:"
     ]
    },
    {
     "cell_type": "code",
     "collapsed": false,
     "input": [
      "figsize(5,5)"
     ],
     "language": "python",
     "metadata": {},
     "outputs": []
    },
    {
     "cell_type": "code",
     "collapsed": false,
     "input": [
      "x = np.logspace(1, 4, 25)\n",
      "y = 3.*x**4.2 + 10\n",
      "loglog(x, y)"
     ],
     "language": "python",
     "metadata": {},
     "outputs": []
    },
    {
     "cell_type": "code",
     "collapsed": false,
     "input": [
      "x = np.logspace(1, 4, 25)\n",
      "y = 3.*x**4.2 + 10\n",
      "semilogx(x, y)"
     ],
     "language": "python",
     "metadata": {},
     "outputs": []
    },
    {
     "cell_type": "code",
     "collapsed": false,
     "input": [
      "x = np.logspace(1, 4, 25)\n",
      "y = 3.*x**4.2 + 10\n",
      "semilogy(x, y)"
     ],
     "language": "python",
     "metadata": {},
     "outputs": []
    },
    {
     "cell_type": "markdown",
     "metadata": {},
     "source": [
      "The other method is to make a plot as normal, using the `plot()` function, and then set the scale of the x or y axis to \"log\":"
     ]
    },
    {
     "cell_type": "code",
     "collapsed": false,
     "input": [
      "x = np.logspace(1, 4, 25)\n",
      "y = 3.*x**4.2 + 10\n",
      "plot(x, y)\n",
      "xscale(\"log\")\n",
      "yscale(\"log\")"
     ],
     "language": "python",
     "metadata": {},
     "outputs": []
    },
    {
     "cell_type": "heading",
     "level": 3,
     "metadata": {},
     "source": [
      "All-sky projections"
     ]
    },
    {
     "cell_type": "markdown",
     "metadata": {},
     "source": [
      "Often in astronomy we want to plot spherical coordinates, like RA and Dec, and show object positions on the sky. We can do that by specifying a projection when making the plot with one extra line of code:"
     ]
    },
    {
     "cell_type": "code",
     "collapsed": false,
     "input": [
      "ra = np.radians(np.random.uniform(-180, 180, 100))\n",
      "dec = np.arccos(np.random.uniform(-1., 1., 100)) - np.pi/2.\n",
      "\n",
      "figsize(12,8)\n",
      "subplot(111, projection=\"hammer\")\n",
      "plot(ra, dec, marker=\"o\", linestyle=\"none\")"
     ],
     "language": "python",
     "metadata": {},
     "outputs": []
    },
    {
     "cell_type": "markdown",
     "metadata": {},
     "source": [
      "__One caveat is that even though matplotlib displays the coordinates in _degrees_, the plot function for a spherical projection expects angles in _radians___! Also, the bounds of the longitudinal angle (in this case, RA) have to be (-180,180) or (-$\\pi$,$\\pi$).\n",
      "\n",
      "Projections accepted are:\n",
      "\n",
      " * Aitoff\n",
      " * Hammer\n",
      " * Mollweide\n",
      " * Lambert"
     ]
    },
    {
     "cell_type": "heading",
     "level": 2,
     "metadata": {},
     "source": [
      "Customizing the defaults"
     ]
    },
    {
     "cell_type": "markdown",
     "metadata": {},
     "source": [
      "When you draw a plot, matplotlib will check the following places (in order) to figure out how to style the plot:\n",
      "\n",
      "1. the style parameters in the function you call (e.g., `plot(x, y, linestyle='none')`)\n",
      "2. a dictionary called `rcParams` (you can tweak global plot settings by setting styles in there)\n",
      "3. a file named `matplotlibrc` located in your home directory: `~/.matplotlib/matplotlibrc`\n",
      "4. the hard-coded defaults that come with matplotlib\n",
      "\n",
      "If at any of these steps, the object doesn't exist, it jumps to the next one. Most matplotlib installs don't come with a `matplotlibrc` file, for instance, so if you fire up a `plot(x,y)` command with no style arguments, it jumps directly down to the hard-coded defaults built in to matplotlib. Included in this repository (under `misc/`) is a matplotlibrc file. \n",
      "\n",
      "1. Copy that file to `~/.matplotlib/matplotlibrc`\n",
      "2. In the iPython notebook, click Kernel -> Restart\n",
      "3. Re-run the first plotting cell at the top of this notebook\n",
      "4. ??\n",
      "5. Profit!"
     ]
    },
    {
     "cell_type": "markdown",
     "metadata": {},
     "source": [
      "The new version of matplotlib also offers a __context manager__. Let's see a demo of how this would work, and why you might find it useful. Let's say I have a Python script to make the figures in a paper I'm writing. I want to make sure that the font size, figure size, etc. is the same for all of the figures, so I can set those parameters at the top of the file using the `rcParams` dictionary:"
     ]
    },
    {
     "cell_type": "code",
     "collapsed": false,
     "input": [
      "from matplotlib import rcParams\n",
      "rcParams['figure.figsize'] = (10,10)\n",
      "rcParams['font.size'] = 24\n",
      "# etc."
     ],
     "language": "python",
     "metadata": {},
     "outputs": []
    },
    {
     "cell_type": "markdown",
     "metadata": {},
     "source": [
      "But now let's say I have several subplots, or several plot commands that I want to have the same style. I could copy and paste the style arguments:"
     ]
    },
    {
     "cell_type": "code",
     "collapsed": false,
     "input": [
      "plot(np.random.random(100), np.random.random(100), color='m', linestyle='--',\n",
      "     marker='^', markeredgecolor='k', markeredgewidth=3, markersize=15)\n",
      "plot(np.random.random(100), np.random.random(100), color='c', linestyle='--',\n",
      "     marker='^', markeredgecolor='k', markeredgewidth=3, markersize=15)\n",
      "plot(np.random.random(100), np.random.random(100), color='y', linestyle='--',\n",
      "     marker='^', markeredgecolor='k', markeredgewidth=3, markersize=15)"
     ],
     "language": "python",
     "metadata": {},
     "outputs": []
    },
    {
     "cell_type": "markdown",
     "metadata": {},
     "source": [
      "Alternatively, I could use the __context manager__ to set the common parameters for all plots within an indented block. In this case, `my_rc_params` are only applied to plot statements in the indented block under the `with` statement:"
     ]
    },
    {
     "cell_type": "code",
     "collapsed": false,
     "input": [
      "from matplotlib import rc_context\n",
      "\n",
      "my_rc_params = {'lines.marker' : '^',\n",
      "                'lines.markeredgewidth' : 3,\n",
      "                'lines.markersize' : 15,\n",
      "                'lines.markeredgecolor' : 'k',\n",
      "                'lines.linestyle' : '--'}\n",
      "\n",
      "with rc_context(my_rc_params):\n",
      "    plot(np.random.random(100), np.random.random(100), color='m')\n",
      "    plot(np.random.random(100), np.random.random(100), color='c')\n",
      "    plot(np.random.random(100), np.random.random(100), color='y')"
     ],
     "language": "python",
     "metadata": {},
     "outputs": []
    },
    {
     "cell_type": "code",
     "collapsed": false,
     "input": [],
     "language": "python",
     "metadata": {},
     "outputs": []
    }
   ],
   "metadata": {}
  }
 ]
}